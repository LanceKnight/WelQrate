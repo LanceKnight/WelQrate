{
 "cells": [
  {
   "cell_type": "markdown",
   "metadata": {},
   "source": [
    "# 0. Import necessary packages"
   ]
  },
  {
   "cell_type": "code",
   "execution_count": 1,
   "metadata": {},
   "outputs": [
    {
     "name": "stderr",
     "output_type": "stream",
     "text": [
      "[00:15:20] Initializing Normalizer\n"
     ]
    }
   ],
   "source": [
    "import numpy as np\n",
    "import pandas as pd\n",
    "import requests\n",
    "import os\n",
    "import json\n",
    "import tqdm\n",
    "\n",
    "from rdkit import Chem\n",
    "from tqdm import tqdm\n",
    "from thermo import functional_groups\n",
    "from Bio import Entrez\n",
    "from chembl_structure_pipeline import checker\n",
    "\n",
    "from rdkit.Chem import rdMolDescriptors, Descriptors, Lipinski, Crippen, inchi\n",
    "from rdkit.Chem.FilterCatalog import FilterCatalog, FilterCatalogParams\n",
    "from concurrent.futures import ThreadPoolExecutor, as_completed\n",
    "\n",
    "from data_gathering import download_and_save"
   ]
  },
  {
   "cell_type": "code",
   "execution_count": 2,
   "metadata": {},
   "outputs": [],
   "source": [
    "data_folder = 'data/AID2689' # Name your data folder\n",
    "dataset_name = 'AID_2689_Serine_Threonin_Kinase_33_inhibitor' # Name your dataset\n",
    "if not os.path.exists(data_folder):\n",
    "    os.makedirs(data_folder)"
   ]
  },
  {
   "cell_type": "markdown",
   "metadata": {},
   "source": [
    "# 1. Data gathering"
   ]
  },
  {
   "cell_type": "markdown",
   "metadata": {},
   "source": [
    "Before importing data, need to identify which AIDs will be included. Data will be imported from https://pubchem.ncbi.nlm.nih.gov/assay/pcget. For more information on PubChem's programmatic access, refer to: https://pubchem.ncbi.nlm.nih.gov/docs/bioassays. Some other programmatic access options available such as PUG-REST. However, these might not be optimal for bulk retrieval or handling of large dataset due to the limitation of request volume. \n",
    "\n",
    "Data for individual assays include 7 required columns (CIDs, isomeric SMILES, etc.) and optional test results. Refer to https://ftp.ncbi.nlm.nih.gov/pubchem/Bioassay/CSV/README for further details. For datasets intended for regression model, additional columns could be extracted accordingly."
   ]
  },
  {
   "cell_type": "code",
   "execution_count": 3,
   "metadata": {},
   "outputs": [
    {
     "name": "stdout",
     "output_type": "stream",
     "text": [
      "Number of datasets retrieving:  3\n"
     ]
    }
   ],
   "source": [
    "# Desired AIDs:\n",
    "AIDs = [2661, 2821, 504583]\n",
    "\n",
    "#Keep unique values in list AIDs (since there could be overlapping AIDs from different targets or project)\n",
    "AIDs = list(set(AIDs))\n",
    "AIDs = [str(AID) for AID in AIDs]\n",
    "print('Number of datasets retrieving: ', len(AIDs))"
   ]
  },
  {
   "cell_type": "code",
   "execution_count": 4,
   "metadata": {},
   "outputs": [
    {
     "name": "stdout",
     "output_type": "stream",
     "text": [
      "1 out of 3 complete\n",
      "2 out of 3 complete\n",
      "3 out of 3 complete\n"
     ]
    }
   ],
   "source": [
    "#Data to be extracted from the assay:\n",
    "col_list = ['PUBCHEM_CID','PUBCHEM_EXT_DATASOURCE_SMILES', 'PUBCHEM_ACTIVITY_OUTCOME']\n",
    "download_and_save(AIDs, data_folder, col_list)"
   ]
  },
  {
   "cell_type": "markdown",
   "metadata": {},
   "source": [
    "# 2. Isomeric SMILES"
   ]
  },
  {
   "cell_type": "markdown",
   "metadata": {},
   "source": [
    "For the purpose of our project, we would like to include isomeric form of SMILES representation in our final dataset. Although PubChem claimed that their datatable should include isomeric SMILES (https://pubchem.ncbi.nlm.nih.gov/docs/bioassays), some dataset might include non-isomeric SMILES. This step is to import isomeric SMILES based on CIDs. \n",
    "\n",
    "Several packages such as RDkit have modules to return isomeric SMILES from a given input SMILES. However, for consistency, we decided to use the PubChem Identifier Exchange Service, which take an input identifier (CIDs, SMILES, InChI, etc.)  and return the corresponding identifier (CIDs, isomeric SMILES, InChIs, etc.). Here, we export the list of CIDs for compounds in our dataset and use this server to retrieve their isomeric SMILES. For more information, refer to: https://pubchem.ncbi.nlm.nih.gov/docs/identifier-exchange-service"
   ]
  },
  {
   "cell_type": "code",
   "execution_count": 5,
   "metadata": {},
   "outputs": [
    {
     "data": {
      "text/plain": [
       "'\\nAfter this step, submit the lists of CIDs at https://pubchem.ncbi.nlm.nih.gov/idexchange/idexchange.cgi \\n    Operator type: \"same CID\" \\n    Output IDs \"SMILES\" (isomeric SMILES by default) \\n    Output method: \"Two column file showing each input output-correspondence\"\\n    Compression: \"No compression\"\\nRefer to https://pubchem.ncbi.nlm.nih.gov/docs/identifier-exchange-service for more details.\\nThe output files (converted isomeric SMILES) should be named as \"isomeric_smi_{AID}.txt\" and saved to the \"step_2\" folder.\\n'"
      ]
     },
     "execution_count": 5,
     "metadata": {},
     "output_type": "execute_result"
    }
   ],
   "source": [
    "#Create a new step folder:\n",
    "if not os.path.exists(f'{data_folder}/before_finished/step_2'):\n",
    "    os.makedirs(f'{data_folder}/before_finished/step_2')\n",
    "\n",
    "#Export list of CIDs to csv with one column without the column name:\n",
    "for AID in AIDs:\n",
    "    assay = pd.read_csv(f'{data_folder}/before_finished/step_1/AID{AID}.csv')\n",
    "    assay['PUBCHEM_CID'].to_csv(f'{data_folder}/before_finished/step_2/CID{AID}.csv', index=False, header=False)\n",
    "    \n",
    "\"\"\"\n",
    "After this step, submit the lists of CIDs at https://pubchem.ncbi.nlm.nih.gov/idexchange/idexchange.cgi \n",
    "    Operator type: \"same CID\" \n",
    "    Output IDs \"SMILES\" (isomeric SMILES by default) \n",
    "    Output method: \"Two column file showing each input output-correspondence\"\n",
    "    Compression: \"No compression\"\n",
    "Refer to https://pubchem.ncbi.nlm.nih.gov/docs/identifier-exchange-service for more details.\n",
    "The output files (converted isomeric SMILES) should be named as \"isomeric_smi_{AID}.txt\" and saved to the \"step_2\" folder.\n",
    "\"\"\""
   ]
  },
  {
   "cell_type": "code",
   "execution_count": 6,
   "metadata": {},
   "outputs": [],
   "source": [
    "def check_isomeric_smiles(AIDs):\n",
    "    \"\"\"\n",
    "    Check if the SMILES in the assay are isomeric or not.\n",
    "    Input: AIDs (list of strings)\n",
    "    Output: non_isomeric_smi_cids (dictionary with AID as key and list of non-isomeric CIDs as values for the datasets in AIDs\n",
    "    \"\"\"\n",
    "    non_isomeric_smi_cids = {}\n",
    "    for AID in AIDs:    \n",
    "        non_isomeric_smi_cids[AID] = []\n",
    "        #import SMILES.txt file as a table:\n",
    "        correct_isomeric_smiles = pd.read_csv(f'{data_folder}/before_finished/step_2/isomeric_smi_{AID}.txt', sep='\\t', header=None)\n",
    "        assay = pd.read_csv(f'{data_folder}/before_finished/step_1/AID{AID}.csv')\n",
    "\n",
    "        #compare smiles in assay with smiles in correct_smiles:\n",
    "        for cid in assay['PUBCHEM_CID']:\n",
    "            if assay.loc[assay['PUBCHEM_CID'] == cid, 'PUBCHEM_EXT_DATASOURCE_SMILES'].values[0] != correct_isomeric_smiles.loc[correct_isomeric_smiles[0] == cid, 1].values[0]:\n",
    "                non_isomeric_smi_cids[AID].append(cid)\n",
    "\n",
    "        if len(non_isomeric_smi_cids[AID]) == 0:\n",
    "            print(f'All SMILES in AID {AID} are isomeric')\n",
    "        else:\n",
    "            print(f'There are some non-isomeric SMILES in AID {AID}:')\n",
    "            print(non_isomeric_smi_cids[AID])\n",
    "\n",
    "    return non_isomeric_smi_cids\n",
    "\n",
    "def update_isomeric(AIDs, non_isomeric_smi_cids):\n",
    "    \"\"\"\n",
    "    Update the SMILES in the assay to isomeric SMILES.\n",
    "    Input: AIDs (list of strings), non_isomeric_smi_cids (dictionary with AID as key and list of non-isomeric CIDs as values)\n",
    "    \"\"\"\n",
    "    with open(f'{data_folder}/before_finished/step_2/non_isomeric_smi_cids.txt', 'w') as f:\n",
    "        # record the non-isomeric SMILES \n",
    "        for AID in AIDs:\n",
    "            assay = pd.read_csv(f'{data_folder}/before_finished/step_1/AID{AID}.csv')\n",
    "            correct_isomeric_smiles = pd.read_csv(f'{data_folder}/before_finished/step_2/isomeric_smi_{AID}.txt', sep='\\t', header=None)\n",
    "            f.write(f'AID {AID}: {non_isomeric_smi_cids[AID]}\\n')\n",
    "\n",
    "            for cid in non_isomeric_smi_cids[AID]:\n",
    "                f.write(f'CID {cid}: {assay.loc[assay[\"PUBCHEM_CID\"] == cid, \"PUBCHEM_EXT_DATASOURCE_SMILES\"].values[0]} -> {correct_isomeric_smiles.loc[correct_isomeric_smiles[0] == cid, 1].values[0]}\\n')\n",
    "                assay.loc[assay['PUBCHEM_CID'] == cid, 'PUBCHEM_EXT_DATASOURCE_SMILES'] = correct_isomeric_smiles.loc[correct_isomeric_smiles[0] == cid, 1].values[0]\n",
    "\n",
    "            f.write(f'===\\n')\n",
    "            assay.to_csv(f'{data_folder}/before_finished/step_2/AID{AID}.csv', index=False)       "
   ]
  },
  {
   "cell_type": "code",
   "execution_count": 7,
   "metadata": {},
   "outputs": [
    {
     "name": "stdout",
     "output_type": "stream",
     "text": [
      "All SMILES in AID 2821 are isomeric\n",
      "There are some non-isomeric SMILES in AID 2661:\n",
      "[1952060, 1979247, 2997662, 3330059, 1829082, 3593962, 3640026, 3730758, 2997957, 2999888]\n",
      "All SMILES in AID 504583 are isomeric\n"
     ]
    }
   ],
   "source": [
    "non_isomeric_smi_cids = check_isomeric_smiles(AIDs)"
   ]
  },
  {
   "cell_type": "markdown",
   "metadata": {},
   "source": [
    "Note: Here they returned that three smiles in AID449739 were not isomeric. This shows that the SMILES representation of some compounds in the given datasets might not be isomeric."
   ]
  },
  {
   "cell_type": "code",
   "execution_count": 8,
   "metadata": {},
   "outputs": [],
   "source": [
    "update_isomeric(AIDs, non_isomeric_smi_cids)"
   ]
  },
  {
   "cell_type": "markdown",
   "metadata": {},
   "source": [
    "# 3. InChI"
   ]
  },
  {
   "cell_type": "markdown",
   "metadata": {},
   "source": [
    "We would like to include standard InChI to diversify users' choice of which data they would like to use for their own benchmark. "
   ]
  },
  {
   "cell_type": "code",
   "execution_count": 9,
   "metadata": {},
   "outputs": [],
   "source": [
    "# Create a new step folder:\n",
    "if not os.path.exists(f'{data_folder}/before_finished/step_3'):\n",
    "    os.makedirs(f'{data_folder}/before_finished/step_3')"
   ]
  },
  {
   "cell_type": "markdown",
   "metadata": {},
   "source": [
    "Again, it is convenient to use the PubChem Identifier Exchange Service (https://pubchem.ncbi.nlm.nih.gov/idexchange/idexchange.cgi) with operator type \"same CID\" and Output IDs \"InChI\" to retrieve InChI from a given list of input CIDs. The same CID lists from STEP 2 could be used here. The resulted InChIs could be checked if being standard by indentifying the presence of 'InChI=1S' at the begining of each InChI string."
   ]
  },
  {
   "cell_type": "code",
   "execution_count": 10,
   "metadata": {},
   "outputs": [],
   "source": [
    "\"\"\"\n",
    "CID lists (in \"step_2\" folder should be submitted to PubChem Identifier Exchange Service)\n",
    "    Operator type: \"same CID\" \n",
    "    Output IDs \"InChI\"\n",
    "    Output method: \"Two column file showing each input output-correspondence\"\n",
    "    Compression: \"No compression\"\n",
    "InChI list should be saved into \"step_3\" folder, named as \"std_inchi_{AID}.txt\" \n",
    "\"\"\"\n",
    "# Import dataframes:\n",
    "for AID in AIDs: \n",
    "    exec(f'AID{AID} = pd.read_csv(\"{data_folder}/before_finished/step_2/AID{AID}.csv\")')\n",
    "    exec(f'AID{AID}_InChI = pd.read_csv(\"{data_folder}/before_finished/step_3/std_inchi_{AID}.txt\", sep=\"\\\\t\", header=None)')"
   ]
  },
  {
   "cell_type": "code",
   "execution_count": 11,
   "metadata": {},
   "outputs": [
    {
     "name": "stdout",
     "output_type": "stream",
     "text": [
      "All InChI in AID2821 are standard\n",
      "All InChI in AID2661 are standard\n",
      "All InChI in AID504583 are standard\n"
     ]
    }
   ],
   "source": [
    "#Check if they are all standard InChI:\n",
    "for AID in AIDs:\n",
    "    check_inchi = f\"\"\"\n",
    "non_standard_InChI = []\n",
    "for i in range(len(AID{AID}_InChI[1])):\n",
    "    if not AID{AID}_InChI[1][i].startswith('InChI=1S'):\n",
    "        non_standard_InChI.append(AID{AID}_InChI[1][i])\n",
    "if not non_standard_InChI:\n",
    "    print('All InChI in AID{AID} are standard')\n",
    "else:\n",
    "    print('There are some non-standard InChI in AID{AID}')\n",
    "    print(non_standard_InChI)\n",
    "    print('===')\n",
    "\"\"\"\n",
    "    exec(check_inchi)"
   ]
  },
  {
   "cell_type": "markdown",
   "metadata": {},
   "source": [
    "Now we concatenate the InChIs in our tables:"
   ]
  },
  {
   "cell_type": "code",
   "execution_count": 12,
   "metadata": {},
   "outputs": [],
   "source": [
    "# Update and save the files\n",
    "for AID in AIDs: \n",
    "    update_inchi = f\"\"\"\n",
    "AID{AID}_InChI_dict = dict(zip(AID{AID}_InChI[0], AID{AID}_InChI[1]))\n",
    "AID{AID}['InChI'] = AID{AID}['PUBCHEM_CID'].map(AID{AID}_InChI_dict)\n",
    "AID{AID}['InChI'] = AID{AID}['InChI'].astype(str)\n",
    "AID{AID}.to_csv(r\"{data_folder}/before_finished/step_3/AID{AID}.csv\", index=False)\n",
    "\"\"\"\n",
    "    exec(update_inchi)"
   ]
  },
  {
   "cell_type": "markdown",
   "metadata": {},
   "source": [
    "# 4. Check duplicates"
   ]
  },
  {
   "cell_type": "markdown",
   "metadata": {},
   "source": [
    "When checking duplicates in the datasets, we would like to know if there are\n",
    "1) Multiple identical molecules\n",
    "2) Molecules with identical CID but different InChIs or SMILES\n",
    "3) Molecules with identical InChI but with different CIDs or SMILES"
   ]
  },
  {
   "cell_type": "code",
   "execution_count": 13,
   "metadata": {},
   "outputs": [],
   "source": [
    "#import:\n",
    "for AID in AIDs:\n",
    "    exec(f\"AID{AID} = pd.read_csv(r'{data_folder}/before_finished/step_3/AID{AID}.csv', sep=',', header=0)\")"
   ]
  },
  {
   "cell_type": "code",
   "execution_count": 14,
   "metadata": {},
   "outputs": [],
   "source": [
    "#Create a new step folder:\n",
    "if not os.path.exists(f'{data_folder}/before_finished/step_4'):\n",
    "    os.makedirs(f'{data_folder}/before_finished/step_4')"
   ]
  },
  {
   "cell_type": "markdown",
   "metadata": {},
   "source": [
    "## 4.1. Checking identical molecules"
   ]
  },
  {
   "cell_type": "code",
   "execution_count": 15,
   "metadata": {},
   "outputs": [
    {
     "name": "stdout",
     "output_type": "stream",
     "text": [
      "Number of AID2821 InChI duplicates:  0\n",
      "Number of AID2821 SMILES duplicates:  0\n",
      "Number of AID2821 CID duplicates:  0\n",
      "Number of AID2661 InChI duplicates:  250\n",
      "Number of AID2661 SMILES duplicates:  200\n",
      "Number of AID2661 CID duplicates:  198\n",
      "Number of AID504583 InChI duplicates:  0\n",
      "Number of AID504583 SMILES duplicates:  0\n",
      "Number of AID504583 CID duplicates:  0\n"
     ]
    }
   ],
   "source": [
    "#Return all duplicates by comparing InChI, SMILES, and CIDs:\n",
    "for AID in AIDs:\n",
    "    check_duplicate = f\"\"\"\n",
    "AID{AID}_duplicates_InChI = AID{AID}[AID{AID}.duplicated(subset=['InChI'], keep=False)]\n",
    "AID{AID}_duplicates_SMILES = AID{AID}[AID{AID}.duplicated(subset=['PUBCHEM_EXT_DATASOURCE_SMILES'], keep=False)]\n",
    "AID{AID}_duplicates_CIDs = AID{AID}[AID{AID}.duplicated(subset=['PUBCHEM_CID'], keep=False)]\n",
    "print('Number of AID{AID} InChI duplicates: ', len(AID{AID}_duplicates_InChI))\n",
    "print('Number of AID{AID} SMILES duplicates: ', len(AID{AID}_duplicates_SMILES))\n",
    "print('Number of AID{AID} CID duplicates: ', len(AID{AID}_duplicates_CIDs))\n",
    "\"\"\"\n",
    "    exec(check_duplicate)"
   ]
  },
  {
   "cell_type": "code",
   "execution_count": 16,
   "metadata": {},
   "outputs": [],
   "source": [
    "#write duplicates to a txt file: \n",
    "with open(f'{data_folder}/before_finished/step_4/duplicates.txt', 'w') as f:\n",
    "    for AID in AIDs: \n",
    "        duplicates_InChI = eval(f'AID{AID}_duplicates_InChI')\n",
    "        duplicates_SMILES = eval(f'AID{AID}_duplicates_SMILES')\n",
    "        duplicates_CIDs = eval(f'AID{AID}_duplicates_CIDs')\n",
    "        f.write(f'\\n\\nAID{AID} InChI duplicates:\\n')\n",
    "        f.write(duplicates_InChI.to_string())\n",
    "        f.write(f'\\nAID{AID} SMILES duplicates:\\n')\n",
    "        f.write(duplicates_SMILES.to_string())\n",
    "        f.write(f'\\nAID{AID} CID duplicates:\\n')\n",
    "        f.write(duplicates_CIDs.to_string())"
   ]
  },
  {
   "cell_type": "markdown",
   "metadata": {},
   "source": [
    "## 4.2. Same CIDs but different chemical representations"
   ]
  },
  {
   "cell_type": "code",
   "execution_count": 17,
   "metadata": {},
   "outputs": [],
   "source": [
    "#reindex\n",
    "for AID in AIDs: \n",
    "    exec(f\"AID{AID}_duplicates_CIDs.reset_index(drop=True, inplace=True)\")"
   ]
  },
  {
   "cell_type": "code",
   "execution_count": 18,
   "metadata": {},
   "outputs": [],
   "source": [
    "with open(f'{data_folder}/before_finished/step_4/sameCID_different_others.txt', 'w') as f:\n",
    "    for AID in AIDs: \n",
    "        sameCID_differentInChI = []\n",
    "        sameCID_differentSMILES = []\n",
    "        duplicates_CIDs = eval(f'AID{AID}_duplicates_CIDs')\n",
    "        for i in range(len(duplicates_CIDs['PUBCHEM_CID'])):\n",
    "            for j in range(i+1, len(duplicates_CIDs['PUBCHEM_CID'])):\n",
    "                if duplicates_CIDs['PUBCHEM_CID'][i] == duplicates_CIDs['PUBCHEM_CID'][j]:\n",
    "                    if duplicates_CIDs['InChI'][i] != duplicates_CIDs['InChI'][j]:\n",
    "                        sameCID_differentInChI.append((duplicates_CIDs['PUBCHEM_CID'][i], duplicates_CIDs['PUBCHEM_CID'][j]))\n",
    "                    if duplicates_CIDs['PUBCHEM_EXT_DATASOURCE_SMILES'][i] != duplicates_CIDs['PUBCHEM_EXT_DATASOURCE_SMILES'][j]:\n",
    "                        sameCID_differentSMILES.append((duplicates_CIDs['PUBCHEM_CID'][i], duplicates_CIDs['PUBCHEM_CID'][j]))\n",
    "\n",
    "        if sameCID_differentInChI == []:\n",
    "            f.write(f'No duplicate CIDs with different InChIs in AID{AID}\\n')\n",
    "        else:\n",
    "            f.write('Found duplicate CIDs with different InChIs in AID{AID}:\\n')\n",
    "            f.write('\\n'.join(str(item) for item in sameCID_differentInChI))\n",
    "            f.write(\"\\n\")\n",
    "        \n",
    "        if sameCID_differentSMILES == []:\n",
    "            f.write(f'No duplicate CIDs with different SMILES in AID{AID}\\n')\n",
    "        else:\n",
    "            f.write(f'Found duplicate CIDs with different SMILES in AID{AID}:\\n')\n",
    "            f.write('\\n'.join(str(item) for item in sameCID_differentSMILES))\n",
    "            f.write(\"\\n\")\n",
    "        f.write(\"===\\n\")"
   ]
  },
  {
   "cell_type": "markdown",
   "metadata": {},
   "source": [
    "## 4.3. Same InChI but with different CIDs or SMILES"
   ]
  },
  {
   "cell_type": "code",
   "execution_count": 19,
   "metadata": {},
   "outputs": [],
   "source": [
    "#reindex\n",
    "for AID in AIDs: \n",
    "    exec(f\"AID{AID}_duplicates_InChI.reset_index(drop=True, inplace=True)\")"
   ]
  },
  {
   "cell_type": "code",
   "execution_count": 20,
   "metadata": {},
   "outputs": [],
   "source": [
    "with open(f'{data_folder}/before_finished/step_4/sameInChI_different_others.txt', 'w') as f:\n",
    "    for AID in AIDs: \n",
    "        sameInChI_differentCID = []\n",
    "        sameInChI_differentSMILES = []\n",
    "        duplicates_InChI = eval(f'AID{AID}_duplicates_InChI')\n",
    "        for i in range(len(duplicates_InChI['InChI'])):\n",
    "            for j in range(i+1, len(duplicates_InChI['InChI'])):\n",
    "                if duplicates_InChI['InChI'][i] == duplicates_InChI['InChI'][j]:\n",
    "                    if duplicates_InChI['PUBCHEM_CID'][i] != duplicates_InChI['PUBCHEM_CID'][j]:\n",
    "                        sameInChI_differentCID.append((duplicates_InChI['PUBCHEM_CID'][i], duplicates_InChI['PUBCHEM_CID'][j]))\n",
    "                    if duplicates_InChI['PUBCHEM_EXT_DATASOURCE_SMILES'][i] != duplicates_InChI['PUBCHEM_EXT_DATASOURCE_SMILES'][j]:\n",
    "                        sameInChI_differentSMILES.append((duplicates_InChI['PUBCHEM_CID'][i], duplicates_InChI['PUBCHEM_CID'][j]))\n",
    "        \n",
    "        if sameInChI_differentCID == []:\n",
    "            f.write(f'No duplicate InChIs with different CIDs in AID{AID}\\n')\n",
    "        else:\n",
    "            f.write('Found duplicate InChIs with different CIDs in AID{AID}:\\n')\n",
    "            f.write('\\n'.join(str(item) for item in sameInChI_differentCID))\n",
    "            f.write(\"\\n\")\n",
    "        \n",
    "        if sameInChI_differentSMILES == []:\n",
    "            f.write(f'No duplicate InChIs with different SMILES in AID{AID}\\n')\n",
    "        else:\n",
    "            f.write(f'Found duplicate InChIs with different SMILES in AID{AID}:\\n')\n",
    "            f.write('\\n'.join(str(item) for item in sameInChI_differentSMILES))\n",
    "            f.write(\"\\n\")\n",
    "        f.write(\"===\\n\")\n"
   ]
  },
  {
   "cell_type": "markdown",
   "metadata": {},
   "source": [
    "## 4.5 Same SMILES but with different CIDs or SMILES"
   ]
  },
  {
   "cell_type": "code",
   "execution_count": 21,
   "metadata": {},
   "outputs": [],
   "source": [
    "#reindex\n",
    "for AID in AIDs: \n",
    "    exec(f\"AID{AID}_duplicates_SMILES.reset_index(drop=True, inplace=True)\")"
   ]
  },
  {
   "cell_type": "code",
   "execution_count": 22,
   "metadata": {},
   "outputs": [],
   "source": [
    "with open(f'{data_folder}/before_finished/step_4/sameSMILES_different_others.txt', 'w') as f:\n",
    "    for AID in AIDs: \n",
    "        sameSMILES_differentCID = []\n",
    "        sameSMILES_differentInChI = []\n",
    "        duplicates_SMILES = eval(f'AID{AID}_duplicates_SMILES')\n",
    "        for i in range(len(duplicates_SMILES['PUBCHEM_EXT_DATASOURCE_SMILES'])):\n",
    "            for j in range(i+1, len(duplicates_SMILES['PUBCHEM_EXT_DATASOURCE_SMILES'])):\n",
    "                if duplicates_SMILES['PUBCHEM_EXT_DATASOURCE_SMILES'][i] == duplicates_SMILES['PUBCHEM_EXT_DATASOURCE_SMILES'][j]:\n",
    "                    if duplicates_SMILES['PUBCHEM_CID'][i] != duplicates_SMILES['PUBCHEM_CID'][j]:\n",
    "                        sameSMILES_differentCID.append((duplicates_SMILES['PUBCHEM_CID'][i], duplicates_SMILES['PUBCHEM_CID'][j]))\n",
    "                    if duplicates_SMILES['InChI'][i] != duplicates_SMILES['InChI'][j]:\n",
    "                        sameSMILES_differentInChI.append((duplicates_SMILES['PUBCHEM_CID'][i], duplicates_SMILES['PUBCHEM_CID'][j]))\n",
    "        \n",
    "        if sameSMILES_differentCID == []:\n",
    "            f.write(f'No duplicate SMILES with different CIDs in AID{AID}\\n')\n",
    "        else:\n",
    "            f.write(f'Found duplicate SMILES with different CIDs in AID{AID}:\\n')\n",
    "            f.write('\\n'.join(str(item) for item in sameSMILES_differentCID))\n",
    "            f.write(\"\\n\")\n",
    "        \n",
    "        if sameSMILES_differentInChI == []:\n",
    "            f.write(f'No duplicate SMILES with different InChIs in AID{AID}\\n')\n",
    "        else:\n",
    "            f.write(f'Found duplicate SMILES with different InChIs in AID{AID}:\\n')\n",
    "            f.write('\\n'.join(str(item) for item in sameSMILES_differentInChI))\n",
    "            f.write(\"\\n\")\n",
    "        f.write(\"===\\n\")\n"
   ]
  },
  {
   "cell_type": "markdown",
   "metadata": {},
   "source": [
    "## 4.5 Drop duplicates"
   ]
  },
  {
   "cell_type": "markdown",
   "metadata": {},
   "source": [
    "When dropping duplicates, we will keep the first molecule in a pair or a group of duplicates. For example, here there are 12 duplicates (6 pairs) so we keep 6 of them."
   ]
  },
  {
   "cell_type": "code",
   "execution_count": 23,
   "metadata": {},
   "outputs": [
    {
     "name": "stdout",
     "output_type": "stream",
     "text": [
      "No more duplicate InChI in AID2821\n",
      "No more duplicate InChI in AID2661\n",
      "No more duplicate InChI in AID504583\n"
     ]
    }
   ],
   "source": [
    "# Keep only the first duplicate in the dataframes:\n",
    "for AID in AIDs: \n",
    "    exec(f\"AID{AID}.drop_duplicates(subset=['InChI'], keep='first', inplace=True)\")\n",
    "\n",
    "    last_check = f\"\"\"\n",
    "if len(AID{AID}[AID{AID}.duplicated(subset=['InChI'], keep=False)]) == 0:\n",
    "    print('No more duplicate InChI in AID{AID}')\n",
    "else:\n",
    "    print('There are still duplicate InChI in AID{AID}')   \n",
    "    \"\"\"\n",
    "    exec(last_check)"
   ]
  },
  {
   "cell_type": "code",
   "execution_count": 24,
   "metadata": {},
   "outputs": [
    {
     "name": "stdout",
     "output_type": "stream",
     "text": [
      "No more duplicate SMILES in AID2821\n",
      "No more duplicate SMILES in AID2661\n",
      "No more duplicate SMILES in AID504583\n"
     ]
    }
   ],
   "source": [
    "for AID in AIDs: \n",
    "    last_check = f\"\"\"\n",
    "if len(AID{AID}[AID{AID}.duplicated(subset=['PUBCHEM_EXT_DATASOURCE_SMILES'], keep=False)]) == 0:\n",
    "    print('No more duplicate SMILES in AID{AID}')\n",
    "else:\n",
    "    print('There are still duplicate SMILES in AID{AID}')   \n",
    "    \"\"\"\n",
    "    exec(last_check)"
   ]
  },
  {
   "cell_type": "code",
   "execution_count": 25,
   "metadata": {},
   "outputs": [
    {
     "name": "stdout",
     "output_type": "stream",
     "text": [
      "No more duplicate CID in AID2821\n",
      "No more duplicate CID in AID2661\n",
      "No more duplicate CID in AID504583\n"
     ]
    }
   ],
   "source": [
    "for AID in AIDs: \n",
    "    last_check = f\"\"\"\n",
    "if len(AID{AID}[AID{AID}.duplicated(subset=['PUBCHEM_CID'], keep=False)]) == 0:\n",
    "    print('No more duplicate CID in AID{AID}')\n",
    "else:\n",
    "    print('There are still duplicate CID in AID{AID}')   \n",
    "    \"\"\"\n",
    "    exec(last_check)"
   ]
  },
  {
   "cell_type": "code",
   "execution_count": 26,
   "metadata": {},
   "outputs": [],
   "source": [
    "# Save the dataframes to csv:\n",
    "for AID in AIDs: \n",
    "    exec(f\"AID{AID}.to_csv(r'{data_folder}/before_finished/step_4/AID{AID}.csv', index=False)\")"
   ]
  },
  {
   "cell_type": "markdown",
   "metadata": {},
   "source": [
    "# 5. Hierarchical Curation"
   ]
  },
  {
   "cell_type": "markdown",
   "metadata": {},
   "source": [
    "For the hierarchical curation, there are some rules: \n",
    "\n",
    "(1) All assays used should be on the same or close species/cell lines. Optimally, they should also be from the same project/laboratory.\n",
    "\n",
    "(2) Primary actives (PrA) will have a large false-positive rate. Therefore, they should be tested in follow-up confirmatory screens (optimally dose-reponse). \n",
    "\n",
    "(3) Actives could be promiscuous. Therefore, it is optimal to have counter-screens on different targets to test specificity.\n",
    "\n",
    "(4) For some projects, compounds were tested in multiple rounds. Therefore, assays often have hierarchical relations. From a single primary screen (Pr), active compounds (Pr_A) could be tested in multiple rounds of confirmatory screens (Cf_1, Cf_2, ..., Cf_final) or counter screens (Ct_1, Ct_2, etc.). Actives from confirmatory screens (Cf_A) have a higher possibility of being true active. If an active compound is tested active in counter screens (Ct_A), it is likely to be a promiscuous compound and should not be included. \n",
    "\n",
    "(4) It is important to know the relationship between assays. Active sets from downstream screens always have a lower false-positive rate than active sets from upstream screens due to better assay technologies on a smaller set of compounds. Therefore, final hits should be taken from the intersection of the very last confirmatory assays, without tested active in any counter-screens: \n",
    "Final hits = [Cf_final1_A ∩ Cf_final2_A ∩ ...] \\ [Ct_1_A ∪ Ct_2_A ∪ ...]\n",
    "\n",
    "However, if the confirmatory assays are unrelated (tested on different set of compounds), then we might have to take the union of their active sets instead of the intersections as in this formula.\n",
    "\n",
    "(5) The hierarchical relations should be inspected carefully to see if follow-up confirmatory screens include extra compounds (Ex) that were not tested in earlier screens or tested inactive in earlier screens. If exist, these compounds require manual inspection. \n",
    "\n",
    "(6) Final inactives should be taken from primary inactives (Pr_I) (not inconclusive, unspecified, or probes), plus extra compounds that were tested inactive in conformatory screens (Ex_I), if justified.\n",
    "Final inactives = PrI ∪ Ex_I\n",
    "\n"
   ]
  },
  {
   "cell_type": "markdown",
   "metadata": {},
   "source": [
    "## 5.1. Classify groups of compounds in each assay by activities"
   ]
  },
  {
   "cell_type": "code",
   "execution_count": 27,
   "metadata": {},
   "outputs": [],
   "source": [
    "path = f'{data_folder}/before_finished/step_4' \n",
    "keynumbers = [2661, 2821, 504583] # specify the keynumbers you want to import\n",
    "\n",
    "for keynumber in keynumbers:\n",
    "    filename = os.path.join(path, f'AID{keynumber}.csv')\n",
    "    if os.path.exists(filename):\n",
    "        df = pd.read_csv(filename, index_col=None, header=0)\n",
    "        exec(f'AID{keynumber} = df')\n",
    "        exec(f'AID{keynumber}_active = df[df[\"PUBCHEM_ACTIVITY_OUTCOME\"]==\"Active\"]')\n",
    "        exec(f'AID{keynumber}_inactive = df[df[\"PUBCHEM_ACTIVITY_OUTCOME\"]==\"Inactive\"]')\n",
    "        exec(f'AID{keynumber}_inconclusive = df[df[\"PUBCHEM_ACTIVITY_OUTCOME\"]==\"Inconclusive\"]')\n",
    "        exec(f'AID{keynumber}_unspecified = df[df[\"PUBCHEM_ACTIVITY_OUTCOME\"]==\"Unspecified\"]')\n",
    "        exec(f'AID{keynumber}_probe = df[df[\"PUBCHEM_ACTIVITY_OUTCOME\"]==\"Probe\"]')"
   ]
  },
  {
   "cell_type": "code",
   "execution_count": 28,
   "metadata": {},
   "outputs": [
    {
     "data": {
      "text/html": [
       "<div>\n",
       "<style scoped>\n",
       "    .dataframe tbody tr th:only-of-type {\n",
       "        vertical-align: middle;\n",
       "    }\n",
       "\n",
       "    .dataframe tbody tr th {\n",
       "        vertical-align: top;\n",
       "    }\n",
       "\n",
       "    .dataframe thead th {\n",
       "        text-align: right;\n",
       "    }\n",
       "</style>\n",
       "<table border=\"1\" class=\"dataframe\">\n",
       "  <thead>\n",
       "    <tr style=\"text-align: right;\">\n",
       "      <th></th>\n",
       "      <th>AID</th>\n",
       "      <th>Tested Compounds</th>\n",
       "      <th>Active</th>\n",
       "      <th>Inactive</th>\n",
       "      <th>Inconclusive</th>\n",
       "      <th>Unspecified</th>\n",
       "      <th>Probe</th>\n",
       "    </tr>\n",
       "  </thead>\n",
       "  <tbody>\n",
       "    <tr>\n",
       "      <th>0</th>\n",
       "      <td>AID2661</td>\n",
       "      <td>321782</td>\n",
       "      <td>235</td>\n",
       "      <td>321547</td>\n",
       "      <td>0</td>\n",
       "      <td>0</td>\n",
       "      <td>0</td>\n",
       "    </tr>\n",
       "    <tr>\n",
       "      <th>1</th>\n",
       "      <td>AID2821</td>\n",
       "      <td>224</td>\n",
       "      <td>174</td>\n",
       "      <td>50</td>\n",
       "      <td>0</td>\n",
       "      <td>0</td>\n",
       "      <td>0</td>\n",
       "    </tr>\n",
       "    <tr>\n",
       "      <th>2</th>\n",
       "      <td>AID504583</td>\n",
       "      <td>29</td>\n",
       "      <td>3</td>\n",
       "      <td>25</td>\n",
       "      <td>1</td>\n",
       "      <td>0</td>\n",
       "      <td>0</td>\n",
       "    </tr>\n",
       "  </tbody>\n",
       "</table>\n",
       "</div>"
      ],
      "text/plain": [
       "         AID  Tested Compounds  Active  Inactive  Inconclusive  Unspecified  \\\n",
       "0    AID2661            321782     235    321547             0            0   \n",
       "1    AID2821               224     174        50             0            0   \n",
       "2  AID504583                29       3        25             1            0   \n",
       "\n",
       "   Probe  \n",
       "0      0  \n",
       "1      0  \n",
       "2      0  "
      ]
     },
     "execution_count": 28,
     "metadata": {},
     "output_type": "execute_result"
    }
   ],
   "source": [
    "#Create a df with first column the variables name, and the second column the number of rows:\n",
    "df = pd.DataFrame(columns=['AID', 'Tested Compounds', 'Active', 'Inactive', 'Inconclusive', 'Unspecified', 'Probe'])\n",
    "for keynumber in keynumbers:\n",
    "    exec(f'df.loc[len(df)] = [\"AID{keynumber}\", len(AID{keynumber}), len(AID{keynumber}_active), len(AID{keynumber}_inactive), len(AID{keynumber}_inconclusive), len(AID{keynumber}_unspecified), len(AID{keynumber}_probe)]')\n",
    "df"
   ]
  },
  {
   "cell_type": "markdown",
   "metadata": {},
   "source": [
    "## 5.2. Check the hierachical relations"
   ]
  },
  {
   "cell_type": "code",
   "execution_count": 29,
   "metadata": {},
   "outputs": [],
   "source": [
    "def check_is_in(downstream, upstream): \n",
    "    downstream_in_upstream = downstream[downstream['PUBCHEM_CID'].isin(upstream['PUBCHEM_CID'])]\n",
    "    downstream_notin_upstream = downstream[~downstream['PUBCHEM_CID'].isin(upstream['PUBCHEM_CID'])]\n",
    "    return downstream_in_upstream, downstream_notin_upstream"
   ]
  },
  {
   "cell_type": "markdown",
   "metadata": {},
   "source": [
    "### Flow: AID2662 (Pr), AID2821 (Cf), AID504583 (Ct)"
   ]
  },
  {
   "cell_type": "code",
   "execution_count": 30,
   "metadata": {},
   "outputs": [
    {
     "name": "stdout",
     "output_type": "stream",
     "text": [
      "Among AID2821, 1 were tested inactive in AID2661. Among these, 0 became active\n",
      "Among AID2821, 0 were not tested in the AID2661. Among these, 0 became active\n"
     ]
    }
   ],
   "source": [
    "# Check between AID2821 and AID2661\n",
    "a1, a2 = check_is_in(AID2821, AID2661_inactive)\n",
    "a3, a4 = check_is_in(a1, AID2821_active)\n",
    "a5, a6 = check_is_in(AID2821, AID2661)\n",
    "a7, a8 = check_is_in(a6, AID2821_active)\n",
    "print(f'Among AID2821, {len(a1)} were tested inactive in AID2661. Among these, {len(a3)} became active')\n",
    "print(f'Among AID2821, {len(a6)} were not tested in the AID2661. Among these, {len(a7)} became active')"
   ]
  },
  {
   "cell_type": "markdown",
   "metadata": {},
   "source": [
    "Here, in the confirmatory screen AID2821, there was 1 re-tested inactives (which was not active at the end).\n",
    "The potential final hits should be any compound that were active in the confirmatory screen AID2821 but not active in the counter-screen AID504583. Inactives should be taken from the primary inactives."
   ]
  },
  {
   "cell_type": "markdown",
   "metadata": {},
   "source": [
    "## 5.3. Export the data"
   ]
  },
  {
   "cell_type": "code",
   "execution_count": 31,
   "metadata": {},
   "outputs": [
    {
     "name": "stdout",
     "output_type": "stream",
     "text": [
      "We end up with 173 potential hits.\n"
     ]
    }
   ],
   "source": [
    "confirmed_hits = AID2821_active[~AID2821_active['PUBCHEM_CID'].isin(AID504583_active['PUBCHEM_CID'])]\n",
    "confirmed_hits = confirmed_hits.drop_duplicates(subset=['PUBCHEM_CID'], keep='first')\n",
    "potential_hits = confirmed_hits\n",
    "print(f'We end up with {len(confirmed_hits)} potential hits.')"
   ]
  },
  {
   "cell_type": "code",
   "execution_count": 32,
   "metadata": {},
   "outputs": [
    {
     "name": "stdout",
     "output_type": "stream",
     "text": [
      "We end up with 321547 potential inactives.\n"
     ]
    }
   ],
   "source": [
    "potential_inactives = AID2661_inactive\n",
    "potential_inactives = potential_inactives.drop_duplicates(subset=['PUBCHEM_CID'], keep='first')\n",
    "print(f'We end up with {len(potential_inactives)} potential inactives.')"
   ]
  },
  {
   "cell_type": "code",
   "execution_count": 33,
   "metadata": {},
   "outputs": [],
   "source": [
    "if not os.path.exists(f'{data_folder}/before_finished/step_5'):\n",
    "    os.makedirs(f'{data_folder}/before_finished/step_5')"
   ]
  },
  {
   "cell_type": "code",
   "execution_count": 34,
   "metadata": {},
   "outputs": [],
   "source": [
    "#export the potential hits and inactives to csv:\n",
    "potential_hits.to_csv(f'{data_folder}/before_finished/step_5/potential_hits.csv', index=False)\n",
    "potential_inactives.to_csv(f'{data_folder}/before_finished/step_5/potential_inactives.csv', index=False)"
   ]
  },
  {
   "cell_type": "markdown",
   "metadata": {},
   "source": [
    "# 6. RDkit check"
   ]
  },
  {
   "cell_type": "code",
   "execution_count": 35,
   "metadata": {},
   "outputs": [],
   "source": [
    "potential_hits = pd.read_csv(f'{data_folder}/before_finished/step_5/potential_hits.csv', sep=',', header=0)\n",
    "potential_inactives = pd.read_csv(f'{data_folder}/before_finished/step_5/potential_inactives.csv', sep=',', header=0)"
   ]
  },
  {
   "cell_type": "code",
   "execution_count": 36,
   "metadata": {},
   "outputs": [],
   "source": [
    "def process_smiles(df):\n",
    "    \"\"\"\n",
    "    This function check if the SMILES strings from a given dataset could be parsed by RDKit or if they returns any problems detected by RDkit\n",
    "    Input: \n",
    "        Pandas dataframe\n",
    "    Output: \n",
    "        mol_list: dictionary with CID as key and RDKit molecule object as value\n",
    "        problem_list: list of problems detected by RDKit\n",
    "        cannot_parse: list of CIDs that could not be parsed by RDKit\n",
    "    \"\"\"\n",
    "    mol_list = {}\n",
    "    problem_list = []\n",
    "    cannot_parse = []\n",
    "\n",
    "    for i in df['PUBCHEM_CID']:\n",
    "\n",
    "        #convert each SMILES to molecule:\n",
    "        m = Chem.MolFromSmiles(df[df['PUBCHEM_CID'] == i]['PUBCHEM_EXT_DATASOURCE_SMILES'].values[0], sanitize=True)\n",
    "        mol_list[i] = m\n",
    "\n",
    "        if m is None:\n",
    "            cannot_parse.append(i) #save if molecule is non-parsable\n",
    "            \n",
    "        elif m is not None:\n",
    "            problems = Chem.DetectChemistryProblems(m) #identify and capture error messages when creating mol objects.\n",
    "        if problems != ():\n",
    "            problem_list.append(problems)\n",
    "            \n",
    "    if len(problem_list) > 0: \n",
    "        print(problem_list)\n",
    "    else:\n",
    "        print(\"No problems detected\")\n",
    "    return mol_list, problem_list, cannot_parse"
   ]
  },
  {
   "cell_type": "code",
   "execution_count": 37,
   "metadata": {},
   "outputs": [
    {
     "name": "stdout",
     "output_type": "stream",
     "text": [
      "No problems detected\n"
     ]
    },
    {
     "name": "stderr",
     "output_type": "stream",
     "text": [
      "[00:28:37] WARNING: not removing hydrogen atom without neighbors\n",
      "[00:28:37] WARNING: not removing hydrogen atom without neighbors\n"
     ]
    },
    {
     "name": "stdout",
     "output_type": "stream",
     "text": [
      "No problems detected\n"
     ]
    }
   ],
   "source": [
    "mol_hits, problem_list_hits, cannot_parse_hits = process_smiles(potential_hits)\n",
    "mol_inactives, problem_list_inactives, cannot_parse_inactives = process_smiles(potential_inactives)"
   ]
  },
  {
   "cell_type": "code",
   "execution_count": 38,
   "metadata": {},
   "outputs": [],
   "source": [
    "#Create a new step folder:\n",
    "if not os.path.exists(f'{data_folder}/before_finished/step_6'):\n",
    "    os.makedirs(f'{data_folder}/before_finished/step_6')\n",
    "\n",
    "with open(f'{data_folder}/before_finished/step_6/problem_list_hits.txt', 'w') as f:\n",
    "    f.write(\"Problems:\\n\")\n",
    "    for item in problem_list_hits:\n",
    "        f.write(\"%s\\n\" % item)\n",
    "    f.write(\"Cannot parse:\\n\")\n",
    "    for item in cannot_parse_hits:\n",
    "        f.write(\"%s\\n\" % item)\n",
    "\n",
    "with open(f'{data_folder}/before_finished/step_6/problem_list_inactives.txt', 'w') as f:\n",
    "    f.write(\"Problems:\\n\")\n",
    "    for item in problem_list_inactives:\n",
    "        f.write(\"%s\\n\" % item)\n",
    "    f.write(\"Cannot parse:\\n\")\n",
    "    for item in cannot_parse_inactives:\n",
    "        f.write(\"%s\\n\" % item)"
   ]
  },
  {
   "cell_type": "markdown",
   "metadata": {},
   "source": [
    "Our dataset returned no problem or non-parsable molecule."
   ]
  },
  {
   "cell_type": "markdown",
   "metadata": {},
   "source": [
    "# 7. Inorganics"
   ]
  },
  {
   "cell_type": "code",
   "execution_count": 39,
   "metadata": {},
   "outputs": [],
   "source": [
    "# Import data\n",
    "potential_hits = pd.read_csv(f'{data_folder}/before_finished/step_5/potential_hits.csv', sep=',', header=0)\n",
    "potential_inactives = pd.read_csv(f'{data_folder}/before_finished/step_5/potential_inactives.csv', sep=',', header=0)"
   ]
  },
  {
   "cell_type": "code",
   "execution_count": 40,
   "metadata": {},
   "outputs": [],
   "source": [
    "organic_hits = []\n",
    "inorganic_hits = []\n",
    "\n",
    "for index, row in potential_hits.iterrows():\n",
    "    cid = row['PUBCHEM_CID']\n",
    "    smi = row['PUBCHEM_EXT_DATASOURCE_SMILES']\n",
    "    mol = Chem.MolFromSmiles(smi, sanitize=True)\n",
    "    if functional_groups.is_inorganic(mol):\n",
    "        inorganic_hits.append(cid)\n",
    "    else:\n",
    "        organic_hits.append(cid)"
   ]
  },
  {
   "cell_type": "code",
   "execution_count": 41,
   "metadata": {},
   "outputs": [
    {
     "name": "stderr",
     "output_type": "stream",
     "text": [
      "[00:32:46] WARNING: not removing hydrogen atom without neighbors\n",
      "[00:32:46] WARNING: not removing hydrogen atom without neighbors\n",
      "[00:32:46] WARNING: not removing hydrogen atom without neighbors\n",
      "[00:32:46] WARNING: not removing hydrogen atom without neighbors\n"
     ]
    }
   ],
   "source": [
    "organic_inactives = []\n",
    "inorganic_inactives = []\n",
    "\n",
    "for index, row in potential_inactives.iterrows():\n",
    "    cid = row['PUBCHEM_CID']\n",
    "    smi = row['PUBCHEM_EXT_DATASOURCE_SMILES']\n",
    "    mol = Chem.MolFromSmiles(smi, sanitize=True)\n",
    "    if functional_groups.is_inorganic(mol):\n",
    "        inorganic_inactives.append(cid)\n",
    "    else: \n",
    "        organic_inactives.append(cid)"
   ]
  },
  {
   "cell_type": "code",
   "execution_count": 42,
   "metadata": {},
   "outputs": [
    {
     "name": "stdout",
     "output_type": "stream",
     "text": [
      "In hits, there are 173 organic molecules and 0 inorganic molecules\n",
      "In inactives, there are 321543 organic molecules and 4 inorganic molecules\n"
     ]
    }
   ],
   "source": [
    "print(f'In hits, there are {len(organic_hits)} organic molecules and {len(inorganic_hits)} inorganic molecules')\n",
    "print(f'In inactives, there are {len(organic_inactives)} organic molecules and {len(inorganic_inactives)} inorganic molecules')"
   ]
  },
  {
   "cell_type": "code",
   "execution_count": 43,
   "metadata": {},
   "outputs": [],
   "source": [
    "#Create a new step folder:\n",
    "if not os.path.exists(f'{data_folder}/before_finished/step_7'):\n",
    "    os.makedirs(f'{data_folder}/before_finished/step_7')\n",
    "\n",
    "with open(f'{data_folder}/before_finished/step_7/inorganic.txt', 'w') as f:\n",
    "    f.write(\"Hits:\\n\")\n",
    "    for item in inorganic_hits:\n",
    "        f.write(\"%s\\n\" % item)\n",
    "    f.write(\"\\n\\nInactives:\\n\")\n",
    "    for item in inorganic_inactives:\n",
    "        f.write(\"%s\\n\" % item)"
   ]
  },
  {
   "cell_type": "code",
   "execution_count": 44,
   "metadata": {},
   "outputs": [],
   "source": [
    "# Drop inorganics: \n",
    "potential_hits = potential_hits[~potential_hits['PUBCHEM_CID'].isin(inorganic_hits)]\n",
    "potential_inactives = potential_inactives[~potential_inactives['PUBCHEM_CID'].isin(inorganic_inactives)]\n"
   ]
  },
  {
   "cell_type": "code",
   "execution_count": 45,
   "metadata": {},
   "outputs": [],
   "source": [
    "#save: \n",
    "potential_hits.to_csv(f'{data_folder}/before_finished/step_7/organic_hits.csv', index=False)\n",
    "potential_inactives.to_csv(f'{data_folder}/before_finished/step_7/organic_inactives.csv', index=False)"
   ]
  },
  {
   "cell_type": "markdown",
   "metadata": {},
   "source": [
    "# 8. Mixture"
   ]
  },
  {
   "cell_type": "markdown",
   "metadata": {},
   "source": [
    "## 8.1. Quick check"
   ]
  },
  {
   "cell_type": "code",
   "execution_count": 46,
   "metadata": {},
   "outputs": [],
   "source": [
    "#import: \n",
    "organic_hits = pd.read_csv(f'{data_folder}/before_finished/step_7/organic_hits.csv', sep=',', header=0)\n",
    "organic_inactives = pd.read_csv(f'{data_folder}/before_finished/step_7/organic_inactives.csv', sep=',', header=0)"
   ]
  },
  {
   "cell_type": "code",
   "execution_count": 47,
   "metadata": {},
   "outputs": [
    {
     "name": "stdout",
     "output_type": "stream",
     "text": [
      "Total number of mixtures in hits is 8\n",
      "Total number of mixtures in inactives is 12580\n"
     ]
    }
   ],
   "source": [
    "def quick_check_mixtures(name, smiles_list):\n",
    "    count=0\n",
    "    for smiles in smiles_list:\n",
    "        if '.' in smiles:\n",
    "            count+=1\n",
    "    print(f\"Total number of mixtures in {name} is {count}\")\n",
    "\n",
    "quick_check_mixtures('hits', organic_hits['PUBCHEM_EXT_DATASOURCE_SMILES'])\n",
    "quick_check_mixtures('inactives', organic_inactives['PUBCHEM_EXT_DATASOURCE_SMILES'])"
   ]
  },
  {
   "cell_type": "markdown",
   "metadata": {},
   "source": [
    "## 8.2. Handling mixture"
   ]
  },
  {
   "cell_type": "code",
   "execution_count": 48,
   "metadata": {},
   "outputs": [],
   "source": [
    "def process_smiles_dataframe(df):\n",
    "    \"\"\"\n",
    "    From a given dataframe, detect and handle mixtures based on SMILES representation.\n",
    "    Input: \n",
    "        Pandas dataframe\n",
    "    Output: \n",
    "        (dictionary: CID -> SMILES)\n",
    "            processed: non-mixture forms of every SMILES in the given dataset\n",
    "            removed: mixture components or mixtures removed from the original mixture SMILES\n",
    "            small_organic: small organic molecules that are removed from a size-imbalanced mixtures of organic molecules\n",
    "            small_inorganic: small inorganic molecules that are removed from a mixture of both organic and inorganic molecules\n",
    "            big_organic_not_lipinski: large organic molecules that are not kept due to not passing the lipinski criteria\n",
    "            cleaned_from_mixtures: non-mixture forms after handling of the orignal mixtures\n",
    "    \"\"\"\n",
    "    processed = {}\n",
    "    removed = {}\n",
    "    small_inorganic = {}\n",
    "    small_organic = {}\n",
    "    big_organic_not_lipinski = {}\n",
    "    cleaned_from_mixtures = {}\n",
    "    \n",
    "    for index, row in df.iterrows():\n",
    "        cid = row['PUBCHEM_CID']\n",
    "        smiles = row['PUBCHEM_EXT_DATASOURCE_SMILES']\n",
    "        \n",
    "        if '.' in smiles: # Check for mixtures\n",
    "            molecules = smiles.split('.')\n",
    "            mols = [Chem.MolFromSmiles(mol) for mol in molecules]\n",
    "            num_atoms = [mol.GetNumAtoms() for mol in mols if mol is not None]\n",
    "            \n",
    "            if all(x == num_atoms[0] for x in num_atoms): # Check if all molecules have the same number of atoms. If yes, keep one of them\n",
    "                processed[cid] = molecules[0]\n",
    "                cleaned_from_mixtures[cid] = molecules[0]\n",
    "                removed[cid] = '.'.join(molecules[1:])\n",
    "            else:\n",
    "                if max(num_atoms) - min(num_atoms) <= 5:\n",
    "                    removed[cid] = smiles # Remove the mixture if the difference in number of atoms is less than 5\n",
    "                    print(f\"Cannot decide between {molecules} for CID {cid}\")\n",
    "                else:\n",
    "                    max_index = num_atoms.index(max(num_atoms))\n",
    "                    min_index = num_atoms.index(min(num_atoms))\n",
    "                    if functional_groups.is_inorganic(mols[min_index]) == True:\n",
    "                        processed[cid] = molecules[max_index]\n",
    "                        cleaned_from_mixtures[cid] = molecules[max_index]\n",
    "                        removed[cid] = molecules[min_index] # Keep the organic molecule and remove the inorganic one\n",
    "                        small_inorganic[cid] = molecules[min_index]\n",
    "                    else:\n",
    "                        big_molecule = mols[max_index]\n",
    "                        \n",
    "                        # Calculate properties for Lipinski's rule of five\n",
    "                        mw = Descriptors.MolWt(big_molecule)\n",
    "                        hbd = rdMolDescriptors.CalcNumHBD(big_molecule)\n",
    "                        hba = rdMolDescriptors.CalcNumHBA(big_molecule)\n",
    "                        logp = Crippen.MolLogP(big_molecule)\n",
    "\n",
    "                        # Check Lipinski's criteria\n",
    "                        if mw <= 500 and hbd <= 5 and hba <= 10 and logp <= 5:\n",
    "                            processed[cid] = molecules[max_index] # Keep the big organic molecule if it passes Lipinski's rule of five\n",
    "                            cleaned_from_mixtures[cid] = molecules[max_index]\n",
    "                            removed[cid] = '.'.join([molecules[i] for i in range(len(molecules)) if i != max_index])\n",
    "                            small_organic[cid] = molecules[min_index]\n",
    "                        else:\n",
    "                            removed[cid] = smiles # Remove the mixture if the big organic molecule does not pass Lipinski's rule of five\n",
    "                            big_organic_not_lipinski[cid] = molecules[max_index]\n",
    "                            print(f\"Big organic molecule for CID {cid} does not pass Lipinski's rule of five\")\n",
    "\n",
    "        else:\n",
    "            processed[cid] = smiles\n",
    "            \n",
    "    return processed, removed, small_organic, small_inorganic, big_organic_not_lipinski, cleaned_from_mixtures\n"
   ]
  },
  {
   "cell_type": "code",
   "execution_count": 49,
   "metadata": {},
   "outputs": [
    {
     "name": "stdout",
     "output_type": "stream",
     "text": [
      "Big organic molecule for CID 53313055 does not pass Lipinski's rule of five\n",
      "Big organic molecule for CID 53313053 does not pass Lipinski's rule of five\n",
      "Cannot decide between ['CNC[C@@H](C1=CC(=C(C=C1)O)O)O', 'C(C(C(=O)O)O)(C(=O)O)O'] for CID 6852374\n",
      "Cannot decide between ['C1CCC(C(C1)N)N', 'Cl[Pt]Cl'] for CID 151689\n",
      "Big organic molecule for CID 6420009 does not pass Lipinski's rule of five\n",
      "Cannot decide between ['CC1=C(SC=C1)/C=C/C2=NCCCN2C', 'C(C(C(=O)O)O)(C(=O)O)O'] for CID 6419965\n",
      "Big organic molecule for CID 62881 does not pass Lipinski's rule of five\n",
      "Cannot decide between ['CC(C)NC[C@H](C1=CC(=C(C=C1)O)O)O', 'C(C(C(=O)O)O)(C(=O)O)O'] for CID 6852409\n",
      "Cannot decide between ['C1=CC=C(C=C1)CCNN', 'OS(=O)(=O)O'] for CID 61100\n",
      "Cannot decide between ['C(CS)N', 'Cl'] for CID 9082\n",
      "Big organic molecule for CID 9549148 does not pass Lipinski's rule of five\n",
      "Cannot decide between ['CC1=NC(CC2=CC=CC=C12)(C)C', 'C1=CC=C(C(=C1)C(=O)O)O'] for CID 9549466\n",
      "Big organic molecule for CID 9549634 does not pass Lipinski's rule of five\n",
      "Big organic molecule for CID 9549642 does not pass Lipinski's rule of five\n",
      "Cannot decide between ['CCCC1=NCCN2C1=CC=C2', 'C(=C/C(=O)O)\\\\C(=O)O'] for CID 5717182\n",
      "Big organic molecule for CID 9551917 does not pass Lipinski's rule of five\n",
      "Big organic molecule for CID 135512395 does not pass Lipinski's rule of five\n",
      "Cannot decide between ['CSC1=NC=C(C(=N1)C(=O)[O-])Cl', 'C1=CC=C(C=C1)CC[NH3+]'] for CID 9552033\n",
      "Big organic molecule for CID 135501964 does not pass Lipinski's rule of five\n",
      "Big organic molecule for CID 11948854 does not pass Lipinski's rule of five\n",
      "Big organic molecule for CID 11948864 does not pass Lipinski's rule of five\n",
      "Big organic molecule for CID 135490316 does not pass Lipinski's rule of five\n",
      "Big organic molecule for CID 11958671 does not pass Lipinski's rule of five\n",
      "Big organic molecule for CID 11958904 does not pass Lipinski's rule of five\n",
      "Big organic molecule for CID 5729990 does not pass Lipinski's rule of five\n",
      "Cannot decide between ['CC1=NCCC2=C1NC3=CC=CC=C23', 'C1=C(C=C(C(=C1[N+](=O)[O-])O)[N+](=O)[O-])[N+](=O)[O-]'] for CID 135497979\n",
      "Big organic molecule for CID 12004634 does not pass Lipinski's rule of five\n",
      "Cannot decide between ['CCCCC1=NC2=CC=CC=C2C(=C1CCC)N', 'C1=CC(=C(C=C1[N+](=O)[O-])C(=O)O)Cl'] for CID 6611006\n",
      "Big organic molecule for CID 12005524 does not pass Lipinski's rule of five\n",
      "Big organic molecule for CID 12005527 does not pass Lipinski's rule of five\n",
      "Big organic molecule for CID 12005677 does not pass Lipinski's rule of five\n",
      "Big organic molecule for CID 12005684 does not pass Lipinski's rule of five\n",
      "Big organic molecule for CID 135517121 does not pass Lipinski's rule of five\n",
      "Big organic molecule for CID 15944745 does not pass Lipinski's rule of five\n",
      "Big organic molecule for CID 15944844 does not pass Lipinski's rule of five\n",
      "Big organic molecule for CID 15944931 does not pass Lipinski's rule of five\n",
      "Big organic molecule for CID 15944957 does not pass Lipinski's rule of five\n",
      "Big organic molecule for CID 15944995 does not pass Lipinski's rule of five\n",
      "Big organic molecule for CID 15945076 does not pass Lipinski's rule of five\n",
      "Big organic molecule for CID 15945399 does not pass Lipinski's rule of five\n",
      "Big organic molecule for CID 15945428 does not pass Lipinski's rule of five\n",
      "Big organic molecule for CID 15945589 does not pass Lipinski's rule of five\n",
      "Big organic molecule for CID 14219810 does not pass Lipinski's rule of five\n",
      "Cannot decide between ['CC1=CC=C(C=C1)S(=O)(=O)[O-]', 'CN1C=C[N+](=C1CCOC(=O)N(C)C)C'] for CID 15945641\n",
      "Big organic molecule for CID 14291980 does not pass Lipinski's rule of five\n",
      "Cannot decide between ['CC1=CC=C(C=C1)S(=O)(=O)[O-]', 'CN1C=C[N+](=C1COC(=O)N(C)C)C'] for CID 15945791\n",
      "Big organic molecule for CID 14219807 does not pass Lipinski's rule of five\n",
      "Big organic molecule for CID 135433258 does not pass Lipinski's rule of five\n",
      "Big organic molecule for CID 5718631 does not pass Lipinski's rule of five\n",
      "Cannot decide between ['CCC(C1=NC(CC2=CC=CC=C21)(C)C)C(=O)OCC', 'C1=C(C=C(C(=C1[N+](=O)[O-])O)[N+](=O)[O-])[N+](=O)[O-]'] for CID 16192930\n",
      "Big organic molecule for CID 56642840 does not pass Lipinski's rule of five\n",
      "Big organic molecule for CID 16193495 does not pass Lipinski's rule of five\n",
      "Big organic molecule for CID 16193567 does not pass Lipinski's rule of five\n",
      "Big organic molecule for CID 16193568 does not pass Lipinski's rule of five\n",
      "Big organic molecule for CID 16193570 does not pass Lipinski's rule of five\n"
     ]
    },
    {
     "name": "stderr",
     "output_type": "stream",
     "text": [
      "[00:35:31] WARNING: not removing hydrogen atom without neighbors\n",
      "[00:35:31] WARNING: not removing hydrogen atom without neighbors\n",
      "[00:35:31] WARNING: not removing hydrogen atom without neighbors\n",
      "[00:35:31] WARNING: not removing hydrogen atom without neighbors\n"
     ]
    },
    {
     "name": "stdout",
     "output_type": "stream",
     "text": [
      "Big organic molecule for CID 10864994 does not pass Lipinski's rule of five\n",
      "Cannot decide between ['CC1=CC=C(C=C1)S(=O)(=O)[O-]', 'C1=CC2=C(C3=C(C=CC=N3)C=C2)[NH+]=C1'] for CID 16196049\n",
      "Cannot decide between ['C1=CC=C2C=C(C=CC2=C1)S(=O)(=O)[O-]', 'C1=CC(=C[N+](=C1)CC(=O)NC2=CC=C(C=C2)Br)O'] for CID 16196732\n",
      "Big organic molecule for CID 16682212 does not pass Lipinski's rule of five\n",
      "Cannot decide between ['C(C1=NC(=NN1)N)O', 'C(C(=O)O)O'] for CID 222696\n",
      "Big organic molecule for CID 135691036 does not pass Lipinski's rule of five\n",
      "Big organic molecule for CID 135675926 does not pass Lipinski's rule of five\n",
      "Big organic molecule for CID 16240588 does not pass Lipinski's rule of five\n",
      "Big organic molecule for CID 16745857 does not pass Lipinski's rule of five\n",
      "Big organic molecule for CID 135712454 does not pass Lipinski's rule of five\n",
      "Cannot decide between ['CC1=NC2=C(O1)C3=CC=CC=C3C=C2', 'C1=C(C=C(C(=C1[N+](=O)[O-])O)[N+](=O)[O-])[N+](=O)[O-]'] for CID 3241713\n",
      "Big organic molecule for CID 3244813 does not pass Lipinski's rule of five\n",
      "Big organic molecule for CID 16219228 does not pass Lipinski's rule of five\n",
      "Big organic molecule for CID 16219016 does not pass Lipinski's rule of five\n",
      "Big organic molecule for CID 23640915 does not pass Lipinski's rule of five\n",
      "Big organic molecule for CID 9896684 does not pass Lipinski's rule of five\n",
      "Big organic molecule for CID 23723054 does not pass Lipinski's rule of five\n",
      "Cannot decide between ['C1=CC=C(C=C1)OC2=CC=NC=C2', 'C1=C(C=C(C(=C1[N+](=O)[O-])O)[N+](=O)[O-])[N+](=O)[O-]'] for CID 23723127\n",
      "Cannot decide between ['C1=CC2=C(C3=C(C=C2)N=C(C=C3)N)N=C1', 'C1=C(C=C(C(=C1[N+](=O)[O-])O)[N+](=O)[O-])[N+](=O)[O-]'] for CID 23723893\n",
      "Cannot decide between ['C1CCC2=C(C1)C(=C3CCCCC3=N2)N', 'C1=CNC(=O)C=C1C(=O)O'] for CID 23724223\n",
      "Big organic molecule for CID 5344271 does not pass Lipinski's rule of five\n",
      "Cannot decide between ['CN1CCC2=C(C3=CC=CC=C3N=C21)N', 'C1=CC(=C(C=C1[N+](=O)[O-])C(=O)O)Cl'] for CID 23724359\n",
      "Big organic molecule for CID 24761675 does not pass Lipinski's rule of five\n",
      "Cannot decide between ['CC(=C)[C@@H]1[C@@H]2[C@@H]3[C@@]4([C@]([C@H]1C(=O)O2)(C[C@@H]5[C@]4(O5)C(=O)O3)O)C', 'C[C@@]12[C@H]3[C@H]4[C@H]([C@@H]([C@@]1(C[C@@H]5[C@]2(O5)C(=O)O3)O)C(=O)O4)C(C)(C)O'] for CID 6473767\n",
      "Big organic molecule for CID 64142 does not pass Lipinski's rule of five\n",
      "Big organic molecule for CID 9847786 does not pass Lipinski's rule of five\n",
      "Big organic molecule for CID 60934 does not pass Lipinski's rule of five\n",
      "Big organic molecule for CID 24816488 does not pass Lipinski's rule of five\n",
      "Big organic molecule for CID 24816489 does not pass Lipinski's rule of five\n",
      "Big organic molecule for CID 24816490 does not pass Lipinski's rule of five\n",
      "Big organic molecule for CID 24816492 does not pass Lipinski's rule of five\n",
      "Big organic molecule for CID 24816519 does not pass Lipinski's rule of five\n",
      "Big organic molecule for CID 24816521 does not pass Lipinski's rule of five\n",
      "Big organic molecule for CID 24816523 does not pass Lipinski's rule of five\n",
      "Big organic molecule for CID 24816525 does not pass Lipinski's rule of five\n",
      "Big organic molecule for CID 2733525 does not pass Lipinski's rule of five\n",
      "Cannot decide between ['C[N+](C)(CCOC1=CC=CC=C1)CC2=CC=CC=C2', 'C1=CC=C2C(=C1)C=C(C(=C2Br)[O-])C(=O)O'] for CID 54732065\n",
      "Cannot decide between ['C1=NC2=NC=NC(=C2N1)N', 'OS(=O)(=O)O'] for CID 118738\n",
      "Cannot decide between ['CN1CCCN=C1/C=C/C2=CC=CS2', 'C(C(C(=O)O)O)(C(=O)O)O'] for CID 6419953\n",
      "Big organic molecule for CID 16396156 does not pass Lipinski's rule of five\n",
      "Big organic molecule for CID 24891760 does not pass Lipinski's rule of five\n",
      "Big organic molecule for CID 24891762 does not pass Lipinski's rule of five\n",
      "Big organic molecule for CID 24891764 does not pass Lipinski's rule of five\n",
      "Big organic molecule for CID 24891766 does not pass Lipinski's rule of five\n",
      "Big organic molecule for CID 24891768 does not pass Lipinski's rule of five\n",
      "Big organic molecule for CID 24891770 does not pass Lipinski's rule of five\n",
      "Big organic molecule for CID 24891772 does not pass Lipinski's rule of five\n",
      "Big organic molecule for CID 24891774 does not pass Lipinski's rule of five\n",
      "Big organic molecule for CID 24891776 does not pass Lipinski's rule of five\n",
      "Big organic molecule for CID 24891778 does not pass Lipinski's rule of five\n",
      "Big organic molecule for CID 24891780 does not pass Lipinski's rule of five\n",
      "Big organic molecule for CID 24891782 does not pass Lipinski's rule of five\n",
      "Big organic molecule for CID 24891784 does not pass Lipinski's rule of five\n",
      "Big organic molecule for CID 24891786 does not pass Lipinski's rule of five\n",
      "Big organic molecule for CID 24891788 does not pass Lipinski's rule of five\n",
      "Big organic molecule for CID 24891790 does not pass Lipinski's rule of five\n",
      "Big organic molecule for CID 24891792 does not pass Lipinski's rule of five\n",
      "Big organic molecule for CID 24891794 does not pass Lipinski's rule of five\n",
      "Big organic molecule for CID 24891796 does not pass Lipinski's rule of five\n",
      "Big organic molecule for CID 24891798 does not pass Lipinski's rule of five\n",
      "Big organic molecule for CID 24891800 does not pass Lipinski's rule of five\n",
      "Big organic molecule for CID 24891802 does not pass Lipinski's rule of five\n",
      "Big organic molecule for CID 24891804 does not pass Lipinski's rule of five\n",
      "Big organic molecule for CID 24891806 does not pass Lipinski's rule of five\n",
      "Big organic molecule for CID 24891808 does not pass Lipinski's rule of five\n",
      "Big organic molecule for CID 24891810 does not pass Lipinski's rule of five\n",
      "Big organic molecule for CID 24891812 does not pass Lipinski's rule of five\n",
      "Big organic molecule for CID 24891814 does not pass Lipinski's rule of five\n",
      "Big organic molecule for CID 24891816 does not pass Lipinski's rule of five\n",
      "Big organic molecule for CID 24891818 does not pass Lipinski's rule of five\n",
      "Big organic molecule for CID 24891820 does not pass Lipinski's rule of five\n",
      "Big organic molecule for CID 24891822 does not pass Lipinski's rule of five\n",
      "Big organic molecule for CID 24891824 does not pass Lipinski's rule of five\n",
      "Big organic molecule for CID 24891836 does not pass Lipinski's rule of five\n",
      "Big organic molecule for CID 24891838 does not pass Lipinski's rule of five\n",
      "Big organic molecule for CID 24891868 does not pass Lipinski's rule of five\n",
      "Big organic molecule for CID 24891874 does not pass Lipinski's rule of five\n",
      "Big organic molecule for CID 24891880 does not pass Lipinski's rule of five\n",
      "Big organic molecule for CID 24891886 does not pass Lipinski's rule of five\n",
      "Big organic molecule for CID 24892280 does not pass Lipinski's rule of five\n",
      "Big organic molecule for CID 24892288 does not pass Lipinski's rule of five\n",
      "Big organic molecule for CID 24892292 does not pass Lipinski's rule of five\n",
      "Big organic molecule for CID 24892293 does not pass Lipinski's rule of five\n",
      "Big organic molecule for CID 24892299 does not pass Lipinski's rule of five\n",
      "Big organic molecule for CID 24892325 does not pass Lipinski's rule of five\n",
      "Big organic molecule for CID 24892327 does not pass Lipinski's rule of five\n",
      "Big organic molecule for CID 24892333 does not pass Lipinski's rule of five\n",
      "Big organic molecule for CID 24892341 does not pass Lipinski's rule of five\n",
      "Big organic molecule for CID 24892438 does not pass Lipinski's rule of five\n",
      "Big organic molecule for CID 24892440 does not pass Lipinski's rule of five\n",
      "Big organic molecule for CID 24892442 does not pass Lipinski's rule of five\n",
      "Big organic molecule for CID 24892454 does not pass Lipinski's rule of five\n",
      "Big organic molecule for CID 24892460 does not pass Lipinski's rule of five\n",
      "Big organic molecule for CID 24892462 does not pass Lipinski's rule of five\n",
      "Big organic molecule for CID 24892464 does not pass Lipinski's rule of five\n",
      "Big organic molecule for CID 24892466 does not pass Lipinski's rule of five\n",
      "Big organic molecule for CID 24892468 does not pass Lipinski's rule of five\n",
      "Big organic molecule for CID 24892470 does not pass Lipinski's rule of five\n",
      "Big organic molecule for CID 24892472 does not pass Lipinski's rule of five\n",
      "Big organic molecule for CID 24892474 does not pass Lipinski's rule of five\n",
      "Big organic molecule for CID 24892478 does not pass Lipinski's rule of five\n",
      "Big organic molecule for CID 24892525 does not pass Lipinski's rule of five\n",
      "Big organic molecule for CID 24892527 does not pass Lipinski's rule of five\n",
      "Big organic molecule for CID 24892529 does not pass Lipinski's rule of five\n",
      "Big organic molecule for CID 24892532 does not pass Lipinski's rule of five\n",
      "Big organic molecule for CID 24892534 does not pass Lipinski's rule of five\n",
      "Big organic molecule for CID 24892536 does not pass Lipinski's rule of five\n",
      "Big organic molecule for CID 24892538 does not pass Lipinski's rule of five\n",
      "Big organic molecule for CID 24892552 does not pass Lipinski's rule of five\n",
      "Big organic molecule for CID 24892599 does not pass Lipinski's rule of five\n",
      "Big organic molecule for CID 24892602 does not pass Lipinski's rule of five\n",
      "Big organic molecule for CID 24892636 does not pass Lipinski's rule of five\n",
      "Big organic molecule for CID 24892697 does not pass Lipinski's rule of five\n",
      "Big organic molecule for CID 24892699 does not pass Lipinski's rule of five\n",
      "Big organic molecule for CID 24892713 does not pass Lipinski's rule of five\n",
      "Cannot decide between ['CC(=O)OCC[N+](C)(C)C', '[O-]Cl(=O)(=O)=O'] for CID 93565\n",
      "Big organic molecule for CID 24981388 does not pass Lipinski's rule of five\n",
      "Big organic molecule for CID 24981418 does not pass Lipinski's rule of five\n",
      "Big organic molecule for CID 24981434 does not pass Lipinski's rule of five\n",
      "Big organic molecule for CID 3033832 does not pass Lipinski's rule of five\n",
      "Big organic molecule for CID 24982208 does not pass Lipinski's rule of five\n",
      "Big organic molecule for CID 24982214 does not pass Lipinski's rule of five\n",
      "Big organic molecule for CID 24982679 does not pass Lipinski's rule of five\n",
      "Big organic molecule for CID 24982687 does not pass Lipinski's rule of five\n",
      "Big organic molecule for CID 24982711 does not pass Lipinski's rule of five\n",
      "Cannot decide between ['CCN(CC)C(=O)N1CCN(CC1)C', 'C(C(=O)O)C(CC(=O)O)(C(=O)O)O'] for CID 15432\n",
      "Big organic molecule for CID 5284439 does not pass Lipinski's rule of five\n",
      "Big organic molecule for CID 444034 does not pass Lipinski's rule of five\n",
      "Big organic molecule for CID 54682932 does not pass Lipinski's rule of five\n",
      "Cannot decide between ['CCN(CC)CCC1=NC(=NO1)C2=CC=CC=C2', 'C(C(=O)O)C(CC(=O)O)(C(=O)O)O'] for CID 264891\n",
      "Cannot decide between ['CC1(CCCC(N1C)(C)C)C', 'C(C(C(=O)O)O)(C(=O)O)O'] for CID 6419918\n",
      "Cannot decide between ['CC(CCC=C(C)C)NC', 'C(C(C(C(=O)O)O)O)(C(C(=O)O)O)O'] for CID 24109\n",
      "Big organic molecule for CID 3085006 does not pass Lipinski's rule of five\n",
      "Cannot decide between ['CN1CCC[C@H]1C2=CN=CC=C2', 'C(C(C(=O)O)O)(C(=O)O)O'] for CID 6708476\n",
      "Big organic molecule for CID 23930391 does not pass Lipinski's rule of five\n",
      "Big organic molecule for CID 175533 does not pass Lipinski's rule of five\n",
      "Cannot decide between ['CCSC(=N)N', 'Br'] for CID 200213\n",
      "Big organic molecule for CID 65557 does not pass Lipinski's rule of five\n",
      "Cannot decide between ['C1CCC(C(C1)[NH-])[NH-]', 'Cl[Pt+2]Cl'] for CID 426607\n",
      "Cannot decide between ['CC1=CNN=C1', 'Cl'] for CID 11957593\n",
      "Big organic molecule for CID 6604126 does not pass Lipinski's rule of five\n",
      "Big organic molecule for CID 23641207 does not pass Lipinski's rule of five\n",
      "Cannot decide between ['C(C(=O)O)ON', 'Cl'] for CID 10129958\n",
      "Big organic molecule for CID 53313129 does not pass Lipinski's rule of five\n",
      "Big organic molecule for CID 53299515 does not pass Lipinski's rule of five\n",
      "Big organic molecule for CID 53313031 does not pass Lipinski's rule of five\n",
      "Big organic molecule for CID 51358932 does not pass Lipinski's rule of five\n",
      "Big organic molecule for CID 56603526 does not pass Lipinski's rule of five\n",
      "Big organic molecule for CID 53299545 does not pass Lipinski's rule of five\n",
      "Big organic molecule for CID 53313029 does not pass Lipinski's rule of five\n",
      "Big organic molecule for CID 53312834 does not pass Lipinski's rule of five\n",
      "Big organic molecule for CID 53313028 does not pass Lipinski's rule of five\n",
      "Big organic molecule for CID 53313039 does not pass Lipinski's rule of five\n",
      "Big organic molecule for CID 53299548 does not pass Lipinski's rule of five\n",
      "Big organic molecule for CID 53312848 does not pass Lipinski's rule of five\n",
      "Big organic molecule for CID 53312851 does not pass Lipinski's rule of five\n",
      "Big organic molecule for CID 53299531 does not pass Lipinski's rule of five\n",
      "Big organic molecule for CID 53299506 does not pass Lipinski's rule of five\n",
      "Big organic molecule for CID 53299511 does not pass Lipinski's rule of five\n",
      "Big organic molecule for CID 53313062 does not pass Lipinski's rule of five\n",
      "Big organic molecule for CID 53299549 does not pass Lipinski's rule of five\n",
      "Big organic molecule for CID 53299534 does not pass Lipinski's rule of five\n",
      "Big organic molecule for CID 56603524 does not pass Lipinski's rule of five\n",
      "Big organic molecule for CID 53313038 does not pass Lipinski's rule of five\n",
      "Big organic molecule for CID 53312880 does not pass Lipinski's rule of five\n",
      "Big organic molecule for CID 53313032 does not pass Lipinski's rule of five\n",
      "Big organic molecule for CID 53313035 does not pass Lipinski's rule of five\n",
      "Big organic molecule for CID 53313088 does not pass Lipinski's rule of five\n",
      "Big organic molecule for CID 53313033 does not pass Lipinski's rule of five\n",
      "Big organic molecule for CID 56603527 does not pass Lipinski's rule of five\n",
      "Big organic molecule for CID 53313037 does not pass Lipinski's rule of five\n",
      "Big organic molecule for CID 53312878 does not pass Lipinski's rule of five\n",
      "Big organic molecule for CID 53312849 does not pass Lipinski's rule of five\n",
      "Big organic molecule for CID 53312873 does not pass Lipinski's rule of five\n",
      "Big organic molecule for CID 53313030 does not pass Lipinski's rule of five\n",
      "Big organic molecule for CID 53313077 does not pass Lipinski's rule of five\n",
      "Big organic molecule for CID 53312864 does not pass Lipinski's rule of five\n",
      "Big organic molecule for CID 56603530 does not pass Lipinski's rule of five\n",
      "Big organic molecule for CID 53312924 does not pass Lipinski's rule of five\n",
      "Big organic molecule for CID 53312841 does not pass Lipinski's rule of five\n",
      "Big organic molecule for CID 56603525 does not pass Lipinski's rule of five\n",
      "Big organic molecule for CID 53312847 does not pass Lipinski's rule of five\n",
      "Big organic molecule for CID 53313036 does not pass Lipinski's rule of five\n",
      "Big organic molecule for CID 56603529 does not pass Lipinski's rule of five\n",
      "Big organic molecule for CID 53313051 does not pass Lipinski's rule of five\n",
      "Big organic molecule for CID 53312871 does not pass Lipinski's rule of five\n",
      "Big organic molecule for CID 53312846 does not pass Lipinski's rule of five\n",
      "Big organic molecule for CID 53312925 does not pass Lipinski's rule of five\n",
      "Big organic molecule for CID 53313034 does not pass Lipinski's rule of five\n",
      "Big organic molecule for CID 56603528 does not pass Lipinski's rule of five\n",
      "Big organic molecule for CID 53299507 does not pass Lipinski's rule of five\n",
      "Big organic molecule for CID 53312872 does not pass Lipinski's rule of five\n",
      "Big organic molecule for CID 53312907 does not pass Lipinski's rule of five\n",
      "Big organic molecule for CID 8566 does not pass Lipinski's rule of five\n",
      "Cannot decide between ['CN(C)C1=NC2=CC=CC=C2C(=C1)N', 'C1=C(NC(=O)NC1=O)C(=O)O'] for CID 646688\n",
      "Cannot decide between ['C1C2(CN3CN1CN(C2)C3)N', 'C1=CC(=CN=C1)C(=O)O'] for CID 648270\n",
      "Cannot decide between ['CN(C)C1=NC2=C(CCC2)C(=C1)N', 'C1=C(C=NC=C1O)C(=O)O'] for CID 652177\n",
      "Big organic molecule for CID 44143169 does not pass Lipinski's rule of five\n",
      "Big organic molecule for CID 44143171 does not pass Lipinski's rule of five\n",
      "Big organic molecule for CID 44143173 does not pass Lipinski's rule of five\n",
      "Big organic molecule for CID 44143175 does not pass Lipinski's rule of five\n",
      "Big organic molecule for CID 44143183 does not pass Lipinski's rule of five\n",
      "Big organic molecule for CID 44143185 does not pass Lipinski's rule of five\n",
      "Big organic molecule for CID 44143187 does not pass Lipinski's rule of five\n",
      "Big organic molecule for CID 44143191 does not pass Lipinski's rule of five\n",
      "Big organic molecule for CID 44143195 does not pass Lipinski's rule of five\n",
      "Big organic molecule for CID 44143199 does not pass Lipinski's rule of five\n",
      "Big organic molecule for CID 406563 does not pass Lipinski's rule of five\n",
      "Big organic molecule for CID 44143234 does not pass Lipinski's rule of five\n",
      "Cannot decide between ['CC1=NC2=C(S1)C3=CC=CC=C3C=C2', 'C1=C(C=C(C(=C1[N+](=O)[O-])O)[N+](=O)[O-])[N+](=O)[O-]'] for CID 654127\n",
      "Big organic molecule for CID 44202982 does not pass Lipinski's rule of five\n",
      "Big organic molecule for CID 44202984 does not pass Lipinski's rule of five\n",
      "Cannot decide between ['CCCC[N+](CCCC)(CCCC)CCCC', 'C1=CN(C(=O)N=C1N)[C@H]2[C@@H]([C@@H]([C@H](O2)COS(=O)(=O)[O-])O)O'] for CID 44202985\n",
      "Cannot decide between ['CCCC[N+](CCCC)(CCCC)CCCC', 'CC1=CN(C(=O)NC1=O)[C@H]2C[C@@H]([C@H](O2)COS(=O)(=O)[O-])O'] for CID 44202986\n",
      "Big organic molecule for CID 135949086 does not pass Lipinski's rule of five\n",
      "Cannot decide between ['CCCC[N+](CCCC)(CCCC)CCCC', 'C1=CN(C(=O)NC1=O)[C@H]2[C@@H]([C@@H]([C@H](O2)COS(=O)(=O)[O-])O)O'] for CID 44202988\n",
      "Big organic molecule for CID 16238964 does not pass Lipinski's rule of five\n",
      "Big organic molecule for CID 44246777 does not pass Lipinski's rule of five\n",
      "Big organic molecule for CID 44246779 does not pass Lipinski's rule of five\n",
      "Big organic molecule for CID 44246781 does not pass Lipinski's rule of five\n",
      "Big organic molecule for CID 44246799 does not pass Lipinski's rule of five\n",
      "Big organic molecule for CID 44246809 does not pass Lipinski's rule of five\n",
      "Big organic molecule for CID 44246813 does not pass Lipinski's rule of five\n",
      "Big organic molecule for CID 44246817 does not pass Lipinski's rule of five\n",
      "Big organic molecule for CID 44246819 does not pass Lipinski's rule of five\n",
      "Big organic molecule for CID 44246821 does not pass Lipinski's rule of five\n",
      "Big organic molecule for CID 44246823 does not pass Lipinski's rule of five\n",
      "Big organic molecule for CID 44246825 does not pass Lipinski's rule of five\n",
      "Big organic molecule for CID 44246827 does not pass Lipinski's rule of five\n",
      "Big organic molecule for CID 44246831 does not pass Lipinski's rule of five\n",
      "Big organic molecule for CID 44246953 does not pass Lipinski's rule of five\n",
      "Big organic molecule for CID 44246955 does not pass Lipinski's rule of five\n",
      "Big organic molecule for CID 44246957 does not pass Lipinski's rule of five\n",
      "Big organic molecule for CID 44246959 does not pass Lipinski's rule of five\n",
      "Big organic molecule for CID 44246961 does not pass Lipinski's rule of five\n",
      "Big organic molecule for CID 44246963 does not pass Lipinski's rule of five\n",
      "Big organic molecule for CID 44246965 does not pass Lipinski's rule of five\n",
      "Big organic molecule for CID 44246967 does not pass Lipinski's rule of five\n",
      "Big organic molecule for CID 44246969 does not pass Lipinski's rule of five\n",
      "Big organic molecule for CID 44246971 does not pass Lipinski's rule of five\n",
      "Big organic molecule for CID 44246973 does not pass Lipinski's rule of five\n",
      "Big organic molecule for CID 44246975 does not pass Lipinski's rule of five\n",
      "Big organic molecule for CID 44246979 does not pass Lipinski's rule of five\n",
      "Big organic molecule for CID 44246981 does not pass Lipinski's rule of five\n",
      "Big organic molecule for CID 44246983 does not pass Lipinski's rule of five\n",
      "Big organic molecule for CID 44246989 does not pass Lipinski's rule of five\n",
      "Big organic molecule for CID 44246993 does not pass Lipinski's rule of five\n",
      "Big organic molecule for CID 44246997 does not pass Lipinski's rule of five\n",
      "Big organic molecule for CID 44246999 does not pass Lipinski's rule of five\n",
      "Big organic molecule for CID 44247001 does not pass Lipinski's rule of five\n",
      "Big organic molecule for CID 44247003 does not pass Lipinski's rule of five\n",
      "Big organic molecule for CID 44247047 does not pass Lipinski's rule of five\n",
      "Big organic molecule for CID 44247051 does not pass Lipinski's rule of five\n",
      "Big organic molecule for CID 44247061 does not pass Lipinski's rule of five\n",
      "Big organic molecule for CID 44247079 does not pass Lipinski's rule of five\n",
      "Big organic molecule for CID 44247081 does not pass Lipinski's rule of five\n",
      "Big organic molecule for CID 44247091 does not pass Lipinski's rule of five\n",
      "Big organic molecule for CID 44247131 does not pass Lipinski's rule of five\n",
      "Big organic molecule for CID 44247133 does not pass Lipinski's rule of five\n",
      "Big organic molecule for CID 44247161 does not pass Lipinski's rule of five\n",
      "Big organic molecule for CID 44247163 does not pass Lipinski's rule of five\n",
      "Big organic molecule for CID 44247165 does not pass Lipinski's rule of five\n",
      "Big organic molecule for CID 44247189 does not pass Lipinski's rule of five\n",
      "Big organic molecule for CID 44247193 does not pass Lipinski's rule of five\n",
      "Big organic molecule for CID 44247203 does not pass Lipinski's rule of five\n",
      "Big organic molecule for CID 44247217 does not pass Lipinski's rule of five\n",
      "Big organic molecule for CID 44247219 does not pass Lipinski's rule of five\n",
      "Big organic molecule for CID 44247221 does not pass Lipinski's rule of five\n",
      "Big organic molecule for CID 44247223 does not pass Lipinski's rule of five\n",
      "Big organic molecule for CID 44247225 does not pass Lipinski's rule of five\n",
      "Big organic molecule for CID 44247231 does not pass Lipinski's rule of five\n",
      "Big organic molecule for CID 44247233 does not pass Lipinski's rule of five\n",
      "Big organic molecule for CID 44247241 does not pass Lipinski's rule of five\n",
      "Big organic molecule for CID 44247245 does not pass Lipinski's rule of five\n",
      "Big organic molecule for CID 44247247 does not pass Lipinski's rule of five\n",
      "Big organic molecule for CID 44247251 does not pass Lipinski's rule of five\n",
      "Big organic molecule for CID 44247253 does not pass Lipinski's rule of five\n",
      "Cannot decide between ['C1CC1C(C2CC2)NC3=NCCO3', 'C(=C/C(=O)O)\\\\C(=O)O'] for CID 5388964\n",
      "Cannot decide between ['CN1C(=O)C2=C(N=C(N2)Cl)N(C1=O)C(=O)[O-]', 'CN(C)CCOC(C1=CC=CC=C1)C2=CC=CC=C2'] for CID 657227\n",
      "Cannot decide between ['C1CN(CCN1CCOCCO)C(C2=CC=CC=C2)C3=CC=C(C=C3)Cl', 'C1=CC=C2C(=C1)C=C(C(=C2CC3=C(C(=CC4=CC=CC=C43)C(=O)O)O)O)C(=O)O'] for CID 25096\n",
      "Big organic molecule for CID 5284352 does not pass Lipinski's rule of five\n"
     ]
    }
   ],
   "source": [
    "processed_hits, removed_hits, small_organic_hits, small_inorganic_hits, not_lipinski_hits, cleaned_hits = process_smiles_dataframe(organic_hits)\n",
    "processed_inactives, removed_inactives, small_organic_inactives, small_inorganic_inactives, not_lipinski_inactives, cleaned_inactives = process_smiles_dataframe(organic_inactives)"
   ]
  },
  {
   "cell_type": "code",
   "execution_count": 50,
   "metadata": {},
   "outputs": [],
   "source": [
    "# Create a new step folder\n",
    "if not os.path.exists(f'{data_folder}/before_finished/step_8'):\n",
    "    os.makedirs(f'{data_folder}/before_finished/step_8')"
   ]
  },
  {
   "cell_type": "code",
   "execution_count": 51,
   "metadata": {},
   "outputs": [],
   "source": [
    "#Generate df with the smiles column in the cleaned_hits or cleaned_inactives dictionary:\n",
    "cleaned_hits_df = pd.DataFrame(list(cleaned_hits.values()), columns=['PUBCHEM_EXT_DATASOURCE_SMILES'])\n",
    "cleaned_inactives_df = pd.DataFrame(list(cleaned_inactives.values()), columns=['PUBCHEM_EXT_DATASOURCE_SMILES'])"
   ]
  },
  {
   "cell_type": "code",
   "execution_count": 52,
   "metadata": {},
   "outputs": [],
   "source": [
    "#Export the cleaned hits and inactives to csv:\n",
    "cleaned_hits_df.to_csv(f'{data_folder}/before_finished/step_8/cleaned_mixtures_hits.csv', index=False, header=False)\n",
    "cleaned_inactives_df.to_csv(f'{data_folder}/before_finished/step_8/cleaned_mixtures_inactives.csv', index=False, header=False)"
   ]
  },
  {
   "cell_type": "code",
   "execution_count": 53,
   "metadata": {},
   "outputs": [
    {
     "name": "stdout",
     "output_type": "stream",
     "text": [
      "53313055 has been removed from hits_M1_antagonist because it is a mixture with less than 5 atoms difference or the big organic molecule does not pass Lipinski's rule of five.\n",
      "53313053 has been removed from hits_M1_antagonist because it is a mixture with less than 5 atoms difference or the big organic molecule does not pass Lipinski's rule of five.\n",
      "6852374 has been removed from inactives_M1_antagonist because it is a mixture with less than 5 atoms difference or the big organic molecule does not pass Lipinski's rule of five.\n",
      "151689 has been removed from inactives_M1_antagonist because it is a mixture with less than 5 atoms difference or the big organic molecule does not pass Lipinski's rule of five.\n",
      "6420009 has been removed from inactives_M1_antagonist because it is a mixture with less than 5 atoms difference or the big organic molecule does not pass Lipinski's rule of five.\n",
      "6419965 has been removed from inactives_M1_antagonist because it is a mixture with less than 5 atoms difference or the big organic molecule does not pass Lipinski's rule of five.\n",
      "62881 has been removed from inactives_M1_antagonist because it is a mixture with less than 5 atoms difference or the big organic molecule does not pass Lipinski's rule of five.\n",
      "6852409 has been removed from inactives_M1_antagonist because it is a mixture with less than 5 atoms difference or the big organic molecule does not pass Lipinski's rule of five.\n",
      "61100 has been removed from inactives_M1_antagonist because it is a mixture with less than 5 atoms difference or the big organic molecule does not pass Lipinski's rule of five.\n",
      "9082 has been removed from inactives_M1_antagonist because it is a mixture with less than 5 atoms difference or the big organic molecule does not pass Lipinski's rule of five.\n",
      "9549148 has been removed from inactives_M1_antagonist because it is a mixture with less than 5 atoms difference or the big organic molecule does not pass Lipinski's rule of five.\n",
      "9549466 has been removed from inactives_M1_antagonist because it is a mixture with less than 5 atoms difference or the big organic molecule does not pass Lipinski's rule of five.\n",
      "9549634 has been removed from inactives_M1_antagonist because it is a mixture with less than 5 atoms difference or the big organic molecule does not pass Lipinski's rule of five.\n",
      "9549642 has been removed from inactives_M1_antagonist because it is a mixture with less than 5 atoms difference or the big organic molecule does not pass Lipinski's rule of five.\n",
      "5717182 has been removed from inactives_M1_antagonist because it is a mixture with less than 5 atoms difference or the big organic molecule does not pass Lipinski's rule of five.\n",
      "9551917 has been removed from inactives_M1_antagonist because it is a mixture with less than 5 atoms difference or the big organic molecule does not pass Lipinski's rule of five.\n",
      "135512395 has been removed from inactives_M1_antagonist because it is a mixture with less than 5 atoms difference or the big organic molecule does not pass Lipinski's rule of five.\n",
      "9552033 has been removed from inactives_M1_antagonist because it is a mixture with less than 5 atoms difference or the big organic molecule does not pass Lipinski's rule of five.\n",
      "135501964 has been removed from inactives_M1_antagonist because it is a mixture with less than 5 atoms difference or the big organic molecule does not pass Lipinski's rule of five.\n",
      "11948854 has been removed from inactives_M1_antagonist because it is a mixture with less than 5 atoms difference or the big organic molecule does not pass Lipinski's rule of five.\n",
      "11948864 has been removed from inactives_M1_antagonist because it is a mixture with less than 5 atoms difference or the big organic molecule does not pass Lipinski's rule of five.\n",
      "135490316 has been removed from inactives_M1_antagonist because it is a mixture with less than 5 atoms difference or the big organic molecule does not pass Lipinski's rule of five.\n",
      "11958671 has been removed from inactives_M1_antagonist because it is a mixture with less than 5 atoms difference or the big organic molecule does not pass Lipinski's rule of five.\n",
      "11958904 has been removed from inactives_M1_antagonist because it is a mixture with less than 5 atoms difference or the big organic molecule does not pass Lipinski's rule of five.\n",
      "5729990 has been removed from inactives_M1_antagonist because it is a mixture with less than 5 atoms difference or the big organic molecule does not pass Lipinski's rule of five.\n",
      "135497979 has been removed from inactives_M1_antagonist because it is a mixture with less than 5 atoms difference or the big organic molecule does not pass Lipinski's rule of five.\n",
      "12004634 has been removed from inactives_M1_antagonist because it is a mixture with less than 5 atoms difference or the big organic molecule does not pass Lipinski's rule of five.\n",
      "6611006 has been removed from inactives_M1_antagonist because it is a mixture with less than 5 atoms difference or the big organic molecule does not pass Lipinski's rule of five.\n",
      "12005524 has been removed from inactives_M1_antagonist because it is a mixture with less than 5 atoms difference or the big organic molecule does not pass Lipinski's rule of five.\n",
      "12005527 has been removed from inactives_M1_antagonist because it is a mixture with less than 5 atoms difference or the big organic molecule does not pass Lipinski's rule of five.\n",
      "12005677 has been removed from inactives_M1_antagonist because it is a mixture with less than 5 atoms difference or the big organic molecule does not pass Lipinski's rule of five.\n",
      "12005684 has been removed from inactives_M1_antagonist because it is a mixture with less than 5 atoms difference or the big organic molecule does not pass Lipinski's rule of five.\n",
      "135517121 has been removed from inactives_M1_antagonist because it is a mixture with less than 5 atoms difference or the big organic molecule does not pass Lipinski's rule of five.\n",
      "15944745 has been removed from inactives_M1_antagonist because it is a mixture with less than 5 atoms difference or the big organic molecule does not pass Lipinski's rule of five.\n",
      "15944844 has been removed from inactives_M1_antagonist because it is a mixture with less than 5 atoms difference or the big organic molecule does not pass Lipinski's rule of five.\n",
      "15944931 has been removed from inactives_M1_antagonist because it is a mixture with less than 5 atoms difference or the big organic molecule does not pass Lipinski's rule of five.\n",
      "15944957 has been removed from inactives_M1_antagonist because it is a mixture with less than 5 atoms difference or the big organic molecule does not pass Lipinski's rule of five.\n",
      "15944995 has been removed from inactives_M1_antagonist because it is a mixture with less than 5 atoms difference or the big organic molecule does not pass Lipinski's rule of five.\n",
      "15945076 has been removed from inactives_M1_antagonist because it is a mixture with less than 5 atoms difference or the big organic molecule does not pass Lipinski's rule of five.\n",
      "15945399 has been removed from inactives_M1_antagonist because it is a mixture with less than 5 atoms difference or the big organic molecule does not pass Lipinski's rule of five.\n",
      "15945428 has been removed from inactives_M1_antagonist because it is a mixture with less than 5 atoms difference or the big organic molecule does not pass Lipinski's rule of five.\n",
      "15945589 has been removed from inactives_M1_antagonist because it is a mixture with less than 5 atoms difference or the big organic molecule does not pass Lipinski's rule of five.\n",
      "14219810 has been removed from inactives_M1_antagonist because it is a mixture with less than 5 atoms difference or the big organic molecule does not pass Lipinski's rule of five.\n",
      "15945641 has been removed from inactives_M1_antagonist because it is a mixture with less than 5 atoms difference or the big organic molecule does not pass Lipinski's rule of five.\n",
      "14291980 has been removed from inactives_M1_antagonist because it is a mixture with less than 5 atoms difference or the big organic molecule does not pass Lipinski's rule of five.\n",
      "15945791 has been removed from inactives_M1_antagonist because it is a mixture with less than 5 atoms difference or the big organic molecule does not pass Lipinski's rule of five.\n",
      "14219807 has been removed from inactives_M1_antagonist because it is a mixture with less than 5 atoms difference or the big organic molecule does not pass Lipinski's rule of five.\n",
      "135433258 has been removed from inactives_M1_antagonist because it is a mixture with less than 5 atoms difference or the big organic molecule does not pass Lipinski's rule of five.\n",
      "5718631 has been removed from inactives_M1_antagonist because it is a mixture with less than 5 atoms difference or the big organic molecule does not pass Lipinski's rule of five.\n",
      "16192930 has been removed from inactives_M1_antagonist because it is a mixture with less than 5 atoms difference or the big organic molecule does not pass Lipinski's rule of five.\n",
      "56642840 has been removed from inactives_M1_antagonist because it is a mixture with less than 5 atoms difference or the big organic molecule does not pass Lipinski's rule of five.\n",
      "16193495 has been removed from inactives_M1_antagonist because it is a mixture with less than 5 atoms difference or the big organic molecule does not pass Lipinski's rule of five.\n",
      "16193567 has been removed from inactives_M1_antagonist because it is a mixture with less than 5 atoms difference or the big organic molecule does not pass Lipinski's rule of five.\n",
      "16193568 has been removed from inactives_M1_antagonist because it is a mixture with less than 5 atoms difference or the big organic molecule does not pass Lipinski's rule of five.\n",
      "16193570 has been removed from inactives_M1_antagonist because it is a mixture with less than 5 atoms difference or the big organic molecule does not pass Lipinski's rule of five.\n",
      "10864994 has been removed from inactives_M1_antagonist because it is a mixture with less than 5 atoms difference or the big organic molecule does not pass Lipinski's rule of five.\n",
      "16196049 has been removed from inactives_M1_antagonist because it is a mixture with less than 5 atoms difference or the big organic molecule does not pass Lipinski's rule of five.\n",
      "16196732 has been removed from inactives_M1_antagonist because it is a mixture with less than 5 atoms difference or the big organic molecule does not pass Lipinski's rule of five.\n",
      "16682212 has been removed from inactives_M1_antagonist because it is a mixture with less than 5 atoms difference or the big organic molecule does not pass Lipinski's rule of five.\n",
      "222696 has been removed from inactives_M1_antagonist because it is a mixture with less than 5 atoms difference or the big organic molecule does not pass Lipinski's rule of five.\n",
      "135691036 has been removed from inactives_M1_antagonist because it is a mixture with less than 5 atoms difference or the big organic molecule does not pass Lipinski's rule of five.\n",
      "135675926 has been removed from inactives_M1_antagonist because it is a mixture with less than 5 atoms difference or the big organic molecule does not pass Lipinski's rule of five.\n",
      "16240588 has been removed from inactives_M1_antagonist because it is a mixture with less than 5 atoms difference or the big organic molecule does not pass Lipinski's rule of five.\n",
      "16745857 has been removed from inactives_M1_antagonist because it is a mixture with less than 5 atoms difference or the big organic molecule does not pass Lipinski's rule of five.\n",
      "135712454 has been removed from inactives_M1_antagonist because it is a mixture with less than 5 atoms difference or the big organic molecule does not pass Lipinski's rule of five.\n",
      "3241713 has been removed from inactives_M1_antagonist because it is a mixture with less than 5 atoms difference or the big organic molecule does not pass Lipinski's rule of five.\n",
      "3244813 has been removed from inactives_M1_antagonist because it is a mixture with less than 5 atoms difference or the big organic molecule does not pass Lipinski's rule of five.\n",
      "16219228 has been removed from inactives_M1_antagonist because it is a mixture with less than 5 atoms difference or the big organic molecule does not pass Lipinski's rule of five.\n",
      "16219016 has been removed from inactives_M1_antagonist because it is a mixture with less than 5 atoms difference or the big organic molecule does not pass Lipinski's rule of five.\n",
      "23640915 has been removed from inactives_M1_antagonist because it is a mixture with less than 5 atoms difference or the big organic molecule does not pass Lipinski's rule of five.\n",
      "9896684 has been removed from inactives_M1_antagonist because it is a mixture with less than 5 atoms difference or the big organic molecule does not pass Lipinski's rule of five.\n",
      "23723054 has been removed from inactives_M1_antagonist because it is a mixture with less than 5 atoms difference or the big organic molecule does not pass Lipinski's rule of five.\n",
      "23723127 has been removed from inactives_M1_antagonist because it is a mixture with less than 5 atoms difference or the big organic molecule does not pass Lipinski's rule of five.\n",
      "23723893 has been removed from inactives_M1_antagonist because it is a mixture with less than 5 atoms difference or the big organic molecule does not pass Lipinski's rule of five.\n",
      "23724223 has been removed from inactives_M1_antagonist because it is a mixture with less than 5 atoms difference or the big organic molecule does not pass Lipinski's rule of five.\n",
      "5344271 has been removed from inactives_M1_antagonist because it is a mixture with less than 5 atoms difference or the big organic molecule does not pass Lipinski's rule of five.\n",
      "23724359 has been removed from inactives_M1_antagonist because it is a mixture with less than 5 atoms difference or the big organic molecule does not pass Lipinski's rule of five.\n",
      "24761675 has been removed from inactives_M1_antagonist because it is a mixture with less than 5 atoms difference or the big organic molecule does not pass Lipinski's rule of five.\n",
      "6473767 has been removed from inactives_M1_antagonist because it is a mixture with less than 5 atoms difference or the big organic molecule does not pass Lipinski's rule of five.\n",
      "64142 has been removed from inactives_M1_antagonist because it is a mixture with less than 5 atoms difference or the big organic molecule does not pass Lipinski's rule of five.\n",
      "9847786 has been removed from inactives_M1_antagonist because it is a mixture with less than 5 atoms difference or the big organic molecule does not pass Lipinski's rule of five.\n",
      "60934 has been removed from inactives_M1_antagonist because it is a mixture with less than 5 atoms difference or the big organic molecule does not pass Lipinski's rule of five.\n",
      "24816488 has been removed from inactives_M1_antagonist because it is a mixture with less than 5 atoms difference or the big organic molecule does not pass Lipinski's rule of five.\n",
      "24816489 has been removed from inactives_M1_antagonist because it is a mixture with less than 5 atoms difference or the big organic molecule does not pass Lipinski's rule of five.\n",
      "24816490 has been removed from inactives_M1_antagonist because it is a mixture with less than 5 atoms difference or the big organic molecule does not pass Lipinski's rule of five.\n",
      "24816492 has been removed from inactives_M1_antagonist because it is a mixture with less than 5 atoms difference or the big organic molecule does not pass Lipinski's rule of five.\n",
      "24816519 has been removed from inactives_M1_antagonist because it is a mixture with less than 5 atoms difference or the big organic molecule does not pass Lipinski's rule of five.\n",
      "24816521 has been removed from inactives_M1_antagonist because it is a mixture with less than 5 atoms difference or the big organic molecule does not pass Lipinski's rule of five.\n",
      "24816523 has been removed from inactives_M1_antagonist because it is a mixture with less than 5 atoms difference or the big organic molecule does not pass Lipinski's rule of five.\n",
      "24816525 has been removed from inactives_M1_antagonist because it is a mixture with less than 5 atoms difference or the big organic molecule does not pass Lipinski's rule of five.\n",
      "2733525 has been removed from inactives_M1_antagonist because it is a mixture with less than 5 atoms difference or the big organic molecule does not pass Lipinski's rule of five.\n",
      "54732065 has been removed from inactives_M1_antagonist because it is a mixture with less than 5 atoms difference or the big organic molecule does not pass Lipinski's rule of five.\n",
      "118738 has been removed from inactives_M1_antagonist because it is a mixture with less than 5 atoms difference or the big organic molecule does not pass Lipinski's rule of five.\n",
      "6419953 has been removed from inactives_M1_antagonist because it is a mixture with less than 5 atoms difference or the big organic molecule does not pass Lipinski's rule of five.\n",
      "16396156 has been removed from inactives_M1_antagonist because it is a mixture with less than 5 atoms difference or the big organic molecule does not pass Lipinski's rule of five.\n",
      "24891760 has been removed from inactives_M1_antagonist because it is a mixture with less than 5 atoms difference or the big organic molecule does not pass Lipinski's rule of five.\n",
      "24891762 has been removed from inactives_M1_antagonist because it is a mixture with less than 5 atoms difference or the big organic molecule does not pass Lipinski's rule of five.\n",
      "24891764 has been removed from inactives_M1_antagonist because it is a mixture with less than 5 atoms difference or the big organic molecule does not pass Lipinski's rule of five.\n",
      "24891766 has been removed from inactives_M1_antagonist because it is a mixture with less than 5 atoms difference or the big organic molecule does not pass Lipinski's rule of five.\n",
      "24891768 has been removed from inactives_M1_antagonist because it is a mixture with less than 5 atoms difference or the big organic molecule does not pass Lipinski's rule of five.\n",
      "24891770 has been removed from inactives_M1_antagonist because it is a mixture with less than 5 atoms difference or the big organic molecule does not pass Lipinski's rule of five.\n",
      "24891772 has been removed from inactives_M1_antagonist because it is a mixture with less than 5 atoms difference or the big organic molecule does not pass Lipinski's rule of five.\n",
      "24891774 has been removed from inactives_M1_antagonist because it is a mixture with less than 5 atoms difference or the big organic molecule does not pass Lipinski's rule of five.\n",
      "24891776 has been removed from inactives_M1_antagonist because it is a mixture with less than 5 atoms difference or the big organic molecule does not pass Lipinski's rule of five.\n",
      "24891778 has been removed from inactives_M1_antagonist because it is a mixture with less than 5 atoms difference or the big organic molecule does not pass Lipinski's rule of five.\n",
      "24891780 has been removed from inactives_M1_antagonist because it is a mixture with less than 5 atoms difference or the big organic molecule does not pass Lipinski's rule of five.\n",
      "24891782 has been removed from inactives_M1_antagonist because it is a mixture with less than 5 atoms difference or the big organic molecule does not pass Lipinski's rule of five.\n",
      "24891784 has been removed from inactives_M1_antagonist because it is a mixture with less than 5 atoms difference or the big organic molecule does not pass Lipinski's rule of five.\n",
      "24891786 has been removed from inactives_M1_antagonist because it is a mixture with less than 5 atoms difference or the big organic molecule does not pass Lipinski's rule of five.\n",
      "24891788 has been removed from inactives_M1_antagonist because it is a mixture with less than 5 atoms difference or the big organic molecule does not pass Lipinski's rule of five.\n",
      "24891790 has been removed from inactives_M1_antagonist because it is a mixture with less than 5 atoms difference or the big organic molecule does not pass Lipinski's rule of five.\n",
      "24891792 has been removed from inactives_M1_antagonist because it is a mixture with less than 5 atoms difference or the big organic molecule does not pass Lipinski's rule of five.\n",
      "24891794 has been removed from inactives_M1_antagonist because it is a mixture with less than 5 atoms difference or the big organic molecule does not pass Lipinski's rule of five.\n",
      "24891796 has been removed from inactives_M1_antagonist because it is a mixture with less than 5 atoms difference or the big organic molecule does not pass Lipinski's rule of five.\n",
      "24891798 has been removed from inactives_M1_antagonist because it is a mixture with less than 5 atoms difference or the big organic molecule does not pass Lipinski's rule of five.\n",
      "24891800 has been removed from inactives_M1_antagonist because it is a mixture with less than 5 atoms difference or the big organic molecule does not pass Lipinski's rule of five.\n",
      "24891802 has been removed from inactives_M1_antagonist because it is a mixture with less than 5 atoms difference or the big organic molecule does not pass Lipinski's rule of five.\n",
      "24891804 has been removed from inactives_M1_antagonist because it is a mixture with less than 5 atoms difference or the big organic molecule does not pass Lipinski's rule of five.\n",
      "24891806 has been removed from inactives_M1_antagonist because it is a mixture with less than 5 atoms difference or the big organic molecule does not pass Lipinski's rule of five.\n",
      "24891808 has been removed from inactives_M1_antagonist because it is a mixture with less than 5 atoms difference or the big organic molecule does not pass Lipinski's rule of five.\n",
      "24891810 has been removed from inactives_M1_antagonist because it is a mixture with less than 5 atoms difference or the big organic molecule does not pass Lipinski's rule of five.\n",
      "24891812 has been removed from inactives_M1_antagonist because it is a mixture with less than 5 atoms difference or the big organic molecule does not pass Lipinski's rule of five.\n",
      "24891814 has been removed from inactives_M1_antagonist because it is a mixture with less than 5 atoms difference or the big organic molecule does not pass Lipinski's rule of five.\n",
      "24891816 has been removed from inactives_M1_antagonist because it is a mixture with less than 5 atoms difference or the big organic molecule does not pass Lipinski's rule of five.\n",
      "24891818 has been removed from inactives_M1_antagonist because it is a mixture with less than 5 atoms difference or the big organic molecule does not pass Lipinski's rule of five.\n",
      "24891820 has been removed from inactives_M1_antagonist because it is a mixture with less than 5 atoms difference or the big organic molecule does not pass Lipinski's rule of five.\n",
      "24891822 has been removed from inactives_M1_antagonist because it is a mixture with less than 5 atoms difference or the big organic molecule does not pass Lipinski's rule of five.\n",
      "24891824 has been removed from inactives_M1_antagonist because it is a mixture with less than 5 atoms difference or the big organic molecule does not pass Lipinski's rule of five.\n",
      "24891836 has been removed from inactives_M1_antagonist because it is a mixture with less than 5 atoms difference or the big organic molecule does not pass Lipinski's rule of five.\n",
      "24891838 has been removed from inactives_M1_antagonist because it is a mixture with less than 5 atoms difference or the big organic molecule does not pass Lipinski's rule of five.\n",
      "24891868 has been removed from inactives_M1_antagonist because it is a mixture with less than 5 atoms difference or the big organic molecule does not pass Lipinski's rule of five.\n",
      "24891874 has been removed from inactives_M1_antagonist because it is a mixture with less than 5 atoms difference or the big organic molecule does not pass Lipinski's rule of five.\n",
      "24891880 has been removed from inactives_M1_antagonist because it is a mixture with less than 5 atoms difference or the big organic molecule does not pass Lipinski's rule of five.\n",
      "24891886 has been removed from inactives_M1_antagonist because it is a mixture with less than 5 atoms difference or the big organic molecule does not pass Lipinski's rule of five.\n",
      "24892280 has been removed from inactives_M1_antagonist because it is a mixture with less than 5 atoms difference or the big organic molecule does not pass Lipinski's rule of five.\n",
      "24892288 has been removed from inactives_M1_antagonist because it is a mixture with less than 5 atoms difference or the big organic molecule does not pass Lipinski's rule of five.\n",
      "24892292 has been removed from inactives_M1_antagonist because it is a mixture with less than 5 atoms difference or the big organic molecule does not pass Lipinski's rule of five.\n",
      "24892293 has been removed from inactives_M1_antagonist because it is a mixture with less than 5 atoms difference or the big organic molecule does not pass Lipinski's rule of five.\n",
      "24892299 has been removed from inactives_M1_antagonist because it is a mixture with less than 5 atoms difference or the big organic molecule does not pass Lipinski's rule of five.\n",
      "24892325 has been removed from inactives_M1_antagonist because it is a mixture with less than 5 atoms difference or the big organic molecule does not pass Lipinski's rule of five.\n",
      "24892327 has been removed from inactives_M1_antagonist because it is a mixture with less than 5 atoms difference or the big organic molecule does not pass Lipinski's rule of five.\n",
      "24892333 has been removed from inactives_M1_antagonist because it is a mixture with less than 5 atoms difference or the big organic molecule does not pass Lipinski's rule of five.\n",
      "24892341 has been removed from inactives_M1_antagonist because it is a mixture with less than 5 atoms difference or the big organic molecule does not pass Lipinski's rule of five.\n",
      "24892438 has been removed from inactives_M1_antagonist because it is a mixture with less than 5 atoms difference or the big organic molecule does not pass Lipinski's rule of five.\n",
      "24892440 has been removed from inactives_M1_antagonist because it is a mixture with less than 5 atoms difference or the big organic molecule does not pass Lipinski's rule of five.\n",
      "24892442 has been removed from inactives_M1_antagonist because it is a mixture with less than 5 atoms difference or the big organic molecule does not pass Lipinski's rule of five.\n",
      "24892454 has been removed from inactives_M1_antagonist because it is a mixture with less than 5 atoms difference or the big organic molecule does not pass Lipinski's rule of five.\n",
      "24892460 has been removed from inactives_M1_antagonist because it is a mixture with less than 5 atoms difference or the big organic molecule does not pass Lipinski's rule of five.\n",
      "24892462 has been removed from inactives_M1_antagonist because it is a mixture with less than 5 atoms difference or the big organic molecule does not pass Lipinski's rule of five.\n",
      "24892464 has been removed from inactives_M1_antagonist because it is a mixture with less than 5 atoms difference or the big organic molecule does not pass Lipinski's rule of five.\n",
      "24892466 has been removed from inactives_M1_antagonist because it is a mixture with less than 5 atoms difference or the big organic molecule does not pass Lipinski's rule of five.\n",
      "24892468 has been removed from inactives_M1_antagonist because it is a mixture with less than 5 atoms difference or the big organic molecule does not pass Lipinski's rule of five.\n",
      "24892470 has been removed from inactives_M1_antagonist because it is a mixture with less than 5 atoms difference or the big organic molecule does not pass Lipinski's rule of five.\n",
      "24892472 has been removed from inactives_M1_antagonist because it is a mixture with less than 5 atoms difference or the big organic molecule does not pass Lipinski's rule of five.\n",
      "24892474 has been removed from inactives_M1_antagonist because it is a mixture with less than 5 atoms difference or the big organic molecule does not pass Lipinski's rule of five.\n",
      "24892478 has been removed from inactives_M1_antagonist because it is a mixture with less than 5 atoms difference or the big organic molecule does not pass Lipinski's rule of five.\n",
      "24892525 has been removed from inactives_M1_antagonist because it is a mixture with less than 5 atoms difference or the big organic molecule does not pass Lipinski's rule of five.\n",
      "24892527 has been removed from inactives_M1_antagonist because it is a mixture with less than 5 atoms difference or the big organic molecule does not pass Lipinski's rule of five.\n",
      "24892529 has been removed from inactives_M1_antagonist because it is a mixture with less than 5 atoms difference or the big organic molecule does not pass Lipinski's rule of five.\n",
      "24892532 has been removed from inactives_M1_antagonist because it is a mixture with less than 5 atoms difference or the big organic molecule does not pass Lipinski's rule of five.\n",
      "24892534 has been removed from inactives_M1_antagonist because it is a mixture with less than 5 atoms difference or the big organic molecule does not pass Lipinski's rule of five.\n",
      "24892536 has been removed from inactives_M1_antagonist because it is a mixture with less than 5 atoms difference or the big organic molecule does not pass Lipinski's rule of five.\n",
      "24892538 has been removed from inactives_M1_antagonist because it is a mixture with less than 5 atoms difference or the big organic molecule does not pass Lipinski's rule of five.\n",
      "24892552 has been removed from inactives_M1_antagonist because it is a mixture with less than 5 atoms difference or the big organic molecule does not pass Lipinski's rule of five.\n",
      "24892599 has been removed from inactives_M1_antagonist because it is a mixture with less than 5 atoms difference or the big organic molecule does not pass Lipinski's rule of five.\n",
      "24892602 has been removed from inactives_M1_antagonist because it is a mixture with less than 5 atoms difference or the big organic molecule does not pass Lipinski's rule of five.\n",
      "24892636 has been removed from inactives_M1_antagonist because it is a mixture with less than 5 atoms difference or the big organic molecule does not pass Lipinski's rule of five.\n",
      "24892697 has been removed from inactives_M1_antagonist because it is a mixture with less than 5 atoms difference or the big organic molecule does not pass Lipinski's rule of five.\n",
      "24892699 has been removed from inactives_M1_antagonist because it is a mixture with less than 5 atoms difference or the big organic molecule does not pass Lipinski's rule of five.\n",
      "24892713 has been removed from inactives_M1_antagonist because it is a mixture with less than 5 atoms difference or the big organic molecule does not pass Lipinski's rule of five.\n",
      "93565 has been removed from inactives_M1_antagonist because it is a mixture with less than 5 atoms difference or the big organic molecule does not pass Lipinski's rule of five.\n",
      "24981388 has been removed from inactives_M1_antagonist because it is a mixture with less than 5 atoms difference or the big organic molecule does not pass Lipinski's rule of five.\n",
      "24981418 has been removed from inactives_M1_antagonist because it is a mixture with less than 5 atoms difference or the big organic molecule does not pass Lipinski's rule of five.\n",
      "24981434 has been removed from inactives_M1_antagonist because it is a mixture with less than 5 atoms difference or the big organic molecule does not pass Lipinski's rule of five.\n",
      "3033832 has been removed from inactives_M1_antagonist because it is a mixture with less than 5 atoms difference or the big organic molecule does not pass Lipinski's rule of five.\n",
      "24982208 has been removed from inactives_M1_antagonist because it is a mixture with less than 5 atoms difference or the big organic molecule does not pass Lipinski's rule of five.\n",
      "24982214 has been removed from inactives_M1_antagonist because it is a mixture with less than 5 atoms difference or the big organic molecule does not pass Lipinski's rule of five.\n",
      "24982679 has been removed from inactives_M1_antagonist because it is a mixture with less than 5 atoms difference or the big organic molecule does not pass Lipinski's rule of five.\n",
      "24982687 has been removed from inactives_M1_antagonist because it is a mixture with less than 5 atoms difference or the big organic molecule does not pass Lipinski's rule of five.\n",
      "24982711 has been removed from inactives_M1_antagonist because it is a mixture with less than 5 atoms difference or the big organic molecule does not pass Lipinski's rule of five.\n",
      "15432 has been removed from inactives_M1_antagonist because it is a mixture with less than 5 atoms difference or the big organic molecule does not pass Lipinski's rule of five.\n",
      "5284439 has been removed from inactives_M1_antagonist because it is a mixture with less than 5 atoms difference or the big organic molecule does not pass Lipinski's rule of five.\n",
      "444034 has been removed from inactives_M1_antagonist because it is a mixture with less than 5 atoms difference or the big organic molecule does not pass Lipinski's rule of five.\n",
      "54682932 has been removed from inactives_M1_antagonist because it is a mixture with less than 5 atoms difference or the big organic molecule does not pass Lipinski's rule of five.\n",
      "264891 has been removed from inactives_M1_antagonist because it is a mixture with less than 5 atoms difference or the big organic molecule does not pass Lipinski's rule of five.\n",
      "6419918 has been removed from inactives_M1_antagonist because it is a mixture with less than 5 atoms difference or the big organic molecule does not pass Lipinski's rule of five.\n",
      "24109 has been removed from inactives_M1_antagonist because it is a mixture with less than 5 atoms difference or the big organic molecule does not pass Lipinski's rule of five.\n",
      "3085006 has been removed from inactives_M1_antagonist because it is a mixture with less than 5 atoms difference or the big organic molecule does not pass Lipinski's rule of five.\n",
      "6708476 has been removed from inactives_M1_antagonist because it is a mixture with less than 5 atoms difference or the big organic molecule does not pass Lipinski's rule of five.\n",
      "23930391 has been removed from inactives_M1_antagonist because it is a mixture with less than 5 atoms difference or the big organic molecule does not pass Lipinski's rule of five.\n",
      "175533 has been removed from inactives_M1_antagonist because it is a mixture with less than 5 atoms difference or the big organic molecule does not pass Lipinski's rule of five.\n",
      "200213 has been removed from inactives_M1_antagonist because it is a mixture with less than 5 atoms difference or the big organic molecule does not pass Lipinski's rule of five.\n",
      "65557 has been removed from inactives_M1_antagonist because it is a mixture with less than 5 atoms difference or the big organic molecule does not pass Lipinski's rule of five.\n",
      "426607 has been removed from inactives_M1_antagonist because it is a mixture with less than 5 atoms difference or the big organic molecule does not pass Lipinski's rule of five.\n",
      "11957593 has been removed from inactives_M1_antagonist because it is a mixture with less than 5 atoms difference or the big organic molecule does not pass Lipinski's rule of five.\n",
      "6604126 has been removed from inactives_M1_antagonist because it is a mixture with less than 5 atoms difference or the big organic molecule does not pass Lipinski's rule of five.\n",
      "23641207 has been removed from inactives_M1_antagonist because it is a mixture with less than 5 atoms difference or the big organic molecule does not pass Lipinski's rule of five.\n",
      "10129958 has been removed from inactives_M1_antagonist because it is a mixture with less than 5 atoms difference or the big organic molecule does not pass Lipinski's rule of five.\n",
      "53313129 has been removed from inactives_M1_antagonist because it is a mixture with less than 5 atoms difference or the big organic molecule does not pass Lipinski's rule of five.\n",
      "53299515 has been removed from inactives_M1_antagonist because it is a mixture with less than 5 atoms difference or the big organic molecule does not pass Lipinski's rule of five.\n",
      "53313031 has been removed from inactives_M1_antagonist because it is a mixture with less than 5 atoms difference or the big organic molecule does not pass Lipinski's rule of five.\n",
      "51358932 has been removed from inactives_M1_antagonist because it is a mixture with less than 5 atoms difference or the big organic molecule does not pass Lipinski's rule of five.\n",
      "56603526 has been removed from inactives_M1_antagonist because it is a mixture with less than 5 atoms difference or the big organic molecule does not pass Lipinski's rule of five.\n",
      "53299545 has been removed from inactives_M1_antagonist because it is a mixture with less than 5 atoms difference or the big organic molecule does not pass Lipinski's rule of five.\n",
      "53313029 has been removed from inactives_M1_antagonist because it is a mixture with less than 5 atoms difference or the big organic molecule does not pass Lipinski's rule of five.\n",
      "53312834 has been removed from inactives_M1_antagonist because it is a mixture with less than 5 atoms difference or the big organic molecule does not pass Lipinski's rule of five.\n",
      "53313028 has been removed from inactives_M1_antagonist because it is a mixture with less than 5 atoms difference or the big organic molecule does not pass Lipinski's rule of five.\n",
      "53313039 has been removed from inactives_M1_antagonist because it is a mixture with less than 5 atoms difference or the big organic molecule does not pass Lipinski's rule of five.\n",
      "53299548 has been removed from inactives_M1_antagonist because it is a mixture with less than 5 atoms difference or the big organic molecule does not pass Lipinski's rule of five.\n",
      "53312848 has been removed from inactives_M1_antagonist because it is a mixture with less than 5 atoms difference or the big organic molecule does not pass Lipinski's rule of five.\n",
      "53312851 has been removed from inactives_M1_antagonist because it is a mixture with less than 5 atoms difference or the big organic molecule does not pass Lipinski's rule of five.\n",
      "53299531 has been removed from inactives_M1_antagonist because it is a mixture with less than 5 atoms difference or the big organic molecule does not pass Lipinski's rule of five.\n",
      "53299506 has been removed from inactives_M1_antagonist because it is a mixture with less than 5 atoms difference or the big organic molecule does not pass Lipinski's rule of five.\n",
      "53299511 has been removed from inactives_M1_antagonist because it is a mixture with less than 5 atoms difference or the big organic molecule does not pass Lipinski's rule of five.\n",
      "53313062 has been removed from inactives_M1_antagonist because it is a mixture with less than 5 atoms difference or the big organic molecule does not pass Lipinski's rule of five.\n",
      "53299549 has been removed from inactives_M1_antagonist because it is a mixture with less than 5 atoms difference or the big organic molecule does not pass Lipinski's rule of five.\n",
      "53299534 has been removed from inactives_M1_antagonist because it is a mixture with less than 5 atoms difference or the big organic molecule does not pass Lipinski's rule of five.\n",
      "56603524 has been removed from inactives_M1_antagonist because it is a mixture with less than 5 atoms difference or the big organic molecule does not pass Lipinski's rule of five.\n",
      "53313038 has been removed from inactives_M1_antagonist because it is a mixture with less than 5 atoms difference or the big organic molecule does not pass Lipinski's rule of five.\n",
      "53312880 has been removed from inactives_M1_antagonist because it is a mixture with less than 5 atoms difference or the big organic molecule does not pass Lipinski's rule of five.\n",
      "53313032 has been removed from inactives_M1_antagonist because it is a mixture with less than 5 atoms difference or the big organic molecule does not pass Lipinski's rule of five.\n",
      "53313035 has been removed from inactives_M1_antagonist because it is a mixture with less than 5 atoms difference or the big organic molecule does not pass Lipinski's rule of five.\n",
      "53313088 has been removed from inactives_M1_antagonist because it is a mixture with less than 5 atoms difference or the big organic molecule does not pass Lipinski's rule of five.\n",
      "53313033 has been removed from inactives_M1_antagonist because it is a mixture with less than 5 atoms difference or the big organic molecule does not pass Lipinski's rule of five.\n",
      "56603527 has been removed from inactives_M1_antagonist because it is a mixture with less than 5 atoms difference or the big organic molecule does not pass Lipinski's rule of five.\n",
      "53313037 has been removed from inactives_M1_antagonist because it is a mixture with less than 5 atoms difference or the big organic molecule does not pass Lipinski's rule of five.\n",
      "53312878 has been removed from inactives_M1_antagonist because it is a mixture with less than 5 atoms difference or the big organic molecule does not pass Lipinski's rule of five.\n",
      "53312849 has been removed from inactives_M1_antagonist because it is a mixture with less than 5 atoms difference or the big organic molecule does not pass Lipinski's rule of five.\n",
      "53312873 has been removed from inactives_M1_antagonist because it is a mixture with less than 5 atoms difference or the big organic molecule does not pass Lipinski's rule of five.\n",
      "53313030 has been removed from inactives_M1_antagonist because it is a mixture with less than 5 atoms difference or the big organic molecule does not pass Lipinski's rule of five.\n",
      "53313077 has been removed from inactives_M1_antagonist because it is a mixture with less than 5 atoms difference or the big organic molecule does not pass Lipinski's rule of five.\n",
      "53312864 has been removed from inactives_M1_antagonist because it is a mixture with less than 5 atoms difference or the big organic molecule does not pass Lipinski's rule of five.\n",
      "56603530 has been removed from inactives_M1_antagonist because it is a mixture with less than 5 atoms difference or the big organic molecule does not pass Lipinski's rule of five.\n",
      "53312924 has been removed from inactives_M1_antagonist because it is a mixture with less than 5 atoms difference or the big organic molecule does not pass Lipinski's rule of five.\n",
      "53312841 has been removed from inactives_M1_antagonist because it is a mixture with less than 5 atoms difference or the big organic molecule does not pass Lipinski's rule of five.\n",
      "56603525 has been removed from inactives_M1_antagonist because it is a mixture with less than 5 atoms difference or the big organic molecule does not pass Lipinski's rule of five.\n",
      "53312847 has been removed from inactives_M1_antagonist because it is a mixture with less than 5 atoms difference or the big organic molecule does not pass Lipinski's rule of five.\n",
      "53313036 has been removed from inactives_M1_antagonist because it is a mixture with less than 5 atoms difference or the big organic molecule does not pass Lipinski's rule of five.\n",
      "56603529 has been removed from inactives_M1_antagonist because it is a mixture with less than 5 atoms difference or the big organic molecule does not pass Lipinski's rule of five.\n",
      "53313051 has been removed from inactives_M1_antagonist because it is a mixture with less than 5 atoms difference or the big organic molecule does not pass Lipinski's rule of five.\n",
      "53312871 has been removed from inactives_M1_antagonist because it is a mixture with less than 5 atoms difference or the big organic molecule does not pass Lipinski's rule of five.\n",
      "53312846 has been removed from inactives_M1_antagonist because it is a mixture with less than 5 atoms difference or the big organic molecule does not pass Lipinski's rule of five.\n",
      "53312925 has been removed from inactives_M1_antagonist because it is a mixture with less than 5 atoms difference or the big organic molecule does not pass Lipinski's rule of five.\n",
      "53313034 has been removed from inactives_M1_antagonist because it is a mixture with less than 5 atoms difference or the big organic molecule does not pass Lipinski's rule of five.\n",
      "56603528 has been removed from inactives_M1_antagonist because it is a mixture with less than 5 atoms difference or the big organic molecule does not pass Lipinski's rule of five.\n",
      "53299507 has been removed from inactives_M1_antagonist because it is a mixture with less than 5 atoms difference or the big organic molecule does not pass Lipinski's rule of five.\n",
      "53312872 has been removed from inactives_M1_antagonist because it is a mixture with less than 5 atoms difference or the big organic molecule does not pass Lipinski's rule of five.\n",
      "53312907 has been removed from inactives_M1_antagonist because it is a mixture with less than 5 atoms difference or the big organic molecule does not pass Lipinski's rule of five.\n",
      "8566 has been removed from inactives_M1_antagonist because it is a mixture with less than 5 atoms difference or the big organic molecule does not pass Lipinski's rule of five.\n",
      "646688 has been removed from inactives_M1_antagonist because it is a mixture with less than 5 atoms difference or the big organic molecule does not pass Lipinski's rule of five.\n",
      "648270 has been removed from inactives_M1_antagonist because it is a mixture with less than 5 atoms difference or the big organic molecule does not pass Lipinski's rule of five.\n",
      "652177 has been removed from inactives_M1_antagonist because it is a mixture with less than 5 atoms difference or the big organic molecule does not pass Lipinski's rule of five.\n",
      "44143169 has been removed from inactives_M1_antagonist because it is a mixture with less than 5 atoms difference or the big organic molecule does not pass Lipinski's rule of five.\n",
      "44143171 has been removed from inactives_M1_antagonist because it is a mixture with less than 5 atoms difference or the big organic molecule does not pass Lipinski's rule of five.\n",
      "44143173 has been removed from inactives_M1_antagonist because it is a mixture with less than 5 atoms difference or the big organic molecule does not pass Lipinski's rule of five.\n",
      "44143175 has been removed from inactives_M1_antagonist because it is a mixture with less than 5 atoms difference or the big organic molecule does not pass Lipinski's rule of five.\n",
      "44143183 has been removed from inactives_M1_antagonist because it is a mixture with less than 5 atoms difference or the big organic molecule does not pass Lipinski's rule of five.\n",
      "44143185 has been removed from inactives_M1_antagonist because it is a mixture with less than 5 atoms difference or the big organic molecule does not pass Lipinski's rule of five.\n",
      "44143187 has been removed from inactives_M1_antagonist because it is a mixture with less than 5 atoms difference or the big organic molecule does not pass Lipinski's rule of five.\n",
      "44143191 has been removed from inactives_M1_antagonist because it is a mixture with less than 5 atoms difference or the big organic molecule does not pass Lipinski's rule of five.\n",
      "44143195 has been removed from inactives_M1_antagonist because it is a mixture with less than 5 atoms difference or the big organic molecule does not pass Lipinski's rule of five.\n",
      "44143199 has been removed from inactives_M1_antagonist because it is a mixture with less than 5 atoms difference or the big organic molecule does not pass Lipinski's rule of five.\n",
      "406563 has been removed from inactives_M1_antagonist because it is a mixture with less than 5 atoms difference or the big organic molecule does not pass Lipinski's rule of five.\n",
      "44143234 has been removed from inactives_M1_antagonist because it is a mixture with less than 5 atoms difference or the big organic molecule does not pass Lipinski's rule of five.\n",
      "654127 has been removed from inactives_M1_antagonist because it is a mixture with less than 5 atoms difference or the big organic molecule does not pass Lipinski's rule of five.\n",
      "44202982 has been removed from inactives_M1_antagonist because it is a mixture with less than 5 atoms difference or the big organic molecule does not pass Lipinski's rule of five.\n",
      "44202984 has been removed from inactives_M1_antagonist because it is a mixture with less than 5 atoms difference or the big organic molecule does not pass Lipinski's rule of five.\n",
      "44202985 has been removed from inactives_M1_antagonist because it is a mixture with less than 5 atoms difference or the big organic molecule does not pass Lipinski's rule of five.\n",
      "44202986 has been removed from inactives_M1_antagonist because it is a mixture with less than 5 atoms difference or the big organic molecule does not pass Lipinski's rule of five.\n",
      "135949086 has been removed from inactives_M1_antagonist because it is a mixture with less than 5 atoms difference or the big organic molecule does not pass Lipinski's rule of five.\n",
      "44202988 has been removed from inactives_M1_antagonist because it is a mixture with less than 5 atoms difference or the big organic molecule does not pass Lipinski's rule of five.\n",
      "16238964 has been removed from inactives_M1_antagonist because it is a mixture with less than 5 atoms difference or the big organic molecule does not pass Lipinski's rule of five.\n",
      "44246777 has been removed from inactives_M1_antagonist because it is a mixture with less than 5 atoms difference or the big organic molecule does not pass Lipinski's rule of five.\n",
      "44246779 has been removed from inactives_M1_antagonist because it is a mixture with less than 5 atoms difference or the big organic molecule does not pass Lipinski's rule of five.\n",
      "44246781 has been removed from inactives_M1_antagonist because it is a mixture with less than 5 atoms difference or the big organic molecule does not pass Lipinski's rule of five.\n",
      "44246799 has been removed from inactives_M1_antagonist because it is a mixture with less than 5 atoms difference or the big organic molecule does not pass Lipinski's rule of five.\n",
      "44246809 has been removed from inactives_M1_antagonist because it is a mixture with less than 5 atoms difference or the big organic molecule does not pass Lipinski's rule of five.\n",
      "44246813 has been removed from inactives_M1_antagonist because it is a mixture with less than 5 atoms difference or the big organic molecule does not pass Lipinski's rule of five.\n",
      "44246817 has been removed from inactives_M1_antagonist because it is a mixture with less than 5 atoms difference or the big organic molecule does not pass Lipinski's rule of five.\n",
      "44246819 has been removed from inactives_M1_antagonist because it is a mixture with less than 5 atoms difference or the big organic molecule does not pass Lipinski's rule of five.\n",
      "44246821 has been removed from inactives_M1_antagonist because it is a mixture with less than 5 atoms difference or the big organic molecule does not pass Lipinski's rule of five.\n",
      "44246823 has been removed from inactives_M1_antagonist because it is a mixture with less than 5 atoms difference or the big organic molecule does not pass Lipinski's rule of five.\n",
      "44246825 has been removed from inactives_M1_antagonist because it is a mixture with less than 5 atoms difference or the big organic molecule does not pass Lipinski's rule of five.\n",
      "44246827 has been removed from inactives_M1_antagonist because it is a mixture with less than 5 atoms difference or the big organic molecule does not pass Lipinski's rule of five.\n",
      "44246831 has been removed from inactives_M1_antagonist because it is a mixture with less than 5 atoms difference or the big organic molecule does not pass Lipinski's rule of five.\n",
      "44246953 has been removed from inactives_M1_antagonist because it is a mixture with less than 5 atoms difference or the big organic molecule does not pass Lipinski's rule of five.\n",
      "44246955 has been removed from inactives_M1_antagonist because it is a mixture with less than 5 atoms difference or the big organic molecule does not pass Lipinski's rule of five.\n",
      "44246957 has been removed from inactives_M1_antagonist because it is a mixture with less than 5 atoms difference or the big organic molecule does not pass Lipinski's rule of five.\n",
      "44246959 has been removed from inactives_M1_antagonist because it is a mixture with less than 5 atoms difference or the big organic molecule does not pass Lipinski's rule of five.\n",
      "44246961 has been removed from inactives_M1_antagonist because it is a mixture with less than 5 atoms difference or the big organic molecule does not pass Lipinski's rule of five.\n",
      "44246963 has been removed from inactives_M1_antagonist because it is a mixture with less than 5 atoms difference or the big organic molecule does not pass Lipinski's rule of five.\n",
      "44246965 has been removed from inactives_M1_antagonist because it is a mixture with less than 5 atoms difference or the big organic molecule does not pass Lipinski's rule of five.\n",
      "44246967 has been removed from inactives_M1_antagonist because it is a mixture with less than 5 atoms difference or the big organic molecule does not pass Lipinski's rule of five.\n",
      "44246969 has been removed from inactives_M1_antagonist because it is a mixture with less than 5 atoms difference or the big organic molecule does not pass Lipinski's rule of five.\n",
      "44246971 has been removed from inactives_M1_antagonist because it is a mixture with less than 5 atoms difference or the big organic molecule does not pass Lipinski's rule of five.\n",
      "44246973 has been removed from inactives_M1_antagonist because it is a mixture with less than 5 atoms difference or the big organic molecule does not pass Lipinski's rule of five.\n",
      "44246975 has been removed from inactives_M1_antagonist because it is a mixture with less than 5 atoms difference or the big organic molecule does not pass Lipinski's rule of five.\n",
      "44246979 has been removed from inactives_M1_antagonist because it is a mixture with less than 5 atoms difference or the big organic molecule does not pass Lipinski's rule of five.\n",
      "44246981 has been removed from inactives_M1_antagonist because it is a mixture with less than 5 atoms difference or the big organic molecule does not pass Lipinski's rule of five.\n",
      "44246983 has been removed from inactives_M1_antagonist because it is a mixture with less than 5 atoms difference or the big organic molecule does not pass Lipinski's rule of five.\n",
      "44246989 has been removed from inactives_M1_antagonist because it is a mixture with less than 5 atoms difference or the big organic molecule does not pass Lipinski's rule of five.\n",
      "44246993 has been removed from inactives_M1_antagonist because it is a mixture with less than 5 atoms difference or the big organic molecule does not pass Lipinski's rule of five.\n",
      "44246997 has been removed from inactives_M1_antagonist because it is a mixture with less than 5 atoms difference or the big organic molecule does not pass Lipinski's rule of five.\n",
      "44246999 has been removed from inactives_M1_antagonist because it is a mixture with less than 5 atoms difference or the big organic molecule does not pass Lipinski's rule of five.\n",
      "44247001 has been removed from inactives_M1_antagonist because it is a mixture with less than 5 atoms difference or the big organic molecule does not pass Lipinski's rule of five.\n",
      "44247003 has been removed from inactives_M1_antagonist because it is a mixture with less than 5 atoms difference or the big organic molecule does not pass Lipinski's rule of five.\n",
      "44247047 has been removed from inactives_M1_antagonist because it is a mixture with less than 5 atoms difference or the big organic molecule does not pass Lipinski's rule of five.\n",
      "44247051 has been removed from inactives_M1_antagonist because it is a mixture with less than 5 atoms difference or the big organic molecule does not pass Lipinski's rule of five.\n",
      "44247061 has been removed from inactives_M1_antagonist because it is a mixture with less than 5 atoms difference or the big organic molecule does not pass Lipinski's rule of five.\n",
      "44247079 has been removed from inactives_M1_antagonist because it is a mixture with less than 5 atoms difference or the big organic molecule does not pass Lipinski's rule of five.\n",
      "44247081 has been removed from inactives_M1_antagonist because it is a mixture with less than 5 atoms difference or the big organic molecule does not pass Lipinski's rule of five.\n",
      "44247091 has been removed from inactives_M1_antagonist because it is a mixture with less than 5 atoms difference or the big organic molecule does not pass Lipinski's rule of five.\n",
      "44247131 has been removed from inactives_M1_antagonist because it is a mixture with less than 5 atoms difference or the big organic molecule does not pass Lipinski's rule of five.\n",
      "44247133 has been removed from inactives_M1_antagonist because it is a mixture with less than 5 atoms difference or the big organic molecule does not pass Lipinski's rule of five.\n",
      "44247161 has been removed from inactives_M1_antagonist because it is a mixture with less than 5 atoms difference or the big organic molecule does not pass Lipinski's rule of five.\n",
      "44247163 has been removed from inactives_M1_antagonist because it is a mixture with less than 5 atoms difference or the big organic molecule does not pass Lipinski's rule of five.\n",
      "44247165 has been removed from inactives_M1_antagonist because it is a mixture with less than 5 atoms difference or the big organic molecule does not pass Lipinski's rule of five.\n",
      "44247189 has been removed from inactives_M1_antagonist because it is a mixture with less than 5 atoms difference or the big organic molecule does not pass Lipinski's rule of five.\n",
      "44247193 has been removed from inactives_M1_antagonist because it is a mixture with less than 5 atoms difference or the big organic molecule does not pass Lipinski's rule of five.\n",
      "44247203 has been removed from inactives_M1_antagonist because it is a mixture with less than 5 atoms difference or the big organic molecule does not pass Lipinski's rule of five.\n",
      "44247217 has been removed from inactives_M1_antagonist because it is a mixture with less than 5 atoms difference or the big organic molecule does not pass Lipinski's rule of five.\n",
      "44247219 has been removed from inactives_M1_antagonist because it is a mixture with less than 5 atoms difference or the big organic molecule does not pass Lipinski's rule of five.\n",
      "44247221 has been removed from inactives_M1_antagonist because it is a mixture with less than 5 atoms difference or the big organic molecule does not pass Lipinski's rule of five.\n",
      "44247223 has been removed from inactives_M1_antagonist because it is a mixture with less than 5 atoms difference or the big organic molecule does not pass Lipinski's rule of five.\n",
      "44247225 has been removed from inactives_M1_antagonist because it is a mixture with less than 5 atoms difference or the big organic molecule does not pass Lipinski's rule of five.\n",
      "44247231 has been removed from inactives_M1_antagonist because it is a mixture with less than 5 atoms difference or the big organic molecule does not pass Lipinski's rule of five.\n",
      "44247233 has been removed from inactives_M1_antagonist because it is a mixture with less than 5 atoms difference or the big organic molecule does not pass Lipinski's rule of five.\n",
      "44247241 has been removed from inactives_M1_antagonist because it is a mixture with less than 5 atoms difference or the big organic molecule does not pass Lipinski's rule of five.\n",
      "44247245 has been removed from inactives_M1_antagonist because it is a mixture with less than 5 atoms difference or the big organic molecule does not pass Lipinski's rule of five.\n",
      "44247247 has been removed from inactives_M1_antagonist because it is a mixture with less than 5 atoms difference or the big organic molecule does not pass Lipinski's rule of five.\n",
      "44247251 has been removed from inactives_M1_antagonist because it is a mixture with less than 5 atoms difference or the big organic molecule does not pass Lipinski's rule of five.\n",
      "44247253 has been removed from inactives_M1_antagonist because it is a mixture with less than 5 atoms difference or the big organic molecule does not pass Lipinski's rule of five.\n",
      "5388964 has been removed from inactives_M1_antagonist because it is a mixture with less than 5 atoms difference or the big organic molecule does not pass Lipinski's rule of five.\n",
      "657227 has been removed from inactives_M1_antagonist because it is a mixture with less than 5 atoms difference or the big organic molecule does not pass Lipinski's rule of five.\n",
      "25096 has been removed from inactives_M1_antagonist because it is a mixture with less than 5 atoms difference or the big organic molecule does not pass Lipinski's rule of five.\n",
      "5284352 has been removed from inactives_M1_antagonist because it is a mixture with less than 5 atoms difference or the big organic molecule does not pass Lipinski's rule of five.\n"
     ]
    }
   ],
   "source": [
    "def process_mixture_df(name, df, processed, removed, small_organic, small_inorganic):\n",
    "    \"\"\"\n",
    "    Update a given dataframe with information on mixture handling\n",
    "    \"\"\"\n",
    "    indices_to_drop = []  # List to keep track of row indices that should be dropped\n",
    "    \n",
    "    for index, row in df.iterrows():\n",
    "        cid = row['PUBCHEM_CID']\n",
    "        if cid in processed:\n",
    "            df.loc[index, 'PUBCHEM_EXT_DATASOURCE_SMILES'] = processed[cid]\n",
    "            if cid in removed:\n",
    "                df.loc[index, 'Mol removed from mixture'] = removed[cid]\n",
    "            if cid in small_organic:\n",
    "                df.loc[index, 'Small organic molecule'] = small_organic[cid]\n",
    "            if cid in small_inorganic:\n",
    "                df.loc[index, 'Small inorganic molecule'] = small_inorganic[cid]\n",
    "        else:\n",
    "            indices_to_drop.append(index)\n",
    "            print(f\"{cid} has been removed from {name} because it is a mixture with less than 5 atoms difference or the big organic molecule does not pass Lipinski's rule of five.\")\n",
    "    \n",
    "    # Drop rows outside the loop and reset index if needed\n",
    "    new_df = df.drop(indices_to_drop).reset_index(drop=True)\n",
    "    \n",
    "    return new_df\n",
    "\n",
    "processed_hits_df = process_mixture_df('hits_M1_antagonist', organic_hits, processed_hits, removed_hits, small_organic_hits, small_inorganic_hits)\n",
    "processed_inactives_df = process_mixture_df('inactives_M1_antagonist', organic_inactives, processed_inactives, removed_inactives, small_organic_inactives, small_inorganic_inactives)"
   ]
  },
  {
   "cell_type": "code",
   "execution_count": 54,
   "metadata": {},
   "outputs": [
    {
     "name": "stdout",
     "output_type": "stream",
     "text": [
      "Dataframes saved successfully\n"
     ]
    }
   ],
   "source": [
    "with open(f'{data_folder}/before_finished/step_8/mixture.txt', 'w') as f:\n",
    "    f.write(f\"\"\"\n",
    "Hits before processing: {len(organic_hits)}\n",
    "Hits before processing: {len(organic_hits)}\n",
    "Hits after processing: {len(processed_hits_df)}\n",
    "Mixtures detected: {len(removed_hits)}\n",
    "Mixtures with small inorganic molecules: {len(small_inorganic_hits)}\n",
    "Mixtures with big organic molecules passing Lipinski: {len(small_organic_hits)}\n",
    "Mixtures with big organic molecules not passing Lipinski: {len(not_lipinski_hits)}\n",
    "\n",
    "Inactives before processing: {len(organic_inactives)}\n",
    "Inactives after processing: {len(processed_inactives_df)}\n",
    "Mixtures detected: {len(removed_inactives)}\n",
    "Mixtures with small inorganic molecules: {len(small_inorganic_inactives)}\n",
    "Mixtures with big organic molecules passing Lipinski: {len(small_organic_inactives)}\n",
    "Mixtures with big organic molecules not passing Lipinski: {len(not_lipinski_inactives)}\n",
    "\"\"\")\n",
    "\n",
    "# Save the processed dataframes to csv\n",
    "processed_hits_df.to_csv(f'{data_folder}/before_finished/step_8/post8_hits.csv', index=False)\n",
    "processed_inactives_df.to_csv(f'{data_folder}/before_finished/step_8/post8_inactives.csv', index=False)\n",
    "\n",
    "print('Dataframes saved successfully')"
   ]
  },
  {
   "cell_type": "markdown",
   "metadata": {},
   "source": [
    "# 9. Neutralize & 10. Aromatize molecules"
   ]
  },
  {
   "cell_type": "code",
   "execution_count": 55,
   "metadata": {},
   "outputs": [],
   "source": [
    "# Create a new step folder:\n",
    "if not os.path.exists(f'{data_folder}/before_finished/step_9_10'):\n",
    "    os.makedirs(f'{data_folder}/before_finished/step_9_10')"
   ]
  },
  {
   "cell_type": "code",
   "execution_count": 56,
   "metadata": {},
   "outputs": [],
   "source": [
    "#import:\n",
    "pre9_hits = pd.read_csv(f'{data_folder}/before_finished/step_8/post8_hits.csv', sep=',', header=0)\n",
    "pre9_inactives = pd.read_csv(f'{data_folder}/before_finished/step_8/post8_inactives.csv', sep=',', header=0)"
   ]
  },
  {
   "cell_type": "code",
   "execution_count": 57,
   "metadata": {},
   "outputs": [],
   "source": [
    "def neutralize_atoms(mol):\n",
    "    \"\"\"\n",
    "    Code adapted from https://www.rdkit.org/docs/Cookbook.html. \n",
    "    Source: https://baoilleach.blogspot.com/2019/12/no-charge-simple-approach-to.html\n",
    "    (Noel O’Boyle, 2019)\n",
    "\n",
    "    This function return a neutralized molecules for a given input Mol object. \n",
    "    Additional handling was added for molecules with tetracoordinated boron. \n",
    "    \"\"\"\n",
    "    pattern = Chem.MolFromSmarts(\"[+1!h0!$([*]~[-1,-2,-3,-4]),-1!$([*]~[+1,+2,+3,+4])]\")\n",
    "    at_matches = mol.GetSubstructMatches(pattern)\n",
    "    at_matches_list = [y[0] for y in at_matches]\n",
    "    if len(at_matches_list) > 0:\n",
    "        for at_idx in at_matches_list:\n",
    "            atom = mol.GetAtomWithIdx(at_idx)\n",
    "            chg = atom.GetFormalCharge()\n",
    "            hcount = atom.GetTotalNumHs()\n",
    "            \n",
    "            #Skip adjustment for tetracoordinated boron\n",
    "            if atom.GetAtomicNum() == 5 and atom.GetDegree() == 4: #ADD COMMENT\n",
    "                continue  # Just bypass the problematic atom\n",
    "\n",
    "            atom.SetFormalCharge(0)\n",
    "            atom.SetNumExplicitHs(hcount - chg)\n",
    "            atom.UpdatePropertyCache()\n",
    "    return mol"
   ]
  },
  {
   "cell_type": "code",
   "execution_count": 58,
   "metadata": {},
   "outputs": [],
   "source": [
    "def aromatize_smile(mol):\n",
    "    \"\"\"\n",
    "    This function dekekulize an input Mol object and return the aromatic form of isomeric SMILES. \n",
    "    \"\"\"\n",
    "    Chem.Kekulize(mol)\n",
    "    Chem.SanitizeMol(mol, Chem.SanitizeFlags.SANITIZE_ALL)\n",
    "    aromatic_smiles = Chem.MolToSmiles(mol, isomericSmiles = True)\n",
    "    return aromatic_smiles"
   ]
  },
  {
   "cell_type": "code",
   "execution_count": 59,
   "metadata": {},
   "outputs": [],
   "source": [
    "updated_smi = []\n",
    "\n",
    "#Update dataset with neutralized, aromatic SMILES\n",
    "for smi in pre9_hits['PUBCHEM_EXT_DATASOURCE_SMILES']: \n",
    "    mol = Chem.MolFromSmiles(smi)\n",
    "    mol_neu = neutralize_atoms(mol)\n",
    "    smi_arom = aromatize_smile(mol_neu)\n",
    "    updated_smi.append(smi_arom)\n",
    "    \n",
    "#update the smiles in this df\n",
    "pre9_hits['PUBCHEM_EXT_DATASOURCE_SMILES'] = updated_smi"
   ]
  },
  {
   "cell_type": "code",
   "execution_count": 60,
   "metadata": {},
   "outputs": [],
   "source": [
    "updated_smi = []\n",
    "\n",
    "#Update dataset with neutralized, aromatic SMILES\n",
    "for smi in pre9_inactives['PUBCHEM_EXT_DATASOURCE_SMILES']: \n",
    "    mol = Chem.MolFromSmiles(smi)\n",
    "    mol_neu = neutralize_atoms(mol)\n",
    "    smi_arom = aromatize_smile(mol_neu)\n",
    "    updated_smi.append(smi_arom)\n",
    "\n",
    "#update the smiles in this df\n",
    "pre9_inactives['PUBCHEM_EXT_DATASOURCE_SMILES'] = updated_smi"
   ]
  },
  {
   "cell_type": "code",
   "execution_count": 61,
   "metadata": {},
   "outputs": [],
   "source": [
    "#Save\n",
    "pre9_hits.to_csv(f'{data_folder}/before_finished/step_9_10/post10_hits.csv', index=False)\n",
    "pre9_inactives.to_csv(f'{data_folder}/before_finished/step_9_10/post10_inactives.csv', index=False)"
   ]
  },
  {
   "cell_type": "markdown",
   "metadata": {},
   "source": [
    "# Post 9+10: Update InChI\n"
   ]
  },
  {
   "cell_type": "markdown",
   "metadata": {},
   "source": [
    "Is it important to now update InChI in our datasets, for 2 reasons:\n",
    "\n",
    "(1) Some mixture compounds have been modified (removal of small inorganic or organic molecules) in SMILES representation but not InChIs.\n",
    "\n",
    "(2) The SMILES representations have been neutralized and aromatized, but not InChIs."
   ]
  },
  {
   "cell_type": "code",
   "execution_count": 62,
   "metadata": {},
   "outputs": [],
   "source": [
    "#export the smiles columns to txt\n",
    "pre9_hits['PUBCHEM_EXT_DATASOURCE_SMILES'].to_csv(f'{data_folder}/before_finished/step_9_10/smiles_hits.txt', index=False, header=False)\n",
    "pre9_inactives['PUBCHEM_EXT_DATASOURCE_SMILES'].to_csv(f'{data_folder}/before_finished/step_9_10/smiles_inactives.txt', index=False, header=False)"
   ]
  },
  {
   "cell_type": "code",
   "execution_count": 64,
   "metadata": {},
   "outputs": [],
   "source": [
    "\"\"\"\n",
    "Submit the smiles files to PubChem Identifier Exchange Service at https://pubchem.ncbi.nlm.nih.gov/idexchange/idexchange.cgi:\n",
    "    Input IDs: \"SMILES\"\n",
    "    Operator type: \"same CID\" \n",
    "    Output IDs: \"InChI\"\n",
    "    Output method: \"Two column file showing each input output-correspondence\"\n",
    "    Compression: \"No compression\"\n",
    "InChI list should be saved into \"step_9_10\" folder, named as \"inchi_hits.txt\" and \"inchi_inactives\" \n",
    "\"\"\"\n",
    "#Import the converted InChIs\n",
    "cleaned_inchi_hits = pd.read_csv(f'{data_folder}/before_finished/step_9_10/inchi_hits.txt', sep='\\t', header=None)\n",
    "cleaned_inchi_inactives = pd.read_csv(f'{data_folder}/before_finished/step_9_10/inchi_inactives.txt', sep='\\t', header=None)\n",
    "\n",
    "#a dictionary of smiles and corresponding inchi in cleaned_inchi_hits\n",
    "hits_smi_inchi_dict = dict(zip(cleaned_inchi_hits[0], cleaned_inchi_hits[1]))\n",
    "inactives_smi_inchi_dict = dict(zip(cleaned_inchi_inactives[0], cleaned_inchi_inactives[1]))\n",
    "                             \n",
    "#update the pre9_hits by matching the smiles with keys and replace inchi with values:\n",
    "pre9_hits['InChI'] = pre9_hits['PUBCHEM_EXT_DATASOURCE_SMILES'].map(hits_smi_inchi_dict) \n",
    "pre9_inactives['InChI'] = pre9_inactives['PUBCHEM_EXT_DATASOURCE_SMILES'].map(inactives_smi_inchi_dict)\n"
   ]
  },
  {
   "cell_type": "code",
   "execution_count": 65,
   "metadata": {},
   "outputs": [],
   "source": [
    "#export: \n",
    "pre9_hits.to_csv(f'{data_folder}/before_finished/step_9_10/post10_hits.csv', index=False)\n",
    "pre9_inactives.to_csv(f'{data_folder}/before_finished/step_9_10/post10_inactives.csv', index=False)"
   ]
  },
  {
   "cell_type": "markdown",
   "metadata": {},
   "source": [
    "# 11. PAIN filters"
   ]
  },
  {
   "cell_type": "markdown",
   "metadata": {},
   "source": [
    "## 11.1. Frequency of hits (FoH)"
   ]
  },
  {
   "cell_type": "markdown",
   "metadata": {},
   "source": [
    "Frequency of Hits is a complex concept that requires a merticulous approach. In general, the rule is if a compound was tested active in multiple assays, it is likely to be a promiscuous compound. \n",
    "1. For each compounds, retrieve the information on its tested assays\n",
    "2. For each of the assay tested, retrieve the sequence of the protein target. \n",
    "3. Given all sequence of the protein tested, do a multiple sequence alignment to find the percentage Percent Identity (similarty) between these proteins. If an assay has high percentage to other targets, then these assays contribute less to promiscuousity of the compound. \n",
    "4. Use the percentage identity as a weight: \n",
    "w = 1 - %SI/100\n",
    "Calculate the frequency of hits for each compound:\n",
    "FoH = wACC/TAC\n",
    "wACC is the weighed total number of assay tested where the compounds were identified acitives. TAC is the total number of assays tested. "
   ]
  },
  {
   "cell_type": "code",
   "execution_count": 66,
   "metadata": {},
   "outputs": [],
   "source": [
    "pre11_hits = pd.read_csv(f'{data_folder}/before_finished/step_9_10/post10_hits.csv', sep=',', header=0)\n",
    "pre11_inactives = pd.read_csv(f'{data_folder}/before_finished/step_9_10/post10_inactives.csv', sep=',', header=0)"
   ]
  },
  {
   "cell_type": "code",
   "execution_count": 67,
   "metadata": {},
   "outputs": [],
   "source": [
    "# Create a new step folder:\n",
    "if not os.path.exists(f'{data_folder}/before_finished/step_11/11_1'):\n",
    "    os.makedirs(f'{data_folder}/before_finished/step_11/11_1')"
   ]
  },
  {
   "cell_type": "markdown",
   "metadata": {},
   "source": [
    "### 11.1.1. PubChem testing information for each compound"
   ]
  },
  {
   "cell_type": "markdown",
   "metadata": {},
   "source": [
    "This part illustrates how to retrieve the information of how each compound was tested from the PubChem database. Bulk data retrieval from the ftp server is used to get the information of every bioassay in PubChem:"
   ]
  },
  {
   "cell_type": "code",
   "execution_count": null,
   "metadata": {},
   "outputs": [],
   "source": [
    "url = 'https://ftp.ncbi.nlm.nih.gov/pubchem/Bioassay/Extras/bioassays.tsv.gz' #this FTP file records the summary data of all available AIDs in PubChem\n",
    "\n",
    "local_save_dir = 'H:/coding/HiChem/curation/pubchem_sum'\n",
    "local_save_path = os.path.join(local_save_dir, 'bioassays.tsv.gz')\n",
    "\n",
    "if not os.path.exists(local_save_dir):\n",
    "    os.makedirs(local_save_dir)\n",
    "r = requests.get(url, stream=True)\n",
    "\n",
    "with open(local_save_path, 'wb') as f:\n",
    "    for chunk in r.iter_content(chunk_size=8192):\n",
    "        f.write(chunk)\n",
    "print('Downloaded to %s' % local_save_path)"
   ]
  },
  {
   "cell_type": "code",
   "execution_count": 68,
   "metadata": {},
   "outputs": [],
   "source": [
    "path = 'pubchem_sum/bioassays.tsv.gz'\n",
    "\n",
    "# Read the TSV file\n",
    "all_bioassay = pd.read_csv(path, delimiter='\\t')"
   ]
  },
  {
   "cell_type": "code",
   "execution_count": 69,
   "metadata": {},
   "outputs": [
    {
     "data": {
      "text/html": [
       "<div>\n",
       "<style scoped>\n",
       "    .dataframe tbody tr th:only-of-type {\n",
       "        vertical-align: middle;\n",
       "    }\n",
       "\n",
       "    .dataframe tbody tr th {\n",
       "        vertical-align: top;\n",
       "    }\n",
       "\n",
       "    .dataframe thead th {\n",
       "        text-align: right;\n",
       "    }\n",
       "</style>\n",
       "<table border=\"1\" class=\"dataframe\">\n",
       "  <thead>\n",
       "    <tr style=\"text-align: right;\">\n",
       "      <th></th>\n",
       "      <th>AID</th>\n",
       "      <th>BioAssay Name</th>\n",
       "      <th>Deposit Date</th>\n",
       "      <th>Modify Date</th>\n",
       "      <th>Source Name</th>\n",
       "      <th>Source ID</th>\n",
       "      <th>Substance Type</th>\n",
       "      <th>Outcome Type</th>\n",
       "      <th>Project Category</th>\n",
       "      <th>BioAssay Group</th>\n",
       "      <th>BioAssay Types</th>\n",
       "      <th>Protein Accessions</th>\n",
       "      <th>UniProts IDs</th>\n",
       "      <th>Gene IDs</th>\n",
       "      <th>Target TaxIDs</th>\n",
       "      <th>Taxonomy IDs</th>\n",
       "      <th>Number of Tested SIDs</th>\n",
       "      <th>Number of Active SIDs</th>\n",
       "      <th>Number of Tested CIDs</th>\n",
       "      <th>Number of Active CIDs</th>\n",
       "    </tr>\n",
       "  </thead>\n",
       "  <tbody>\n",
       "    <tr>\n",
       "      <th>0</th>\n",
       "      <td>1</td>\n",
       "      <td>NCI human tumor cell line growth inhibition as...</td>\n",
       "      <td>20040815</td>\n",
       "      <td>20240410</td>\n",
       "      <td>DTP/NCI</td>\n",
       "      <td>NCI human tumor cell line growth inhibition as...</td>\n",
       "      <td>small-molecule</td>\n",
       "      <td>Confirmatory</td>\n",
       "      <td>Other</td>\n",
       "      <td>NCI-60_DOSERESP</td>\n",
       "      <td>NaN</td>\n",
       "      <td>NaN</td>\n",
       "      <td>NaN</td>\n",
       "      <td>NaN</td>\n",
       "      <td>NaN</td>\n",
       "      <td>NaN</td>\n",
       "      <td>55228</td>\n",
       "      <td>3318</td>\n",
       "      <td>53214</td>\n",
       "      <td>3094</td>\n",
       "    </tr>\n",
       "    <tr>\n",
       "      <th>1</th>\n",
       "      <td>3</td>\n",
       "      <td>NCI human tumor cell line growth inhibition as...</td>\n",
       "      <td>20040815</td>\n",
       "      <td>20240410</td>\n",
       "      <td>DTP/NCI</td>\n",
       "      <td>NCI human tumor cell line growth inhibition as...</td>\n",
       "      <td>small-molecule</td>\n",
       "      <td>Confirmatory</td>\n",
       "      <td>Other</td>\n",
       "      <td>NCI-60_DOSERESP</td>\n",
       "      <td>NaN</td>\n",
       "      <td>NaN</td>\n",
       "      <td>NaN</td>\n",
       "      <td>NaN</td>\n",
       "      <td>NaN</td>\n",
       "      <td>NaN</td>\n",
       "      <td>51435</td>\n",
       "      <td>2615</td>\n",
       "      <td>49564</td>\n",
       "      <td>2467</td>\n",
       "    </tr>\n",
       "    <tr>\n",
       "      <th>2</th>\n",
       "      <td>5</td>\n",
       "      <td>NCI human tumor cell line growth inhibition as...</td>\n",
       "      <td>20040815</td>\n",
       "      <td>20240410</td>\n",
       "      <td>DTP/NCI</td>\n",
       "      <td>NCI human tumor cell line growth inhibition as...</td>\n",
       "      <td>small-molecule</td>\n",
       "      <td>Confirmatory</td>\n",
       "      <td>Other</td>\n",
       "      <td>NCI-60_DOSERESP</td>\n",
       "      <td>NaN</td>\n",
       "      <td>NaN</td>\n",
       "      <td>NaN</td>\n",
       "      <td>NaN</td>\n",
       "      <td>NaN</td>\n",
       "      <td>NaN</td>\n",
       "      <td>54079</td>\n",
       "      <td>2503</td>\n",
       "      <td>52046</td>\n",
       "      <td>2317</td>\n",
       "    </tr>\n",
       "    <tr>\n",
       "      <th>3</th>\n",
       "      <td>7</td>\n",
       "      <td>NCI human tumor cell line growth inhibition as...</td>\n",
       "      <td>20040815</td>\n",
       "      <td>20240410</td>\n",
       "      <td>DTP/NCI</td>\n",
       "      <td>NCI human tumor cell line growth inhibition as...</td>\n",
       "      <td>small-molecule</td>\n",
       "      <td>Confirmatory</td>\n",
       "      <td>Other</td>\n",
       "      <td>NCI-60_DOSERESP</td>\n",
       "      <td>NaN</td>\n",
       "      <td>NaN</td>\n",
       "      <td>NaN</td>\n",
       "      <td>NaN</td>\n",
       "      <td>NaN</td>\n",
       "      <td>NaN</td>\n",
       "      <td>54062</td>\n",
       "      <td>4335</td>\n",
       "      <td>52033</td>\n",
       "      <td>4098</td>\n",
       "    </tr>\n",
       "    <tr>\n",
       "      <th>4</th>\n",
       "      <td>9</td>\n",
       "      <td>NCI human tumor cell line growth inhibition as...</td>\n",
       "      <td>20040815</td>\n",
       "      <td>20240410</td>\n",
       "      <td>DTP/NCI</td>\n",
       "      <td>NCI human tumor cell line growth inhibition as...</td>\n",
       "      <td>small-molecule</td>\n",
       "      <td>Confirmatory</td>\n",
       "      <td>Other</td>\n",
       "      <td>NCI-60_DOSERESP</td>\n",
       "      <td>NaN</td>\n",
       "      <td>NaN</td>\n",
       "      <td>NaN</td>\n",
       "      <td>NaN</td>\n",
       "      <td>NaN</td>\n",
       "      <td>NaN</td>\n",
       "      <td>53977</td>\n",
       "      <td>3159</td>\n",
       "      <td>52001</td>\n",
       "      <td>2981</td>\n",
       "    </tr>\n",
       "  </tbody>\n",
       "</table>\n",
       "</div>"
      ],
      "text/plain": [
       "   AID                                      BioAssay Name  Deposit Date  \\\n",
       "0    1  NCI human tumor cell line growth inhibition as...      20040815   \n",
       "1    3  NCI human tumor cell line growth inhibition as...      20040815   \n",
       "2    5  NCI human tumor cell line growth inhibition as...      20040815   \n",
       "3    7  NCI human tumor cell line growth inhibition as...      20040815   \n",
       "4    9  NCI human tumor cell line growth inhibition as...      20040815   \n",
       "\n",
       "   Modify Date Source Name                                          Source ID  \\\n",
       "0     20240410     DTP/NCI  NCI human tumor cell line growth inhibition as...   \n",
       "1     20240410     DTP/NCI  NCI human tumor cell line growth inhibition as...   \n",
       "2     20240410     DTP/NCI  NCI human tumor cell line growth inhibition as...   \n",
       "3     20240410     DTP/NCI  NCI human tumor cell line growth inhibition as...   \n",
       "4     20240410     DTP/NCI  NCI human tumor cell line growth inhibition as...   \n",
       "\n",
       "   Substance Type  Outcome Type Project Category   BioAssay Group  \\\n",
       "0  small-molecule  Confirmatory            Other  NCI-60_DOSERESP   \n",
       "1  small-molecule  Confirmatory            Other  NCI-60_DOSERESP   \n",
       "2  small-molecule  Confirmatory            Other  NCI-60_DOSERESP   \n",
       "3  small-molecule  Confirmatory            Other  NCI-60_DOSERESP   \n",
       "4  small-molecule  Confirmatory            Other  NCI-60_DOSERESP   \n",
       "\n",
       "  BioAssay Types Protein Accessions UniProts IDs Gene IDs  Target TaxIDs  \\\n",
       "0            NaN                NaN          NaN      NaN            NaN   \n",
       "1            NaN                NaN          NaN      NaN            NaN   \n",
       "2            NaN                NaN          NaN      NaN            NaN   \n",
       "3            NaN                NaN          NaN      NaN            NaN   \n",
       "4            NaN                NaN          NaN      NaN            NaN   \n",
       "\n",
       "  Taxonomy IDs  Number of Tested SIDs  Number of Active SIDs  \\\n",
       "0          NaN                  55228                   3318   \n",
       "1          NaN                  51435                   2615   \n",
       "2          NaN                  54079                   2503   \n",
       "3          NaN                  54062                   4335   \n",
       "4          NaN                  53977                   3159   \n",
       "\n",
       "   Number of Tested CIDs  Number of Active CIDs  \n",
       "0                  53214                   3094  \n",
       "1                  49564                   2467  \n",
       "2                  52046                   2317  \n",
       "3                  52033                   4098  \n",
       "4                  52001                   2981  "
      ]
     },
     "execution_count": 69,
     "metadata": {},
     "output_type": "execute_result"
    }
   ],
   "source": [
    "all_bioassay.head()"
   ]
  },
  {
   "cell_type": "markdown",
   "metadata": {},
   "source": [
    "### 11.1.2 Retrieving protein sequences for assays tested:"
   ]
  },
  {
   "cell_type": "markdown",
   "metadata": {},
   "source": [
    "Then, the testing information for each compound is retrieved from the PugREST API"
   ]
  },
  {
   "cell_type": "code",
   "execution_count": 70,
   "metadata": {},
   "outputs": [],
   "source": [
    "# Cache to store the number of compounds tested per AID to avoid redundant call. \n",
    "num_compounds_tested_cache = {}\n",
    "\n",
    "def get_num_compounds_tested(aid, all_bioassay=all_bioassay):\n",
    "    \"\"\"\n",
    "    This function retrieves the information of how many compounds were tested in a given assay (by AID).\n",
    "    \"\"\"\n",
    "    if aid in num_compounds_tested_cache:\n",
    "        return num_compounds_tested_cache[aid]\n",
    "    else: \n",
    "        #return the 'Number of Tested CIDs' column value at the row where the 'AID' column is equal to aid in the all_bioassay dataframe\n",
    "        num_compounds_tested = all_bioassay[all_bioassay['AID'] == aid]['Number of Tested CIDs'].values[0]\n",
    "    return num_compounds_tested\n",
    "\n",
    "def get_assay_data(cid):\n",
    "    \"\"\"\n",
    "    Return a dictionary of all targets that a given compound (by CID) was tested on in PubChem \n",
    "    and the activity values of the compound. \n",
    "    \"\"\"\n",
    "    url = f\"https://pubchem.ncbi.nlm.nih.gov/rest/pug/compound/cid/{cid}/assaysummary/JSON\" #PUG-REST compound summary by CID\n",
    "    response = requests.get(url)\n",
    "    data = response.json()\n",
    "\n",
    "    target_activity = {}\n",
    "\n",
    "    if 'Table' in data and 'Row' in data['Table']:\n",
    "        for row in data['Table']['Row']:\n",
    "            cells = row['Cell']\n",
    "            aid = int(cells[0])  # Extracting the AID from the first cell\n",
    "\n",
    "            # Proceed only if the assay is a screening assay\n",
    "            if cells[10] == 'Screening':\n",
    "\n",
    "                # Proceed only if more than 10,000 compounds were tested\n",
    "                num_compounds_tested = get_num_compounds_tested(aid)\n",
    "                if num_compounds_tested > 10000:\n",
    "                    target_gi = cells[5] # Retrieve the protein target's GI\n",
    "                    activity_outcome = cells[4].lower()\n",
    "\n",
    "                    if target_gi not in target_activity:\n",
    "                        target_activity[target_gi] = activity_outcome == 'active'\n",
    "                    elif activity_outcome == 'active':\n",
    "                        target_activity[target_gi] = True # If a compound was tested multiple times on the same protein, priotize \"active\" outcome.\n",
    "            \n",
    "            else:\n",
    "                continue\n",
    "\n",
    "    return (cid, target_activity)"
   ]
  },
  {
   "cell_type": "code",
   "execution_count": 71,
   "metadata": {},
   "outputs": [
    {
     "name": "stderr",
     "output_type": "stream",
     "text": [
      "Processing CIDs: 100%|██████████| 171/171 [00:37<00:00,  4.59it/s]\n"
     ]
    }
   ],
   "source": [
    "import requests\n",
    "from concurrent.futures import ThreadPoolExecutor, as_completed\n",
    "from tqdm import tqdm\n",
    "\n",
    "cids_list = pre11_hits['PUBCHEM_CID'].tolist()\n",
    "\n",
    "def execute_with_multiprocessing(cids_list):\n",
    "    \"\"\"\n",
    "    For a given list of CIDs, return a dictionary of dictionaries \n",
    "    of protein targets these compounds were tested on and the activity outcomes\n",
    "    Input: \n",
    "        [list of CIDs]\n",
    "    Output: \n",
    "        Dictionary of testing information for all CIDs, such as:\n",
    "        {CID1:{target1:activity1, target3:activity3, ...},{CID2:{target2:activity2, target4:activity4, ...}, ...}}\n",
    "    \"\"\"\n",
    "    results_dict = {}\n",
    "    with ThreadPoolExecutor(max_workers=10) as executor:\n",
    "        # Prepare futures for all CIDs\n",
    "        futures = [executor.submit(get_assay_data, cid) for cid in cids_list]\n",
    "        \n",
    "        # Process futures as they complete\n",
    "        for future in tqdm(as_completed(futures), total=len(cids_list), desc=\"Processing CIDs\"):\n",
    "            try:\n",
    "                cid, target_activity = future.result()\n",
    "                results_dict[cid] = target_activity\n",
    "            except Exception as e:\n",
    "                print(f\"Error processing CID: {e}\")\n",
    "    return results_dict\n",
    "\n",
    "results_dict = execute_with_multiprocessing(cids_list)"
   ]
  },
  {
   "cell_type": "code",
   "execution_count": 72,
   "metadata": {},
   "outputs": [],
   "source": [
    "#export results_dict\n",
    "with open(f'{data_folder}/before_finished/step_11/11_1/results_dict.json', 'w') as f:\n",
    "    json.dump(results_dict, f)"
   ]
  },
  {
   "cell_type": "code",
   "execution_count": 73,
   "metadata": {},
   "outputs": [],
   "source": [
    "#import results_dict:\n",
    "with open(f'{data_folder}/before_finished/step_11/11_1/results_dict.json', 'r') as f:\n",
    "    results_dict = json.load(f)"
   ]
  },
  {
   "cell_type": "code",
   "execution_count": 74,
   "metadata": {},
   "outputs": [
    {
     "name": "stdout",
     "output_type": "stream",
     "text": [
      "['23110962', '223468676', '71987181', '597517618', '194068499', '2935630', '46909587', '4758878', '48255881', '4758484', '38156699', '302699239', '83627717', '149631', '168184763', '222080095', '4504843', '5174513', '63477962', '126698238', '60391226', '83318444', '216548193', '4507791', '7706135', '124486680', '998701', '15610807', '1655766739', '42741659', '34577122', '82503229', '88501734', '40254439', '68476498', '115347926', '21618340', '124263658', '78486550', '4507681', '89191863', '4757840', '55584151', '32400300', '14149746', '2393947', '124376142', '10567816', '68989256', '2358024', '160877737', '1708272', '262118306', '534286618', '351542238', '109637798', '134142337', '46367787', '270133071', '23510348', '62362414', '257380', '28949057', '536029', '4503907', '55956923', '225543099', '13128862', '7657508', '5032039', '166202459', '16130723', '31563518', '20070193', '4506243', '85666113', '21315078', '134244587', '4506113', '73747889', '115496662', '34330186', '124809506', '7381449', '38174238', '5174547', '4503219', '73745819', '16130724', '12644416', '10835145', '37589898', '301171662', '15927174', '7108336', '2501205', '5016090', '7108463', '4506055', '147728', '6831552', '1111959238', '16128424', '4503155', '1628587', '55960760', '1782953264', '111305821', '21595776', '28373018', '76364066', '78070770', '32479527', '4507793', '71774083', '994798', '4581413', '38258652', '81899072', '21595511', '28373962', '11141885', '1166512', '113121', '4503351', '16130726', '115529463', '21955158', '120538355', '119607129', '20336315', '124487323', '38027923', '119622516', '55958172', '13399304', '116516899', '15610402', '23893623', '119603173', '112822', '73586699', '59036749', '10835013', '52426748', '19923198', '1797100823', '23893668', '148378801', '116076351', '56786138', '37622910', '74734243', '22035600', '32400299', '62201602', '2578455', '735367775', '74315350', '118341367', '223460826', '74355113', '19860819', '14790033', '115430235', '67463988', '291463269', '7657550', '148745659', '41872583', '89993689', '23505220', '6708281', '339641', '881546', '134304838', '116292172', '21392848', '88702791', '31881630', '10092597', '32307152', '55662034', '20072248', '86301151', '49574532', '83699673', '89348172', '110611243', '285809906', '231632', '155969707', '1519312078', '341916350', '218891639', '4826706', '21327705', '32307126', '9629361', '62868213', '13027636', '126642418', '4502169', '3183518', '2182777540', '119579215', '224494019', '83779224', '49168602', '487738', '578162', '21264324', '116734717', '2702319', '4503385', '42794767', '71746704', '13124881', '151101270', '1237937630', '11275980', '55976631', '7669492', '117940060', '27597073', '253722402', '15646160', '90111653', '929524245', '63102437', '398366139', '70832125', '164058', '166209887', '378544807', '8574038', '216548487', '4826834', '190938', '219518789', '4885057', '111034851', '38349113', '160333370', '30219', '62740231', '29788785', '27807367', '38788193', '14389423', '15610601', '156416009', '15680217', '54112432', '25148072', '13236497', '4503383', '317373446', '74752344', '5454102', '120997', '13177715', '510901', '1709543', '285814664', '1937369734', '32425330', '2498404', '528078313', '6016094', '223459640', '167013344', '40807040', '109633019', '4758204', '11093520', '47678551', '4503779', '21361095', '12830367', '5453722', '5730106', '11094021', '1246761', '2853980', '1730321', '118764400', '15610945', '37187860', '125541954', '24119166', '9955963', '187952397', '15675770', '4507615', '17391426', '76496497', '1762973', '433552101', '1654220559', '45269145', '47132611', '4502003', '119508433', '46577642', '15929025', '62526033', '22538455', '27368096', '48428097', '9966877', '119580345', '21361340', '16878311', '47496637', '54112388', '1572493', '13699818', '6978787', '15645703', '27753985', '224028257', '48145933', '121945198', '6755076', '16306916', '7582271', '4502495', '31542303', '4505447', '41872631', '160707929', '21464101', '2507196', '56790945', '1781172', '1679362728', '116907', '15607504', '4507593', '130375', '67191027', '74356043', '48146199', '9937384', '14719829', '312275222', '194306653', '47123300', '4505445', '4757950', '10864009', '6323930', '13272532', '5729858', '86990435', '4505209', '296080766', '11528014', '6166485', '21359873', '195969650', '21489979', '12381848', '218931251', '67463989', '119607128', '6325022', '13325293', '6680530', '14790119', '6009644', '156104889', '124809271', '6912644', '187960042', '4758208', '83758679', '4502331', '53832009', '15609874', '62203298', '730163', '7706645', '1575471', '154146191', '208342286', '1302091', '116077694', '27894344', '90652859', '20336229', '119579178', '499328', '148539876', '17507875', '171229', '486173', '296434520', '6274552', '613504304', '16130689', '47132585', '139424501', '68565218', '9629363', '1927', '12803275', '153217451', '23943882', '75495260', '56202836', '180352', '139472804', '90421313', '68474550', '68565074', '124513266', '56417702', '6679827', '216409728', '597517265', '4504343', '342179211', '10190672', '4506537']\n",
      "Require multiple sequencing alignment for 426 proteins.\n"
     ]
    }
   ],
   "source": [
    "#get the list of all keys of the values in the dictionary:\n",
    "protein_ids = []\n",
    "for value in results_dict.values():\n",
    "    protein_ids.extend(value.keys())\n",
    "\n",
    "#clean the list\n",
    "protein_ids = list(set(protein_ids))\n",
    "protein_ids = [id for id in protein_ids if id != '']\n",
    "\n",
    "print(protein_ids)\n",
    "print(f'Require multiple sequencing alignment for {len(protein_ids)} proteins.')"
   ]
  },
  {
   "cell_type": "markdown",
   "metadata": {},
   "source": [
    "Now we retrieve all the FASTA sequences of proteins tested for all of our compounds with Biopython API to Entrez of NCBI. The FASTA sequence is saved as \"sequences.fasta\""
   ]
  },
  {
   "cell_type": "code",
   "execution_count": 75,
   "metadata": {},
   "outputs": [],
   "source": [
    "# Always tell NCBI who you are\n",
    "Entrez.email = \"hdong26@amherst.edu\"\n",
    "\n",
    "# The filename where you want to save the sequences\n",
    "output_filename = f'{data_folder}/before_finished/step_11/11_1/sequences.fasta'\n",
    "\n",
    "# Open a file to write the sequences\n",
    "with open(output_filename, \"w\") as output_file:\n",
    "    for id in protein_ids:\n",
    "        try:\n",
    "            # Fetch the sequence from NCBI\n",
    "            handle = Entrez.efetch(db=\"protein\", id=id, rettype=\"fasta\", retmode=\"text\")\n",
    "            sequence_data = handle.read()\n",
    "            handle.close()\n",
    "            \n",
    "            # Write the sequence data to the file\n",
    "            output_file.write(sequence_data)\n",
    "        except Exception as e:\n",
    "            print(f\"An error occurred while fetching {id}: {e}\")"
   ]
  },
  {
   "cell_type": "markdown",
   "metadata": {},
   "source": [
    "From the FASTA sequence, we also need to retrieve the list of protein names, since these are different from the protein GIs"
   ]
  },
  {
   "cell_type": "code",
   "execution_count": 76,
   "metadata": {},
   "outputs": [],
   "source": [
    "def extract_protein_names(file_path):\n",
    "    protein_names = []\n",
    "    with open(file_path, 'r') as file:\n",
    "        for line in file:\n",
    "            if line.startswith('>'):\n",
    "                # Split the line at spaces and take the first item\n",
    "                parts = line.split(' ')\n",
    "                protein_name = parts[0]\n",
    "                # Remove the leading '>' character\n",
    "                protein_name = protein_name[1:]\n",
    "                protein_names.append(protein_name)\n",
    "    return protein_names"
   ]
  },
  {
   "cell_type": "code",
   "execution_count": 77,
   "metadata": {},
   "outputs": [],
   "source": [
    "file_path = f'{data_folder}/before_finished/step_11/11_1/sequences.fasta'\n",
    "protein_names = extract_protein_names(file_path)"
   ]
  },
  {
   "cell_type": "code",
   "execution_count": 78,
   "metadata": {},
   "outputs": [],
   "source": [
    "# Create a dictionary to map protein IDs to protein names by index \n",
    "protein_id_to_name = {protein_ids[i]: protein_names[i] for i in range(len(protein_ids))}"
   ]
  },
  {
   "cell_type": "markdown",
   "metadata": {},
   "source": [
    "### 11.1.3 Percent Sequence Identity by Multiple Sequence Alignment"
   ]
  },
  {
   "cell_type": "markdown",
   "metadata": {},
   "source": [
    "The sequences.fasta file is submitted to https://www.ebi.ac.uk/jdispatcher/msa/clustalo for multiple sequencing alignment. The resulted table of percent sequence identity matrix is saved and imported for the calculation of FoH"
   ]
  },
  {
   "cell_type": "code",
   "execution_count": 80,
   "metadata": {},
   "outputs": [],
   "source": [
    "\"\"\"\n",
    "Submit sequences.fasta to https://www.ebi.ac.uk/jdispatcher/msa/clustalo\n",
    "    Input sequence type: Protein\n",
    "    Output format: ClustalW with character counts\n",
    "Download the resulted Percent Identity Matrix file file and save as \"percent_identity_matrix.txt\"\n",
    "\"\"\"\n",
    "\n",
    "#import the identity matrix:\n",
    "protein_si = pd.read_csv(\n",
    "    f'{data_folder}/before_finished/step_11/11_1/percent_identity_matrix.txt',\n",
    "    delimiter='\\s+',\n",
    "    header=None,\n",
    "    skiprows=6 \n",
    ")"
   ]
  },
  {
   "cell_type": "code",
   "execution_count": 81,
   "metadata": {},
   "outputs": [],
   "source": [
    "#remove the first column:\n",
    "protein_si = protein_si.drop(protein_si.columns[0], axis=1)"
   ]
  },
  {
   "cell_type": "code",
   "execution_count": 82,
   "metadata": {},
   "outputs": [],
   "source": [
    "name = protein_si[1].tolist()\n",
    "name = ['protein name'] + name\n",
    "protein_si.columns = name"
   ]
  },
  {
   "cell_type": "code",
   "execution_count": 83,
   "metadata": {},
   "outputs": [
    {
     "data": {
      "text/html": [
       "<div>\n",
       "<style scoped>\n",
       "    .dataframe tbody tr th:only-of-type {\n",
       "        vertical-align: middle;\n",
       "    }\n",
       "\n",
       "    .dataframe tbody tr th {\n",
       "        vertical-align: top;\n",
       "    }\n",
       "\n",
       "    .dataframe thead th {\n",
       "        text-align: right;\n",
       "    }\n",
       "</style>\n",
       "<table border=\"1\" class=\"dataframe\">\n",
       "  <thead>\n",
       "    <tr style=\"text-align: right;\">\n",
       "      <th></th>\n",
       "      <th>protein name</th>\n",
       "      <th>AAH95408.1</th>\n",
       "      <th>NP_004447.2</th>\n",
       "      <th>NP_987096.1</th>\n",
       "      <th>NP_000302.1</th>\n",
       "      <th>AAH93020.1</th>\n",
       "      <th>NP_058021.1</th>\n",
       "      <th>ABC40742.1</th>\n",
       "      <th>NP_057856.1</th>\n",
       "      <th>NP_056953.2</th>\n",
       "      <th>...</th>\n",
       "      <th>NP_004987.2</th>\n",
       "      <th>ABD72211.1</th>\n",
       "      <th>NP_000483.3</th>\n",
       "      <th>AAI36532.1</th>\n",
       "      <th>AAG02439.1</th>\n",
       "      <th>CAH72619.1</th>\n",
       "      <th>CDO16358.1</th>\n",
       "      <th>sp|P42858.2|HD_HUMAN</th>\n",
       "      <th>NP_644805.1</th>\n",
       "      <th>NP_009330.1</th>\n",
       "    </tr>\n",
       "  </thead>\n",
       "  <tbody>\n",
       "    <tr>\n",
       "      <th>0</th>\n",
       "      <td>AAH95408.1</td>\n",
       "      <td>100.00</td>\n",
       "      <td>14.52</td>\n",
       "      <td>16.41</td>\n",
       "      <td>NaN</td>\n",
       "      <td>15.58</td>\n",
       "      <td>10.83</td>\n",
       "      <td>12.34</td>\n",
       "      <td>17.99</td>\n",
       "      <td>4.84</td>\n",
       "      <td>...</td>\n",
       "      <td>6.67</td>\n",
       "      <td>9.93</td>\n",
       "      <td>9.93</td>\n",
       "      <td>13.73</td>\n",
       "      <td>NaN</td>\n",
       "      <td>11.69</td>\n",
       "      <td>9.17</td>\n",
       "      <td>12.07</td>\n",
       "      <td>6.21</td>\n",
       "      <td>6.90</td>\n",
       "    </tr>\n",
       "    <tr>\n",
       "      <th>1</th>\n",
       "      <td>NP_004447.2</td>\n",
       "      <td>14.52</td>\n",
       "      <td>100.00</td>\n",
       "      <td>9.90</td>\n",
       "      <td>19.35</td>\n",
       "      <td>13.08</td>\n",
       "      <td>10.00</td>\n",
       "      <td>10.98</td>\n",
       "      <td>14.94</td>\n",
       "      <td>17.47</td>\n",
       "      <td>...</td>\n",
       "      <td>11.16</td>\n",
       "      <td>9.04</td>\n",
       "      <td>9.04</td>\n",
       "      <td>14.69</td>\n",
       "      <td>10.27</td>\n",
       "      <td>7.69</td>\n",
       "      <td>13.57</td>\n",
       "      <td>15.42</td>\n",
       "      <td>12.12</td>\n",
       "      <td>10.37</td>\n",
       "    </tr>\n",
       "    <tr>\n",
       "      <th>2</th>\n",
       "      <td>NP_987096.1</td>\n",
       "      <td>16.41</td>\n",
       "      <td>9.90</td>\n",
       "      <td>100.00</td>\n",
       "      <td>15.09</td>\n",
       "      <td>11.76</td>\n",
       "      <td>14.53</td>\n",
       "      <td>13.75</td>\n",
       "      <td>11.21</td>\n",
       "      <td>5.67</td>\n",
       "      <td>...</td>\n",
       "      <td>14.29</td>\n",
       "      <td>14.43</td>\n",
       "      <td>14.43</td>\n",
       "      <td>8.70</td>\n",
       "      <td>4.44</td>\n",
       "      <td>13.79</td>\n",
       "      <td>14.19</td>\n",
       "      <td>14.52</td>\n",
       "      <td>13.33</td>\n",
       "      <td>12.02</td>\n",
       "    </tr>\n",
       "    <tr>\n",
       "      <th>3</th>\n",
       "      <td>NP_000302.1</td>\n",
       "      <td>NaN</td>\n",
       "      <td>19.35</td>\n",
       "      <td>15.09</td>\n",
       "      <td>100.00</td>\n",
       "      <td>0.00</td>\n",
       "      <td>66.67</td>\n",
       "      <td>27.78</td>\n",
       "      <td>11.86</td>\n",
       "      <td>16.95</td>\n",
       "      <td>...</td>\n",
       "      <td>NaN</td>\n",
       "      <td>NaN</td>\n",
       "      <td>NaN</td>\n",
       "      <td>18.75</td>\n",
       "      <td>8.33</td>\n",
       "      <td>NaN</td>\n",
       "      <td>NaN</td>\n",
       "      <td>14.17</td>\n",
       "      <td>NaN</td>\n",
       "      <td>NaN</td>\n",
       "    </tr>\n",
       "    <tr>\n",
       "      <th>4</th>\n",
       "      <td>AAH93020.1</td>\n",
       "      <td>15.58</td>\n",
       "      <td>13.08</td>\n",
       "      <td>11.76</td>\n",
       "      <td>0.00</td>\n",
       "      <td>100.00</td>\n",
       "      <td>10.64</td>\n",
       "      <td>18.39</td>\n",
       "      <td>20.45</td>\n",
       "      <td>12.96</td>\n",
       "      <td>...</td>\n",
       "      <td>12.94</td>\n",
       "      <td>8.62</td>\n",
       "      <td>8.62</td>\n",
       "      <td>8.73</td>\n",
       "      <td>14.06</td>\n",
       "      <td>14.71</td>\n",
       "      <td>13.98</td>\n",
       "      <td>19.17</td>\n",
       "      <td>17.14</td>\n",
       "      <td>17.14</td>\n",
       "    </tr>\n",
       "    <tr>\n",
       "      <th>...</th>\n",
       "      <td>...</td>\n",
       "      <td>...</td>\n",
       "      <td>...</td>\n",
       "      <td>...</td>\n",
       "      <td>...</td>\n",
       "      <td>...</td>\n",
       "      <td>...</td>\n",
       "      <td>...</td>\n",
       "      <td>...</td>\n",
       "      <td>...</td>\n",
       "      <td>...</td>\n",
       "      <td>...</td>\n",
       "      <td>...</td>\n",
       "      <td>...</td>\n",
       "      <td>...</td>\n",
       "      <td>...</td>\n",
       "      <td>...</td>\n",
       "      <td>...</td>\n",
       "      <td>...</td>\n",
       "      <td>...</td>\n",
       "      <td>...</td>\n",
       "    </tr>\n",
       "    <tr>\n",
       "      <th>421</th>\n",
       "      <td>CAH72619.1</td>\n",
       "      <td>11.69</td>\n",
       "      <td>7.69</td>\n",
       "      <td>13.79</td>\n",
       "      <td>NaN</td>\n",
       "      <td>14.71</td>\n",
       "      <td>9.72</td>\n",
       "      <td>11.11</td>\n",
       "      <td>10.34</td>\n",
       "      <td>12.50</td>\n",
       "      <td>...</td>\n",
       "      <td>12.56</td>\n",
       "      <td>11.23</td>\n",
       "      <td>11.23</td>\n",
       "      <td>14.39</td>\n",
       "      <td>25.00</td>\n",
       "      <td>100.00</td>\n",
       "      <td>16.29</td>\n",
       "      <td>22.53</td>\n",
       "      <td>17.03</td>\n",
       "      <td>19.05</td>\n",
       "    </tr>\n",
       "    <tr>\n",
       "      <th>422</th>\n",
       "      <td>CDO16358.1</td>\n",
       "      <td>9.17</td>\n",
       "      <td>13.57</td>\n",
       "      <td>14.19</td>\n",
       "      <td>NaN</td>\n",
       "      <td>13.98</td>\n",
       "      <td>9.43</td>\n",
       "      <td>9.84</td>\n",
       "      <td>10.36</td>\n",
       "      <td>5.26</td>\n",
       "      <td>...</td>\n",
       "      <td>14.76</td>\n",
       "      <td>10.44</td>\n",
       "      <td>10.44</td>\n",
       "      <td>14.29</td>\n",
       "      <td>18.18</td>\n",
       "      <td>16.29</td>\n",
       "      <td>100.00</td>\n",
       "      <td>19.06</td>\n",
       "      <td>23.26</td>\n",
       "      <td>22.39</td>\n",
       "    </tr>\n",
       "    <tr>\n",
       "      <th>423</th>\n",
       "      <td>sp|P42858.2|HD_HUMAN</td>\n",
       "      <td>12.07</td>\n",
       "      <td>15.42</td>\n",
       "      <td>14.52</td>\n",
       "      <td>14.17</td>\n",
       "      <td>19.17</td>\n",
       "      <td>18.80</td>\n",
       "      <td>17.50</td>\n",
       "      <td>17.68</td>\n",
       "      <td>13.15</td>\n",
       "      <td>...</td>\n",
       "      <td>13.65</td>\n",
       "      <td>15.69</td>\n",
       "      <td>15.69</td>\n",
       "      <td>19.54</td>\n",
       "      <td>24.25</td>\n",
       "      <td>22.53</td>\n",
       "      <td>19.06</td>\n",
       "      <td>100.00</td>\n",
       "      <td>19.48</td>\n",
       "      <td>19.61</td>\n",
       "    </tr>\n",
       "    <tr>\n",
       "      <th>424</th>\n",
       "      <td>NP_644805.1</td>\n",
       "      <td>6.21</td>\n",
       "      <td>12.12</td>\n",
       "      <td>13.33</td>\n",
       "      <td>NaN</td>\n",
       "      <td>17.14</td>\n",
       "      <td>12.79</td>\n",
       "      <td>13.83</td>\n",
       "      <td>12.57</td>\n",
       "      <td>15.89</td>\n",
       "      <td>...</td>\n",
       "      <td>12.61</td>\n",
       "      <td>13.14</td>\n",
       "      <td>13.14</td>\n",
       "      <td>18.18</td>\n",
       "      <td>50.00</td>\n",
       "      <td>17.03</td>\n",
       "      <td>23.26</td>\n",
       "      <td>19.48</td>\n",
       "      <td>100.00</td>\n",
       "      <td>52.36</td>\n",
       "    </tr>\n",
       "    <tr>\n",
       "      <th>425</th>\n",
       "      <td>NP_009330.1</td>\n",
       "      <td>6.90</td>\n",
       "      <td>10.37</td>\n",
       "      <td>12.02</td>\n",
       "      <td>NaN</td>\n",
       "      <td>17.14</td>\n",
       "      <td>13.53</td>\n",
       "      <td>14.52</td>\n",
       "      <td>10.53</td>\n",
       "      <td>17.76</td>\n",
       "      <td>...</td>\n",
       "      <td>11.66</td>\n",
       "      <td>10.75</td>\n",
       "      <td>10.75</td>\n",
       "      <td>16.09</td>\n",
       "      <td>50.00</td>\n",
       "      <td>19.05</td>\n",
       "      <td>22.39</td>\n",
       "      <td>19.61</td>\n",
       "      <td>52.36</td>\n",
       "      <td>100.00</td>\n",
       "    </tr>\n",
       "  </tbody>\n",
       "</table>\n",
       "<p>426 rows × 427 columns</p>\n",
       "</div>"
      ],
      "text/plain": [
       "             protein name  AAH95408.1  NP_004447.2  NP_987096.1  NP_000302.1  \\\n",
       "0              AAH95408.1      100.00        14.52        16.41          NaN   \n",
       "1             NP_004447.2       14.52       100.00         9.90        19.35   \n",
       "2             NP_987096.1       16.41         9.90       100.00        15.09   \n",
       "3             NP_000302.1         NaN        19.35        15.09       100.00   \n",
       "4              AAH93020.1       15.58        13.08        11.76         0.00   \n",
       "..                    ...         ...          ...          ...          ...   \n",
       "421            CAH72619.1       11.69         7.69        13.79          NaN   \n",
       "422            CDO16358.1        9.17        13.57        14.19          NaN   \n",
       "423  sp|P42858.2|HD_HUMAN       12.07        15.42        14.52        14.17   \n",
       "424           NP_644805.1        6.21        12.12        13.33          NaN   \n",
       "425           NP_009330.1        6.90        10.37        12.02          NaN   \n",
       "\n",
       "     AAH93020.1  NP_058021.1  ABC40742.1  NP_057856.1  NP_056953.2  ...  \\\n",
       "0         15.58        10.83       12.34        17.99         4.84  ...   \n",
       "1         13.08        10.00       10.98        14.94        17.47  ...   \n",
       "2         11.76        14.53       13.75        11.21         5.67  ...   \n",
       "3          0.00        66.67       27.78        11.86        16.95  ...   \n",
       "4        100.00        10.64       18.39        20.45        12.96  ...   \n",
       "..          ...          ...         ...          ...          ...  ...   \n",
       "421       14.71         9.72       11.11        10.34        12.50  ...   \n",
       "422       13.98         9.43        9.84        10.36         5.26  ...   \n",
       "423       19.17        18.80       17.50        17.68        13.15  ...   \n",
       "424       17.14        12.79       13.83        12.57        15.89  ...   \n",
       "425       17.14        13.53       14.52        10.53        17.76  ...   \n",
       "\n",
       "     NP_004987.2  ABD72211.1  NP_000483.3  AAI36532.1  AAG02439.1  CAH72619.1  \\\n",
       "0           6.67        9.93         9.93       13.73         NaN       11.69   \n",
       "1          11.16        9.04         9.04       14.69       10.27        7.69   \n",
       "2          14.29       14.43        14.43        8.70        4.44       13.79   \n",
       "3            NaN         NaN          NaN       18.75        8.33         NaN   \n",
       "4          12.94        8.62         8.62        8.73       14.06       14.71   \n",
       "..           ...         ...          ...         ...         ...         ...   \n",
       "421        12.56       11.23        11.23       14.39       25.00      100.00   \n",
       "422        14.76       10.44        10.44       14.29       18.18       16.29   \n",
       "423        13.65       15.69        15.69       19.54       24.25       22.53   \n",
       "424        12.61       13.14        13.14       18.18       50.00       17.03   \n",
       "425        11.66       10.75        10.75       16.09       50.00       19.05   \n",
       "\n",
       "     CDO16358.1  sp|P42858.2|HD_HUMAN  NP_644805.1  NP_009330.1  \n",
       "0          9.17                 12.07         6.21         6.90  \n",
       "1         13.57                 15.42        12.12        10.37  \n",
       "2         14.19                 14.52        13.33        12.02  \n",
       "3           NaN                 14.17          NaN          NaN  \n",
       "4         13.98                 19.17        17.14        17.14  \n",
       "..          ...                   ...          ...          ...  \n",
       "421       16.29                 22.53        17.03        19.05  \n",
       "422      100.00                 19.06        23.26        22.39  \n",
       "423       19.06                100.00        19.48        19.61  \n",
       "424       23.26                 19.48       100.00        52.36  \n",
       "425       22.39                 19.61        52.36       100.00  \n",
       "\n",
       "[426 rows x 427 columns]"
      ]
     },
     "execution_count": 83,
     "metadata": {},
     "output_type": "execute_result"
    }
   ],
   "source": [
    "protein_si"
   ]
  },
  {
   "cell_type": "markdown",
   "metadata": {},
   "source": [
    "### 11.1.4 Calculation of FoHs:"
   ]
  },
  {
   "cell_type": "markdown",
   "metadata": {},
   "source": [
    "Until now, we have a dictionary of (cid: assays tested); (assay_tested:protein name), and percentage identity matrix with first columns as protein names. \n",
    "For each compound, we retrieve the list of all protein names tested on that compounds by matching between the two first dictionary. From this list, we retrieve the corresponding matrix of percentages identitiy of these proteins corresponding to these compounds and calculate the FoH"
   ]
  },
  {
   "cell_type": "code",
   "execution_count": 84,
   "metadata": {},
   "outputs": [],
   "source": [
    "protein_si_dict = {}\n",
    "for name in protein_si['protein name']: \n",
    "    for other_name in protein_si['protein name']: \n",
    "        if other_name != name: \n",
    "            protein_si_dict[(name, other_name)] = protein_si.loc[protein_si['protein name'] == name, other_name].values[0]"
   ]
  },
  {
   "cell_type": "code",
   "execution_count": 85,
   "metadata": {},
   "outputs": [
    {
     "name": "stderr",
     "output_type": "stream",
     "text": [
      "100%|██████████| 171/171 [00:10<00:00, 15.92it/s]\n"
     ]
    }
   ],
   "source": [
    "import tqdm\n",
    "\n",
    "foh_dict = {}\n",
    "\n",
    "for cid, targets in tqdm.tqdm(results_dict.items()):\n",
    "    active_weight_list = []\n",
    "    total_weight_list = []\n",
    "\n",
    "    for target_id, result in targets.items():\n",
    "        if target_id == '':\n",
    "            continue\n",
    "\n",
    "        protein_name = protein_id_to_name[target_id]\n",
    "        max_weight = 0\n",
    "\n",
    "        for other_id, other_result in targets.items():\n",
    "            if other_id != target_id and other_id != '':\n",
    "                other_protein_name = protein_id_to_name[other_id]\n",
    "                value = protein_si_dict[(protein_name, other_protein_name)]\n",
    "                max_weight = max(max_weight, value)\n",
    "\n",
    "        target_weight = 1 - max_weight / 100\n",
    "\n",
    "        if result:\n",
    "            active_weight_list.append(target_weight)\n",
    "        total_weight_list.append(target_weight)\n",
    "\n",
    "    if total_weight_list:\n",
    "        foh_score = sum(active_weight_list) / sum(total_weight_list)\n",
    "        foh_dict[cid] = foh_score\n",
    "    else: \n",
    "        foh_dict[cid] = 0\n"
   ]
  },
  {
   "cell_type": "code",
   "execution_count": 86,
   "metadata": {},
   "outputs": [],
   "source": [
    "#export foh_dict\n",
    "with open(f'{data_folder}/before_finished/step_11/11_1/foh_dict.json', 'w') as f:\n",
    "    json.dump(foh_dict, f)"
   ]
  },
  {
   "cell_type": "markdown",
   "metadata": {},
   "source": [
    "For compounds with FoH larger than 0.26, we remove them"
   ]
  },
  {
   "cell_type": "code",
   "execution_count": 87,
   "metadata": {},
   "outputs": [
    {
     "name": "stdout",
     "output_type": "stream",
     "text": [
      "Dropped 0 compounds with FoH larger than 0.26\n"
     ]
    }
   ],
   "source": [
    "to_drop = []\n",
    "for cid, foh_score in foh_dict.items():\n",
    "    if foh_score > 0.26: \n",
    "        to_drop.append(cid)\n",
    "\n",
    "post_FoH_hits = pre11_hits[~pre11_hits['PUBCHEM_CID'].isin(to_drop)]\n",
    "print(f'Dropped {(len(to_drop))} compounds with FoH larger than 0.26')"
   ]
  },
  {
   "cell_type": "code",
   "execution_count": 88,
   "metadata": {},
   "outputs": [],
   "source": [
    "# Save post_FoH_hits: \n",
    "post_FoH_hits.to_csv(f'{data_folder}/before_finished/step_11/11_1/post_FoH_hits.csv', index=False)"
   ]
  },
  {
   "cell_type": "code",
   "execution_count": 89,
   "metadata": {},
   "outputs": [],
   "source": [
    "pre11_inactives.to_csv(f'{data_folder}/before_finished/step_11/11_1/post_FoH_inactives.csv', index=False)"
   ]
  },
  {
   "cell_type": "markdown",
   "metadata": {},
   "source": [
    "## 11.2 Autofluoresence & Luceferase inhibition"
   ]
  },
  {
   "cell_type": "markdown",
   "metadata": {},
   "source": [
    "When finding false positive due to autofluorescence and luceferase inhibition, it is important to check if the particular assays use one of these technologies. Here, all three assays (AID626, AID1488, and AID1741) use fluorescence technologies, so it is optimal to remove compounds that are active in AIDs: 587, 588, 590, 591, 592, 593, 594"
   ]
  },
  {
   "cell_type": "code",
   "execution_count": 90,
   "metadata": {},
   "outputs": [],
   "source": [
    "autofluorescence_aids = ['587', '588', '590', '591', '592', '593', '594']\n",
    "autofluorescence_cids = []\n",
    "col_list = ['PUBCHEM_CID', 'PUBCHEM_ACTIVITY_OUTCOME']\n",
    "\n",
    "count = 0\n",
    "for AID in autofluorescence_aids:\n",
    "    url = f'https://pubchem.ncbi.nlm.nih.gov/assay/pcget.cgi?query=download&record_type=datatable&actvty=all&response_type=save&aid={AID}'\n",
    "    autofluorescence_df = pd.read_csv(url, usecols=col_list)\n",
    "    #delete rows with nan values\n",
    "    autofluorescence_df = autofluorescence_df.dropna(subset=['PUBCHEM_CID', 'PUBCHEM_ACTIVITY_OUTCOME'])\n",
    "\n",
    "    #convert cids to int: \n",
    "    autofluorescence_df['PUBCHEM_CID'] = autofluorescence_df['PUBCHEM_CID'].astype(int)\n",
    "\n",
    "    #keep only rows said \"Active\"\n",
    "    autofluorescence_df = autofluorescence_df[autofluorescence_df['PUBCHEM_ACTIVITY_OUTCOME'] == 'Active']\n",
    "    autofluorescence_cids.extend(autofluorescence_df['PUBCHEM_CID'].tolist())\n"
   ]
  },
  {
   "cell_type": "code",
   "execution_count": 91,
   "metadata": {},
   "outputs": [],
   "source": [
    "#drop duplicates in the list:\n",
    "autofluorescence_cids = [item for item in set(autofluorescence_cids)]"
   ]
  },
  {
   "cell_type": "code",
   "execution_count": 92,
   "metadata": {},
   "outputs": [
    {
     "name": "stdout",
     "output_type": "stream",
     "text": [
      "Dropped 0 autofluorescence compounds\n"
     ]
    }
   ],
   "source": [
    "to_drop_hits = []\n",
    "for cid in post_FoH_hits: \n",
    "    if cid in autofluorescence_cids:\n",
    "        to_drop.append(cid)\n",
    "post_autofluorescence = post_FoH_hits[~post_FoH_hits['PUBCHEM_CID'].isin(to_drop_hits)]\n",
    "print(f'Dropped {(len(to_drop_hits))} autofluorescence compounds')"
   ]
  },
  {
   "cell_type": "code",
   "execution_count": 93,
   "metadata": {},
   "outputs": [],
   "source": [
    "if not os.path.exists(f'{data_folder}/before_finished/step_11/11_2'):\n",
    "    os.makedirs(f'{data_folder}/before_finished/step_11/11_2')"
   ]
  },
  {
   "cell_type": "code",
   "execution_count": 94,
   "metadata": {},
   "outputs": [],
   "source": [
    "#save: \n",
    "post_autofluorescence.to_csv(f'{data_folder}/before_finished/step_11/11_2/post_autofluorescence_hits.csv', index=False)\n",
    "pre11_inactives.to_csv(f'{data_folder}/before_finished/step_11/11_2/post_autofluorescence_inactives.csv', index=False)"
   ]
  },
  {
   "cell_type": "markdown",
   "metadata": {},
   "source": [
    "## 11.3 RDKit PAIN filter"
   ]
  },
  {
   "cell_type": "code",
   "execution_count": 95,
   "metadata": {},
   "outputs": [],
   "source": [
    "params = FilterCatalogParams()\n",
    "params.AddCatalog(FilterCatalogParams.FilterCatalogs.PAINS)\n",
    "catalog = FilterCatalog(params)"
   ]
  },
  {
   "cell_type": "code",
   "execution_count": 96,
   "metadata": {},
   "outputs": [
    {
     "name": "stdout",
     "output_type": "stream",
     "text": [
      "1 pains detected\n",
      "2 pains detected\n",
      "3 pains detected\n",
      "4 pains detected\n",
      "5 pains detected\n",
      "6 pains detected\n",
      "7 pains detected\n",
      "8 pains detected\n",
      "9 pains detected\n",
      "10 pains detected\n",
      "11 pains detected\n",
      "12 pains detected\n",
      "13 pains detected\n",
      "14 pains detected\n",
      "15 pains detected\n",
      "16 pains detected\n",
      "17 pains detected\n",
      "18 pains detected\n",
      "19 pains detected\n",
      "20 pains detected\n",
      "21 pains detected\n",
      "22 pains detected\n",
      "23 pains detected\n",
      "24 pains detected\n",
      "25 pains detected\n",
      "26 pains detected\n",
      "27 pains detected\n",
      "28 pains detected\n",
      "29 pains detected\n",
      "30 pains detected\n",
      "31 pains detected\n",
      "32 pains detected\n",
      "33 pains detected\n",
      "34 pains detected\n",
      "35 pains detected\n",
      "36 pains detected\n",
      "37 pains detected\n",
      "38 pains detected\n",
      "39 pains detected\n",
      "40 pains detected\n",
      "41 pains detected\n",
      "42 pains detected\n",
      "43 pains detected\n",
      "44 pains detected\n",
      "45 pains detected\n",
      "46 pains detected\n",
      "47 pains detected\n"
     ]
    }
   ],
   "source": [
    "def detect_pains(df):\n",
    "    pains = []\n",
    "    count_pains = 0\n",
    "    count_not_pains = 0\n",
    "    smiles_column = 'PUBCHEM_EXT_DATASOURCE_SMILES'\n",
    "    cids_column = 'PUBCHEM_CID'\n",
    "    for i in df.index:\n",
    "        smile = str(df.loc[i, smiles_column])\n",
    "        cid = df.loc[i, cids_column]\n",
    "        mol = Chem.MolFromSmiles(smile)\n",
    "        if mol is not None:\n",
    "            if catalog.HasMatch(mol):\n",
    "                pains.append(cid)\n",
    "                count_pains += 1\n",
    "                print(f'{count_pains} pains detected')\n",
    "            else: \n",
    "                count_not_pains += 1\n",
    "    return pains\n",
    "\n",
    "pains = detect_pains(post_autofluorescence)"
   ]
  },
  {
   "cell_type": "code",
   "execution_count": 97,
   "metadata": {},
   "outputs": [],
   "source": [
    "post_pains_hits = post_autofluorescence[~post_autofluorescence['PUBCHEM_CID'].isin(pains)]"
   ]
  },
  {
   "cell_type": "code",
   "execution_count": 98,
   "metadata": {},
   "outputs": [],
   "source": [
    "if not os.path.exists(f'{data_folder}/before_finished/step_11/11_3'):\n",
    "    os.makedirs(f'{data_folder}/before_finished/step_11/11_3')\n",
    "\n",
    "post_pains_hits.to_csv(f'{data_folder}/before_finished/step_11/11_3/post_pains_hits.csv', index=False)\n",
    "pre11_inactives.to_csv(f'{data_folder}/before_finished/step_11/11_3/post_pains_inactives.csv', index=False)"
   ]
  },
  {
   "cell_type": "markdown",
   "metadata": {},
   "source": [
    "# 12. Drug-likeness filter: "
   ]
  },
  {
   "cell_type": "code",
   "execution_count": 99,
   "metadata": {},
   "outputs": [],
   "source": [
    "pre12_hits = pd.read_csv(f'{data_folder}/before_finished/step_11/11_3/post_pains_hits.csv', sep=',', header=0)\n",
    "pre12_inactives = pd.read_csv(f'{data_folder}/before_finished/step_11/11_3/post_pains_inactives.csv', sep=',', header=0)"
   ]
  },
  {
   "cell_type": "code",
   "execution_count": 100,
   "metadata": {},
   "outputs": [],
   "source": [
    "from tqdm import tqdm\n",
    "\n",
    "def drug_likeness_filter(smiles):\n",
    "    \"\"\"\n",
    "    This functions check if a given smiles satisfies the common standard conditions for drug-likeness. \n",
    "    Input:\n",
    "        SMILES (str)\n",
    "    Output: \n",
    "        Result (bool)\n",
    "    \"\"\"\n",
    "\n",
    "    # Convert SMILES string to RDKit molecule object\n",
    "    mol = Chem.MolFromSmiles(smiles)\n",
    "    if mol is None:\n",
    "        return False  # Return False if the molecule cannot be parsed\n",
    "    \n",
    "    # Check molecular weight\n",
    "    mw = Chem.rdMolDescriptors.CalcExactMolWt(mol)\n",
    "    if not (150 < mw < 800):\n",
    "        return False\n",
    "    \n",
    "    # Check AlogP\n",
    "    logp = Chem.Crippen.MolLogP(mol)\n",
    "    if not (-0.3 < logp < 5):\n",
    "        return False\n",
    "    \n",
    "    # Check number of rotatable bonds\n",
    "    rotatable_bonds = Lipinski.NumRotatableBonds(mol)\n",
    "    if rotatable_bonds >= 15:\n",
    "        return False\n",
    "    \n",
    "    # Check H-bond acceptor count and H-bond donor count\n",
    "    hba = Lipinski.NumHAcceptors(mol)\n",
    "    hbd = Lipinski.NumHDonors(mol)\n",
    "    if hba >= 15 or hbd >= 15:\n",
    "        return False\n",
    "    \n",
    "    # Check total formal charge\n",
    "    total_charge = sum(atom.GetFormalCharge() for atom in mol.GetAtoms())\n",
    "    if not (-2 < total_charge < 2):\n",
    "        return False\n",
    "    \n",
    "    # If all filters passed, return True\n",
    "    return True\n",
    "\n",
    "def drug_likeness_filter_multiprocessing(df):\n",
    "    \"\"\"\n",
    "    This function update a given dataframe by dropping molecules that don't pass the drug-likeness filter.\n",
    "    \"\"\"\n",
    "    to_drop = []\n",
    "    with ThreadPoolExecutor(max_workers=10) as executor:\n",
    "        # Create future tasks for each SMILES string in the dataframe\n",
    "        futures = {executor.submit(drug_likeness_filter, row['PUBCHEM_EXT_DATASOURCE_SMILES']): row['PUBCHEM_CID'] for index, row in df.iterrows()}\n",
    "        \n",
    "        # Use tqdm to display progress bar\n",
    "        for future in tqdm(as_completed(futures), total=len(futures), desc=\"Processing SMILES\"):\n",
    "            cid = futures[future]\n",
    "            if not future.result():\n",
    "                to_drop.append(cid)\n",
    "    return to_drop"
   ]
  },
  {
   "cell_type": "code",
   "execution_count": 101,
   "metadata": {},
   "outputs": [
    {
     "name": "stderr",
     "output_type": "stream",
     "text": [
      "Processing SMILES: 100%|██████████| 124/124 [00:00<?, ?it/s]\n"
     ]
    }
   ],
   "source": [
    "not_drug_hits = drug_likeness_filter_multiprocessing(pre12_hits)"
   ]
  },
  {
   "cell_type": "code",
   "execution_count": 102,
   "metadata": {},
   "outputs": [
    {
     "name": "stderr",
     "output_type": "stream",
     "text": [
      "Processing SMILES: 100%|██████████| 321209/321209 [00:02<00:00, 159681.62it/s]\n"
     ]
    }
   ],
   "source": [
    "not_drug_inactives = drug_likeness_filter_multiprocessing(pre12_inactives)"
   ]
  },
  {
   "cell_type": "code",
   "execution_count": 103,
   "metadata": {},
   "outputs": [
    {
     "name": "stdout",
     "output_type": "stream",
     "text": [
      "Dropped 4 hit compounds that do not pass the drug likeness filter\n",
      "Dropped 16675 inactive compounds that do not pass the drug likeness filter\n"
     ]
    }
   ],
   "source": [
    "post12_hits = pre12_hits[~pre12_hits['PUBCHEM_CID'].isin(not_drug_hits)]\n",
    "post12_inactives = pre12_inactives[~pre12_inactives['PUBCHEM_CID'].isin(not_drug_inactives)]\n",
    "\n",
    "print(f'Dropped {(len(not_drug_hits))} hit compounds that do not pass the drug likeness filter')\n",
    "print(f'Dropped {(len(not_drug_inactives))} inactive compounds that do not pass the drug likeness filter')\n"
   ]
  },
  {
   "cell_type": "code",
   "execution_count": 104,
   "metadata": {},
   "outputs": [],
   "source": [
    "if not os.path.exists(f'{data_folder}/before_finished/step_12'):\n",
    "    os.makedirs(f'{data_folder}/before_finished/step_12')\n",
    "\n",
    "#Export not_drug_hits and inactives:\n",
    "with open(f'{data_folder}/before_finished/step_12/not_drug_hits.json', 'w') as f:\n",
    "    json.dump(not_drug_hits, f)\n",
    "with open(f'{data_folder}/before_finished/step_12/not_drug_inactives.json', 'w') as f:\n",
    "    json.dump(not_drug_inactives, f)"
   ]
  },
  {
   "cell_type": "code",
   "execution_count": 105,
   "metadata": {},
   "outputs": [],
   "source": [
    "# save: \n",
    "post12_hits.to_csv(f'{data_folder}/before_finished/step_12/post12_hits.csv', index=False)\n",
    "post12_inactives.to_csv(f'{data_folder}/before_finished/step_12/post12_inactives.csv', index=False)"
   ]
  },
  {
   "cell_type": "markdown",
   "metadata": {},
   "source": [
    "# 13. ChemBL Curation Pipeline"
   ]
  },
  {
   "cell_type": "code",
   "execution_count": 106,
   "metadata": {},
   "outputs": [],
   "source": [
    "pre13_hits = pd.read_csv(f'{data_folder}/before_finished/step_12/post12_hits.csv', sep=',', header=0)\n",
    "pre13_inactives = pd.read_csv(f'{data_folder}/before_finished/step_12/post12_inactives.csv', sep=',', header=0)"
   ]
  },
  {
   "cell_type": "code",
   "execution_count": 107,
   "metadata": {},
   "outputs": [],
   "source": [
    "def checker_score(smiles, cid):\n",
    "    result = checker.check_molblock(Chem.MolToMolBlock(Chem.MolFromSmiles(smiles)))\n",
    "    if result == ():\n",
    "        penalty_score = 0\n",
    "    else:\n",
    "        penalty_score = result[0][0]\n",
    "    return cid, penalty_score\n",
    "\n",
    "def checker_multiprocessing(df):\n",
    "    chembl_score_dict = {}\n",
    "    with ThreadPoolExecutor(max_workers=10) as executor:\n",
    "        # Map futures to CIDs directly for easier reference\n",
    "        futures = {executor.submit(checker_score, row['PUBCHEM_EXT_DATASOURCE_SMILES'], row['PUBCHEM_CID']): row['PUBCHEM_CID'] for _, row in df.iterrows()}\n",
    "        # Properly use tqdm to create a progress bar\n",
    "        for future in tqdm(as_completed(futures), total=len(futures), desc=\"Processing SMILES\"):\n",
    "            cid, penalty_score = future.result()\n",
    "            chembl_score_dict[cid] = penalty_score\n",
    "    return chembl_score_dict"
   ]
  },
  {
   "cell_type": "code",
   "execution_count": 108,
   "metadata": {},
   "outputs": [
    {
     "name": "stderr",
     "output_type": "stream",
     "text": [
      "Processing SMILES: 100%|██████████| 120/120 [00:00<?, ?it/s]\n",
      "[03:16:36] Conflicting single bond directions around double bond at index 7.\n",
      "[03:16:36]   BondStereo set to STEREONONE and single bond directions set to NONE.\n",
      "[03:16:55] Conflicting single bond directions around double bond at index 4.\n",
      "[03:16:55]   BondStereo set to STEREONONE and single bond directions set to NONE.\n",
      "[03:21:20] Conflicting single bond directions around double bond at index 4.\n",
      "[03:21:20]   BondStereo set to STEREONONE and single bond directions set to NONE.\n",
      "[03:21:25] Conflicting single bond directions around double bond at index 4.\n",
      "[03:21:25]   BondStereo set to STEREONONE and single bond directions set to NONE.\n",
      "[03:23:11] Conflicting single bond directions around double bond at index 5.\n",
      "[03:23:11]   BondStereo set to STEREONONE and single bond directions set to NONE.\n",
      "[03:23:19] Conflicting single bond directions around double bond at index 4.\n",
      "[03:23:19]   BondStereo set to STEREONONE and single bond directions set to NONE.\n",
      "Processing SMILES: 100%|██████████| 304534/304534 [00:38<00:00, 7977.70it/s]  \n"
     ]
    }
   ],
   "source": [
    "score_hits = checker_multiprocessing(pre13_hits)\n",
    "score_inactives = checker_multiprocessing(pre13_inactives)"
   ]
  },
  {
   "cell_type": "code",
   "execution_count": 109,
   "metadata": {},
   "outputs": [
    {
     "name": "stdout",
     "output_type": "stream",
     "text": [
      "{0, 2}\n",
      "{0, 2, 5, 6}\n"
     ]
    }
   ],
   "source": [
    "#print all unique values in the dictionary:\n",
    "print(set(score_hits.values()))\n",
    "print(set(score_inactives.values()))"
   ]
  },
  {
   "cell_type": "code",
   "execution_count": 110,
   "metadata": {},
   "outputs": [],
   "source": [
    "# Create a new step folder\n",
    "if not os.path.exists(f'{data_folder}/before_finished/step_13'):\n",
    "    os.makedirs(f'{data_folder}/before_finished/step_13')\n",
    "\n",
    "# save the scores:\n",
    "with open(f'{data_folder}/before_finished/step_13/score_hits.json', 'w') as f:\n",
    "    json.dump(score_hits, f)\n",
    "with open(f'{data_folder}/before_finished/step_13/score_inactives.json', 'w') as f:\n",
    "    json.dump(score_inactives, f)"
   ]
  },
  {
   "cell_type": "code",
   "execution_count": 111,
   "metadata": {},
   "outputs": [],
   "source": [
    "#drop all compounds with a penalty score of 7:\n",
    "to_drop_hits = []\n",
    "to_drop_inactives = []\n",
    "for cid, penalty_score in score_hits.items():\n",
    "    if penalty_score == 7:\n",
    "        to_drop_hits.append(cid)\n",
    "for cid, penalty_score in score_inactives.items():\n",
    "    if penalty_score == 7:\n",
    "        to_drop_inactives.append(cid)\n",
    "\n",
    "post13_hits = pre13_hits[~pre13_hits['PUBCHEM_CID'].isin(to_drop_hits)]\n",
    "post13_inactives = pre13_inactives[~pre13_inactives['PUBCHEM_CID'].isin(to_drop_inactives)]"
   ]
  },
  {
   "cell_type": "code",
   "execution_count": 112,
   "metadata": {},
   "outputs": [],
   "source": [
    "#save final_hits and inactives:\n",
    "post13_hits.to_csv(f'{data_folder}/before_finished/step_13/post13_hits.csv', index=False)\n",
    "post13_inactives.to_csv(f'{data_folder}/before_finished/step_13/post13_inactives.csv', index=False)"
   ]
  },
  {
   "cell_type": "markdown",
   "metadata": {},
   "source": [
    "# 14. Final handling of chemical representation"
   ]
  },
  {
   "cell_type": "markdown",
   "metadata": {},
   "source": [
    "There are two problems that requires InChI update: \n",
    "\n",
    "(1) Some of the InChI will be missing, since the PubChem Identifier Exchange service might not able to find the corresponding InChI for the aromatized, neutralized SMILES. \n",
    "\n",
    "(2) While handling mixtures, some mixtures whose component molecules are identical will result in duplicates. Therefore, we need to check their activities. \n",
    "- If all duplicates share the same results (active/inactive), we keep one of them. \n",
    "- If duplicates of the same molecules returned different activity, we remove both of them. "
   ]
  },
  {
   "cell_type": "code",
   "execution_count": 113,
   "metadata": {},
   "outputs": [],
   "source": [
    "#import: \n",
    "pre14_hits = pd.read_csv(f'{data_folder}/before_finished/step_13/post13_hits.csv', sep=',', header=0)\n",
    "pre14_inactives = pd.read_csv(f'{data_folder}/before_finished/step_13/post13_inactives.csv', sep=',', header=0)"
   ]
  },
  {
   "cell_type": "markdown",
   "metadata": {},
   "source": [
    "## 14.1 Update InChI"
   ]
  },
  {
   "cell_type": "code",
   "execution_count": 114,
   "metadata": {},
   "outputs": [],
   "source": [
    "def smi_to_inchi(smi):\n",
    "    mol = Chem.MolFromSmiles(smi)\n",
    "    inchi = Chem.inchi.MolToInchi(mol)\n",
    "    return inchi"
   ]
  },
  {
   "cell_type": "code",
   "execution_count": 115,
   "metadata": {},
   "outputs": [
    {
     "name": "stdout",
     "output_type": "stream",
     "text": [
      "Updated 0 InChI values in pre14_hits\n"
     ]
    },
    {
     "name": "stderr",
     "output_type": "stream",
     "text": [
      "[03:36:54] WARNING: Omitted undefined stereo\n",
      "\n",
      "[03:36:55] WARNING: Omitted undefined stereo\n",
      "\n",
      "[03:36:55] WARNING: Omitted undefined stereo\n",
      "\n",
      "[03:36:55] WARNING: Omitted undefined stereo\n",
      "\n",
      "[03:36:55] WARNING: Charges were rearranged\n",
      "\n",
      "[03:36:55] WARNING: Omitted undefined stereo\n",
      "\n",
      "[03:36:55] WARNING: Omitted undefined stereo\n",
      "\n",
      "[03:36:55] WARNING: Omitted undefined stereo\n",
      "\n",
      "[03:36:55] WARNING: Omitted undefined stereo\n",
      "\n",
      "[03:36:56] WARNING: Charges were rearranged; Omitted undefined stereo\n",
      "\n",
      "[03:36:56] WARNING: Charges were rearranged\n",
      "\n",
      "[03:36:56] WARNING: Omitted undefined stereo\n",
      "\n",
      "[03:36:57] WARNING: Charges were rearranged\n",
      "\n",
      "[03:36:57] WARNING: Charges were rearranged; Omitted undefined stereo\n",
      "\n",
      "[03:36:57] WARNING: Charges were rearranged\n",
      "\n",
      "[03:36:57] WARNING: Omitted undefined stereo\n",
      "\n",
      "[03:36:57] WARNING: Proton(s) added/removed\n",
      "\n",
      "[03:36:57] WARNING: Proton(s) added/removed\n",
      "\n",
      "[03:36:57] WARNING: Proton(s) added/removed\n",
      "\n",
      "[03:36:57] WARNING: Omitted undefined stereo\n",
      "\n",
      "[03:36:57] WARNING: Omitted undefined stereo\n",
      "\n",
      "[03:36:57] WARNING: Omitted undefined stereo\n",
      "\n",
      "[03:36:57] WARNING: Omitted undefined stereo\n",
      "\n",
      "[03:36:57] WARNING: Proton(s) added/removed\n",
      "\n",
      "[03:36:57] WARNING: Omitted undefined stereo\n",
      "\n",
      "[03:36:57] WARNING: Omitted undefined stereo\n",
      "\n",
      "[03:36:57] WARNING: Proton(s) added/removed; Omitted undefined stereo\n",
      "\n",
      "[03:36:57] WARNING: Charges were rearranged\n",
      "\n",
      "[03:36:58] WARNING: Omitted undefined stereo\n",
      "\n",
      "[03:36:58] WARNING: Omitted undefined stereo\n",
      "\n",
      "[03:36:58] WARNING: Omitted undefined stereo\n",
      "\n",
      "[03:37:00] WARNING: Omitted undefined stereo\n",
      "\n"
     ]
    },
    {
     "name": "stdout",
     "output_type": "stream",
     "text": [
      "Updated 67 InChI values in pre14_inactives\n"
     ]
    },
    {
     "name": "stderr",
     "output_type": "stream",
     "text": [
      "[03:37:01] WARNING: Omitted undefined stereo\n",
      "\n"
     ]
    }
   ],
   "source": [
    "count = 0 \n",
    "for index, row in pre14_hits.iterrows():\n",
    "    if row['InChI'] != row['InChI']:\n",
    "        pre14_hits.at[index, 'InChI'] = smi_to_inchi(row['PUBCHEM_EXT_DATASOURCE_SMILES'])\n",
    "        count += 1\n",
    "print(f'Updated {count} InChI values in pre14_hits')\n",
    "\n",
    "count = 0\n",
    "for index, row in pre14_inactives.iterrows():\n",
    "    if row['InChI'] != row['InChI']:\n",
    "        pre14_inactives.at[index, 'InChI'] = smi_to_inchi(row['PUBCHEM_EXT_DATASOURCE_SMILES'])\n",
    "        count += 1\n",
    "print(f'Updated {count} InChI values in pre14_inactives')"
   ]
  },
  {
   "cell_type": "markdown",
   "metadata": {},
   "source": [
    "## 14.2 Handle duplicates"
   ]
  },
  {
   "cell_type": "code",
   "execution_count": 116,
   "metadata": {},
   "outputs": [
    {
     "name": "stdout",
     "output_type": "stream",
     "text": [
      "Number of InChI duplicates in hits:  0\n",
      "Number of InChI duplicates in inactives:  350\n",
      "Number of SMILES duplicates in hits:  0\n",
      "Number of SMILES duplicates in inactives:  346\n"
     ]
    }
   ],
   "source": [
    "#Check if a mol in hit set appeared in inactive set:\n",
    "for i in pre14_hits['PUBCHEM_EXT_DATASOURCE_SMILES']:\n",
    "    if i in list(pre14_inactives['PUBCHEM_EXT_DATASOURCE_SMILES']):\n",
    "        print(f'{i} SMILES appeared in both hit and inactive sets')\n",
    "for i in pre14_hits['InChI']:\n",
    "    if i in list(pre14_inactives['InChI']):\n",
    "        print(f'{i} InChI appeared in both hit and inactive sets')\n",
    "\n",
    "#Return all duplicates by comparing InChI:\n",
    "final_hits_duplicates_InChI = pre14_hits[pre14_hits.duplicated(subset=['InChI'], keep=False)]\n",
    "final_inactives_duplicates_InChI = pre14_inactives[pre14_inactives.duplicated(subset=['InChI'], keep=False)]\n",
    "final_hits_duplicates_smi = pre14_hits[pre14_hits.duplicated(subset=['PUBCHEM_EXT_DATASOURCE_SMILES'], keep=False)]\n",
    "final_inactives_duplicates_smi = pre14_inactives[pre14_inactives.duplicated(subset=['PUBCHEM_EXT_DATASOURCE_SMILES'], keep=False)]\n",
    "\n",
    "print('Number of InChI duplicates in hits: ', len(final_hits_duplicates_InChI))\n",
    "print('Number of InChI duplicates in inactives: ', len(final_inactives_duplicates_InChI))\n",
    "print('Number of SMILES duplicates in hits: ', len(final_hits_duplicates_smi))\n",
    "print('Number of SMILES duplicates in inactives: ', len(final_inactives_duplicates_smi))"
   ]
  },
  {
   "cell_type": "code",
   "execution_count": 117,
   "metadata": {},
   "outputs": [],
   "source": [
    "if not os.path.exists(f'{data_folder}/before_finished/step_14'):\n",
    "    os.makedirs(f'{data_folder}/before_finished/step_14')\n",
    "\n",
    "#write all the duplicates to a file:\n",
    "#write duplicates to a txt file: \n",
    "with open(f'{data_folder}/before_finished/step_14/duplicates.txt', 'w') as f:\n",
    "    f.write('InChI duplicates in hits: \\n')\n",
    "    f.write(final_hits_duplicates_InChI.to_string())\n",
    "    f.write('\\n\\n')\n",
    "    f.write('InChI duplicates in inactives: \\n')\n",
    "    f.write(final_inactives_duplicates_InChI.to_string())\n",
    "    f.write('\\n\\n')\n",
    "    f.write('SMILES duplicates in hits: \\n')\n",
    "    f.write(final_hits_duplicates_smi.to_string())\n",
    "    f.write('\\n\\n')\n",
    "    f.write('SMILES duplicates in inactives: \\n')\n",
    "    f.write(final_inactives_duplicates_smi.to_string())"
   ]
  },
  {
   "cell_type": "code",
   "execution_count": 118,
   "metadata": {},
   "outputs": [],
   "source": [
    "#remove these duplicates, keep the first one: \n",
    "#by inchi:\n",
    "final_hits = pre14_hits.drop_duplicates(subset=['InChI'], keep='first')\n",
    "final_inactives = pre14_inactives.drop_duplicates(subset=['InChI'], keep='first')"
   ]
  },
  {
   "cell_type": "code",
   "execution_count": 119,
   "metadata": {},
   "outputs": [
    {
     "name": "stdout",
     "output_type": "stream",
     "text": [
      "No more duplicates in hits\n",
      "No more duplicates in inactives\n"
     ]
    }
   ],
   "source": [
    "if len(final_hits[final_hits.duplicated(subset=['PUBCHEM_EXT_DATASOURCE_SMILES'], keep=False)]) == 0:\n",
    "    print('No more duplicates in hits')\n",
    "\n",
    "if len(final_inactives[final_inactives.duplicated(subset=['PUBCHEM_EXT_DATASOURCE_SMILES'], keep=False)]) == 0:\n",
    "    print('No more duplicates in inactives')"
   ]
  },
  {
   "cell_type": "code",
   "execution_count": 120,
   "metadata": {},
   "outputs": [],
   "source": [
    "# save: \n",
    "if not os.path.exists(f'{data_folder}/finished'):\n",
    "    os.makedirs(f'{data_folder}/finished')\n",
    "final_hits.to_csv(f'{data_folder}/finished/final_hits.csv',sep=',', index=False)\n",
    "final_inactives.to_csv(f'{data_folder}/finished/final_inactives.csv',sep=',', index=False)"
   ]
  },
  {
   "cell_type": "markdown",
   "metadata": {},
   "source": [
    "# 0.1. Import regression data: "
   ]
  },
  {
   "cell_type": "code",
   "execution_count": 121,
   "metadata": {},
   "outputs": [],
   "source": [
    "final_hits = pd.read_csv(f'{data_folder}/finished/final_hits.csv', sep=',', header=0)\n",
    "final_inactives = pd.read_csv(f'{data_folder}/finished/final_inactives.csv', sep=',', header=0)"
   ]
  },
  {
   "cell_type": "code",
   "execution_count": 122,
   "metadata": {},
   "outputs": [
    {
     "name": "stdout",
     "output_type": "stream",
     "text": [
      "1 out of 1 complete\n"
     ]
    }
   ],
   "source": [
    "#Data to be extracted from the assay:\n",
    "regression_type = 'EC50_uM'\n",
    "col_list = ['PUBCHEM_CID', regression_type]\n",
    "float_available_AIDs = [2821]\n",
    "\n",
    "count = 0\n",
    "for AID in float_available_AIDs:\n",
    "    url = f'https://pubchem.ncbi.nlm.nih.gov/assay/pcget.cgi?query=download&record_type=datatable&actvty=all&response_type=save&aid={AID}'\n",
    "    assay = pd.read_csv(url, usecols=col_list)\n",
    "\n",
    "    #delete rows with nan values\n",
    "    assay = assay.dropna(subset=col_list)\n",
    "    \n",
    "    #convert regression data to float\n",
    "    assay[regression_type] = assay[regression_type].astype(float)\n",
    "\n",
    "    #convert cids to int: \n",
    "    assay['PUBCHEM_CID'] = assay['PUBCHEM_CID'].astype(int)\n",
    "\n",
    "    #reindex assay dataframe from 0:\n",
    "    assay.reset_index(drop=True, inplace=True)\n",
    "\n",
    "    #Create a new folder to save the data:\n",
    "    if not os.path.exists(f'{data_folder}/before_finished/regression_data'):\n",
    "        os.makedirs(f'{data_folder}/before_finished/regression_data')\n",
    "    assay.to_csv(f'{data_folder}/before_finished/regression_data/AID{AID}_{regression_type}.csv', index=False)\n",
    "    count += 1\n",
    "    print(f'{count} out of {len(float_available_AIDs)} complete')"
   ]
  },
  {
   "cell_type": "code",
   "execution_count": 123,
   "metadata": {},
   "outputs": [],
   "source": [
    "regression_CIDs = []\n",
    "for AID in float_available_AIDs:\n",
    "    exec(f'AID{AID}_regression = pd.read_csv(\"{data_folder}/before_finished/regression_data/AID{AID}_{regression_type}.csv\", sep=\",\", header=0)')\n",
    "    exec(f'regression_CIDs.extend(AID{AID}_regression[\"PUBCHEM_CID\"].tolist())')\n",
    "regression_CIDs = list(set(regression_CIDs))"
   ]
  },
  {
   "cell_type": "code",
   "execution_count": 124,
   "metadata": {},
   "outputs": [],
   "source": [
    "#Make the regression data a dictionary: \n",
    "regression_dict = {}\n",
    "for index, row in AID2821_regression.iterrows():\n",
    "    regression_dict[row['PUBCHEM_CID']] = row['EC50_uM']"
   ]
  },
  {
   "cell_type": "code",
   "execution_count": 125,
   "metadata": {},
   "outputs": [],
   "source": [
    "cut_off = \"not reported (IC50 > 1 log over the highest tested concentration being active)\" #note the cut off value for hits\n",
    "inactive_fixed = 1000 #set a fixed value for inactives\n",
    "unit = 'uM' #unit of the regression values\n",
    "URLs = []\n",
    "for AID in float_available_AIDs:\n",
    "    URL = f'https://pubchem.ncbi.nlm.nih.gov/bioassay/{AID}'\n",
    "    URLs.append(URL)"
   ]
  },
  {
   "cell_type": "code",
   "execution_count": 126,
   "metadata": {},
   "outputs": [],
   "source": [
    "#Export the regression dict: \n",
    "with open(f'{data_folder}/before_finished/regression_data/regression_dict.json', 'w') as f:\n",
    "    json.dump(regression_dict, f)\n",
    "\n",
    "with open(f'{data_folder}/before_finished/regression_data/activity_value_details.txt', 'w') as f:\n",
    "    f.write(f\"\"\"The regression data was extracted from AIDs: {float_available_AIDs}.\n",
    "The {regression_type} values were averaged if there were multiple assays. \n",
    "The final {regression_type} data exported for {len(regression_dict)} unique compounds, parsable from column \"activity_value\" in the .csv files with unit {unit}.\n",
    "The range of {regression_type} values reported were from {min(regression_dict.values())} to {max(regression_dict.values())}.\n",
    "For final inactives, the {regression_type} value was set to {inactive_fixed} {unit} if dose-response info was not available. This value could be modified by users.\n",
    "The cut-off for activity was {cut_off} uM, which was retrieved from the PubChem database from the following URL(s):\n",
    "\"\"\")\n",
    "    f.write(f'\\n'.join(URLs))"
   ]
  },
  {
   "cell_type": "code",
   "execution_count": 127,
   "metadata": {},
   "outputs": [],
   "source": [
    "for index, row in final_hits.iterrows():\n",
    "    if row['PUBCHEM_CID'] in regression_dict:\n",
    "        final_hits.at[index, 'activity_value'] = regression_dict[row['PUBCHEM_CID']]\n",
    "\n",
    "for index, row in final_inactives.iterrows():\n",
    "    if row['PUBCHEM_CID'] in regression_dict:\n",
    "        final_inactives.at[index, 'activity_value'] = regression_dict[row['PUBCHEM_CID']]\n",
    "    else: \n",
    "        final_inactives.at[index, 'activity_value'] = inactive_fixed"
   ]
  },
  {
   "cell_type": "code",
   "execution_count": 128,
   "metadata": {},
   "outputs": [],
   "source": [
    "# Rename the columns:\n",
    "final_hits = final_hits.rename(columns={\n",
    "    'PUBCHEM_CID': 'CID', \n",
    "    'PUBCHEM_ACTIVITY_OUTCOME': 'activity_outcome',\n",
    "    'PUBCHEM_EXT_DATASOURCE_SMILES': 'SMILES',\n",
    "    'Mol removed from mixture': 'mol_removed_from_mixture',\n",
    "    'Small inorganic molecule': 'small_inorganic_mol_from_mixture',\n",
    "    'Small organic molecule': 'small_organic_mol_from_mixture'\n",
    "})\n",
    "final_inactives = final_inactives.rename(columns={\n",
    "    'PUBCHEM_CID': 'CID', \n",
    "    'PUBCHEM_ACTIVITY_OUTCOME': 'activity_outcome',\n",
    "    'PUBCHEM_EXT_DATASOURCE_SMILES': 'SMILES',\n",
    "    'Mol removed from mixture': 'mol_removed_from_mixture',\n",
    "    'Small inorganic molecule': 'small_inorganic_mol_from_mixture',\n",
    "    'Small organic molecule': 'small_organic_mol_from_mixture'\n",
    "})"
   ]
  },
  {
   "cell_type": "code",
   "execution_count": 129,
   "metadata": {},
   "outputs": [],
   "source": [
    "#swap the positions of the columns InChI and activity_outcome: \n",
    "final_hits = final_hits[['CID', 'SMILES', 'InChI', 'activity_outcome', 'activity_value', 'mol_removed_from_mixture', 'small_inorganic_mol_from_mixture', 'small_organic_mol_from_mixture']]\n",
    "final_inactives = final_inactives[['CID', 'SMILES', 'InChI', 'activity_outcome', 'activity_value', 'mol_removed_from_mixture', 'small_inorganic_mol_from_mixture', 'small_organic_mol_from_mixture']]"
   ]
  },
  {
   "cell_type": "code",
   "execution_count": 130,
   "metadata": {},
   "outputs": [],
   "source": [
    "#export: \n",
    "final_hits.to_csv(f'{data_folder}/finished/final_hits.csv', sep=',', index=False)\n",
    "final_inactives.to_csv(f'{data_folder}/finished/final_inactives.csv', sep=',', index=False)"
   ]
  },
  {
   "cell_type": "markdown",
   "metadata": {},
   "source": [
    "# 0.2. Convert to txt for CORINA"
   ]
  },
  {
   "cell_type": "code",
   "execution_count": 131,
   "metadata": {},
   "outputs": [],
   "source": [
    "# import the final hits and inactives:\n",
    "final_hits = pd.read_csv(f'{data_folder}/finished/final_hits.csv', sep=',', header=0)\n",
    "final_inactives = pd.read_csv(f'{data_folder}/finished/final_inactives.csv', sep=',', header=0) \n",
    "\n",
    "# export to .txt files:\n",
    "final_hits.to_csv(f'{data_folder}/finished/final_hits.txt', sep=';', index=False, header=False)\n",
    "final_inactives.to_csv(f'{data_folder}/finished/final_inactives.txt', sep=';', index=False, header=False)"
   ]
  },
  {
   "cell_type": "markdown",
   "metadata": {},
   "source": [
    "# 0.3. Exporting raw data without further curation (only smiles, inchi) for control experiments"
   ]
  },
  {
   "cell_type": "code",
   "execution_count": 132,
   "metadata": {},
   "outputs": [],
   "source": [
    "for AID in AIDs: \n",
    "    exec(f\"raw{AID} = pd.read_csv(f'{data_folder}/before_finished/step_1/AID{AID}.csv', sep=',', header=0)\")\n",
    "\n",
    "#import inchi:\n",
    "for AID in AIDs: \n",
    "    exec(f\"std_inchi{AID} = pd.read_csv(f'{data_folder}/before_finished/step_3/std_inchi_{AID}.txt', sep='\\t', header=None)\")\n",
    "\n",
    "#Update inchi\n",
    "for AID in AIDs: \n",
    "    exec(f\"\"\"\n",
    "raw_inchi_dict{AID} = dict(zip(std_inchi{AID}[0], std_inchi{AID}[1]))\n",
    "raw{AID}['InChI'] = raw{AID}['PUBCHEM_CID'].map(raw_inchi_dict{AID})\n",
    "\"\"\")"
   ]
  },
  {
   "cell_type": "code",
   "execution_count": 133,
   "metadata": {},
   "outputs": [],
   "source": [
    "raw_hits = raw2661[raw2661['PUBCHEM_ACTIVITY_OUTCOME'] == 'Active']\n",
    "raw_inactives = raw2661[raw2661['PUBCHEM_ACTIVITY_OUTCOME'] == 'Inactive']"
   ]
  },
  {
   "cell_type": "code",
   "execution_count": 135,
   "metadata": {},
   "outputs": [],
   "source": [
    "# Get the average activity values of hits:\n",
    "final_hits = pd.read_csv(f'{data_folder}/finished/final_hits.csv', sep=',', header=0)\n",
    "activity_values = final_hits['activity_value'].tolist()\n",
    "average_activity_value = sum(activity_values) / len(activity_values)\n",
    "\n",
    "# Update the activity values: \n",
    "for index, row in raw_hits.iterrows():\n",
    "    if row['PUBCHEM_CID'] in regression_dict:\n",
    "        raw_hits.loc[index, 'activity_value'] = regression_dict[row['PUBCHEM_CID']]\n",
    "    else:\n",
    "        raw_hits.loc[index, 'activity_value'] = average_activity_value\n",
    "\n",
    "for index, row in raw_inactives.iterrows():\n",
    "    if row['PUBCHEM_CID'] in regression_dict:\n",
    "        raw_inactives.loc[index, 'activity_value'] = regression_dict[row['PUBCHEM_CID']]\n",
    "    else: \n",
    "        raw_inactives.loc[index, 'activity_value'] = inactive_fixed"
   ]
  },
  {
   "cell_type": "code",
   "execution_count": 137,
   "metadata": {},
   "outputs": [],
   "source": [
    "# Add some other columns to match the format of the curated data: \n",
    "raw_hits.loc[:, 'mol_removed_from_mixture'] = np.nan\n",
    "raw_hits.loc[:, 'small_inorganic_mol_from_mixture'] = np.nan\n",
    "raw_hits.loc[:, 'small_organic_mol_from_mixture'] = np.nan\n",
    "\n",
    "raw_inactives.loc[:, 'mol_removed_from_mixture'] = np.nan\n",
    "raw_inactives.loc[:, 'small_inorganic_mol_from_mixture'] = np.nan\n",
    "raw_inactives.loc[:, 'small_organic_mol_from_mixture'] = np.nan"
   ]
  },
  {
   "cell_type": "code",
   "execution_count": 138,
   "metadata": {},
   "outputs": [],
   "source": [
    "# Rename the columns:\n",
    "raw_hits = raw_hits.rename(columns={\n",
    "    'PUBCHEM_CID': 'CID', \n",
    "    'PUBCHEM_ACTIVITY_OUTCOME': 'activity_outcome',\n",
    "    'PUBCHEM_EXT_DATASOURCE_SMILES': 'SMILES',\n",
    "})\n",
    "raw_inactives = raw_inactives.rename(columns={\n",
    "    'PUBCHEM_CID': 'CID', \n",
    "    'PUBCHEM_ACTIVITY_OUTCOME': 'activity_outcome',\n",
    "    'PUBCHEM_EXT_DATASOURCE_SMILES': 'SMILES',\n",
    "})\n",
    "\n",
    "#swap the positions of the columns InChI and activity_outcome: \n",
    "raw_hits = raw_hits[['CID', 'SMILES', 'InChI', 'activity_outcome', 'activity_value', 'mol_removed_from_mixture', 'small_inorganic_mol_from_mixture', 'small_organic_mol_from_mixture']]\n",
    "raw_inactives = raw_inactives[['CID', 'SMILES', 'InChI', 'activity_outcome', 'activity_value', 'mol_removed_from_mixture', 'small_inorganic_mol_from_mixture', 'small_organic_mol_from_mixture']]"
   ]
  },
  {
   "cell_type": "code",
   "execution_count": 139,
   "metadata": {},
   "outputs": [],
   "source": [
    "if not os.path.exists(f'{data_folder}/finished/control_data'):\n",
    "    os.makedirs(f'{data_folder}/finished/control_data')\n",
    "\n",
    "#save the hits and inactives\n",
    "raw_hits.to_csv(f'{data_folder}/finished/control_data/raw_hits.csv', sep=',', index=False)\n",
    "raw_inactives.to_csv(f'{data_folder}/finished/control_data/raw_inactives.csv', sep=',', index=False)\n",
    "\n",
    "#save as txt: \n",
    "raw_hits.to_csv(f'{data_folder}/finished/control_data/raw_hits.txt', sep=';', index=False, header=False)\n",
    "raw_inactives.to_csv(f'{data_folder}/finished/control_data/raw_inactives.txt', sep=';', index=False, header=False)"
   ]
  }
 ],
 "metadata": {
  "kernelspec": {
   "display_name": "base",
   "language": "python",
   "name": "python3"
  },
  "language_info": {
   "codemirror_mode": {
    "name": "ipython",
    "version": 3
   },
   "file_extension": ".py",
   "mimetype": "text/x-python",
   "name": "python",
   "nbconvert_exporter": "python",
   "pygments_lexer": "ipython3",
   "version": "3.11.9"
  }
 },
 "nbformat": 4,
 "nbformat_minor": 2
}
